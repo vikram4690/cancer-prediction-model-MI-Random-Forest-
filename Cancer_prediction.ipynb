{
  "nbformat": 4,
  "nbformat_minor": 0,
  "metadata": {
    "colab": {
      "provenance": [],
      "gpuType": "T4"
    },
    "kernelspec": {
      "name": "python3",
      "display_name": "Python 3"
    },
    "language_info": {
      "name": "python"
    },
    "accelerator": "GPU"
  },
  "cells": [
    {
      "cell_type": "markdown",
      "source": [
        "import dependencies"
      ],
      "metadata": {
        "id": "TS1dTVNeBXpk"
      }
    },
    {
      "cell_type": "code",
      "execution_count": null,
      "metadata": {
        "id": "UaOJbN5N4jKl"
      },
      "outputs": [],
      "source": [
        "#data handling\n",
        "import pandas as pd\n",
        "import numpy as np\n",
        "\n",
        "#data visualization\n",
        "import matplotlib.pyplot as plt\n",
        "import seaborn as sns\n",
        "\n",
        "#preprocessing\n",
        "from sklearn.model_selection import train_test_split\n",
        "from sklearn.preprocessing import LabelEncoder\n",
        "from sklearn.preprocessing import label_binarize\n",
        "from sklearn.preprocessing import MinMaxScaler\n",
        "\n",
        "#feature selection\n",
        "from sklearn.feature_selection import mutual_info_classif\n",
        "\n",
        "#classification\n",
        "from sklearn.multiclass import OneVsRestClassifier\n",
        "from sklearn.ensemble import RandomForestClassifier\n",
        "\n",
        "# performance metrics\n",
        "from sklearn.metrics import balanced_accuracy_score,f1_score,precision_score, recall_score\n",
        "from sklearn.metrics import classification_report\n",
        "from sklearn.metrics import confusion_matrix\n",
        "# Import ConfusionMatrixDisplay instead of plot_confusion_matrix\n",
        "from sklearn.metrics import ConfusionMatrixDisplay\n",
        "from sklearn.metrics import roc_curve,auc\n",
        "from sklearn.metrics import roc_auc_score"
      ]
    },
    {
      "cell_type": "markdown",
      "source": [
        "load data"
      ],
      "metadata": {
        "id": "i1PhdujlBdZX"
      }
    },
    {
      "cell_type": "code",
      "source": [
        "#read data directly from a github repository\n",
        "\n",
        "file_url='https://github.com/vappiah/Machine-Learning-Tutorials/raw/main/datasets/cancer_gene_expression.zip'\n",
        "\n",
        "df=pd.read_csv(file_url)"
      ],
      "metadata": {
        "id": "y2wZPLEh4klr"
      },
      "execution_count": null,
      "outputs": []
    },
    {
      "cell_type": "code",
      "source": [
        "df"
      ],
      "metadata": {
        "colab": {
          "base_uri": "https://localhost:8080/",
          "height": 443
        },
        "id": "Qv0mMs5bAo5u",
        "outputId": "3ac0237b-ac59-4d9a-daa0-d7dd380160b1"
      },
      "execution_count": null,
      "outputs": [
        {
          "output_type": "execute_result",
          "data": {
            "text/plain": [
              "     gene_1    gene_2  gene_3    gene_4  gene_5  gene_6  gene_7  gene_8  \\\n",
              "0       0.0  0.000000     0.0  2.088413     0.0     0.0     0.0     0.0   \n",
              "1       0.0  0.000000     0.0  3.205955     0.0     0.0     0.0     0.0   \n",
              "2       0.0  0.000000     0.0  4.746646     0.0     0.0     0.0     0.0   \n",
              "3       0.0  0.000000     0.0  1.173191     0.0     0.0     0.0     0.0   \n",
              "4       0.0  0.000000     0.0  1.366532     0.0     0.0     0.0     0.0   \n",
              "..      ...       ...     ...       ...     ...     ...     ...     ...   \n",
              "796     0.0  2.933384     0.0  1.683921     0.0     0.0     0.0     0.0   \n",
              "797     0.0  0.000000     0.0  2.772625     0.0     0.0     0.0     0.0   \n",
              "798     0.0  0.408277     0.0  1.854754     0.0     0.0     0.0     0.0   \n",
              "799     0.0  0.639232     0.0  3.226971     0.0     0.0     0.0     0.0   \n",
              "800     0.0  0.000000     0.0  2.336912     0.0     0.0     0.0     0.0   \n",
              "\n",
              "       gene_9   gene_10  ...  gene_7992  gene_7993  gene_7994  gene_7995  \\\n",
              "0    0.550605  2.815760  ...  11.558803   8.881802   6.014840   6.643534   \n",
              "1    0.425244  2.354396  ...  11.062829   9.032864   5.054193   6.432320   \n",
              "2    2.639417  1.657091  ...  12.497640   7.198160   0.943434   7.371690   \n",
              "3    1.527371  2.732899  ...  11.261713   8.725676   6.300418   6.036451   \n",
              "4    0.000000  3.388355  ...  12.241965   7.685204   5.142948   6.355788   \n",
              "..        ...       ...  ...        ...        ...        ...        ...   \n",
              "796  0.635336  1.252839  ...   9.985842   9.469967   4.225275   6.955336   \n",
              "797  0.534759  3.761764  ...  12.334681   8.157327   1.482797   6.758183   \n",
              "798  0.000000  0.986520  ...  11.671992   8.859616   6.393828   6.427115   \n",
              "799  1.921322  0.639232  ...  12.237087   5.753976   4.192478   6.614875   \n",
              "800  0.926379  1.233090  ...  11.086966   8.345086   7.789018   6.472460   \n",
              "\n",
              "     gene_7996  gene_7997  gene_7998  gene_7999  gene_8000  Cancer_Type  \n",
              "0    11.740624   7.065012   9.932659   6.928584   2.088413         KIRC  \n",
              "1    12.104985   7.300746   9.872796   5.039231   2.448002         KIRC  \n",
              "2    11.202356   8.426588  11.176890   3.119738   4.433988         BRCA  \n",
              "3    11.732303   7.559469   9.596453   2.863046   3.380342         KIRC  \n",
              "4    11.493950   8.139444  10.189256   6.544487   0.839395         COAD  \n",
              "..         ...        ...        ...        ...        ...          ...  \n",
              "796  11.722206   7.309940  10.986119   6.396848   1.252839         BRCA  \n",
              "797  11.403838   9.005347  11.012045   5.386625   1.697640         COAD  \n",
              "798  11.596586   7.454127  10.718533   5.507417   1.398131         BRCA  \n",
              "799  11.183245   7.544261  10.649382   5.282158   0.639232         BRCA  \n",
              "800  11.819836   8.082942  10.397717   7.550000   0.926379         COAD  \n",
              "\n",
              "[801 rows x 8001 columns]"
            ],
            "text/html": [
              "\n",
              "  <div id=\"df-5b15b1c5-e629-4858-b37c-e6c126e55c52\" class=\"colab-df-container\">\n",
              "    <div>\n",
              "<style scoped>\n",
              "    .dataframe tbody tr th:only-of-type {\n",
              "        vertical-align: middle;\n",
              "    }\n",
              "\n",
              "    .dataframe tbody tr th {\n",
              "        vertical-align: top;\n",
              "    }\n",
              "\n",
              "    .dataframe thead th {\n",
              "        text-align: right;\n",
              "    }\n",
              "</style>\n",
              "<table border=\"1\" class=\"dataframe\">\n",
              "  <thead>\n",
              "    <tr style=\"text-align: right;\">\n",
              "      <th></th>\n",
              "      <th>gene_1</th>\n",
              "      <th>gene_2</th>\n",
              "      <th>gene_3</th>\n",
              "      <th>gene_4</th>\n",
              "      <th>gene_5</th>\n",
              "      <th>gene_6</th>\n",
              "      <th>gene_7</th>\n",
              "      <th>gene_8</th>\n",
              "      <th>gene_9</th>\n",
              "      <th>gene_10</th>\n",
              "      <th>...</th>\n",
              "      <th>gene_7992</th>\n",
              "      <th>gene_7993</th>\n",
              "      <th>gene_7994</th>\n",
              "      <th>gene_7995</th>\n",
              "      <th>gene_7996</th>\n",
              "      <th>gene_7997</th>\n",
              "      <th>gene_7998</th>\n",
              "      <th>gene_7999</th>\n",
              "      <th>gene_8000</th>\n",
              "      <th>Cancer_Type</th>\n",
              "    </tr>\n",
              "  </thead>\n",
              "  <tbody>\n",
              "    <tr>\n",
              "      <th>0</th>\n",
              "      <td>0.0</td>\n",
              "      <td>0.000000</td>\n",
              "      <td>0.0</td>\n",
              "      <td>2.088413</td>\n",
              "      <td>0.0</td>\n",
              "      <td>0.0</td>\n",
              "      <td>0.0</td>\n",
              "      <td>0.0</td>\n",
              "      <td>0.550605</td>\n",
              "      <td>2.815760</td>\n",
              "      <td>...</td>\n",
              "      <td>11.558803</td>\n",
              "      <td>8.881802</td>\n",
              "      <td>6.014840</td>\n",
              "      <td>6.643534</td>\n",
              "      <td>11.740624</td>\n",
              "      <td>7.065012</td>\n",
              "      <td>9.932659</td>\n",
              "      <td>6.928584</td>\n",
              "      <td>2.088413</td>\n",
              "      <td>KIRC</td>\n",
              "    </tr>\n",
              "    <tr>\n",
              "      <th>1</th>\n",
              "      <td>0.0</td>\n",
              "      <td>0.000000</td>\n",
              "      <td>0.0</td>\n",
              "      <td>3.205955</td>\n",
              "      <td>0.0</td>\n",
              "      <td>0.0</td>\n",
              "      <td>0.0</td>\n",
              "      <td>0.0</td>\n",
              "      <td>0.425244</td>\n",
              "      <td>2.354396</td>\n",
              "      <td>...</td>\n",
              "      <td>11.062829</td>\n",
              "      <td>9.032864</td>\n",
              "      <td>5.054193</td>\n",
              "      <td>6.432320</td>\n",
              "      <td>12.104985</td>\n",
              "      <td>7.300746</td>\n",
              "      <td>9.872796</td>\n",
              "      <td>5.039231</td>\n",
              "      <td>2.448002</td>\n",
              "      <td>KIRC</td>\n",
              "    </tr>\n",
              "    <tr>\n",
              "      <th>2</th>\n",
              "      <td>0.0</td>\n",
              "      <td>0.000000</td>\n",
              "      <td>0.0</td>\n",
              "      <td>4.746646</td>\n",
              "      <td>0.0</td>\n",
              "      <td>0.0</td>\n",
              "      <td>0.0</td>\n",
              "      <td>0.0</td>\n",
              "      <td>2.639417</td>\n",
              "      <td>1.657091</td>\n",
              "      <td>...</td>\n",
              "      <td>12.497640</td>\n",
              "      <td>7.198160</td>\n",
              "      <td>0.943434</td>\n",
              "      <td>7.371690</td>\n",
              "      <td>11.202356</td>\n",
              "      <td>8.426588</td>\n",
              "      <td>11.176890</td>\n",
              "      <td>3.119738</td>\n",
              "      <td>4.433988</td>\n",
              "      <td>BRCA</td>\n",
              "    </tr>\n",
              "    <tr>\n",
              "      <th>3</th>\n",
              "      <td>0.0</td>\n",
              "      <td>0.000000</td>\n",
              "      <td>0.0</td>\n",
              "      <td>1.173191</td>\n",
              "      <td>0.0</td>\n",
              "      <td>0.0</td>\n",
              "      <td>0.0</td>\n",
              "      <td>0.0</td>\n",
              "      <td>1.527371</td>\n",
              "      <td>2.732899</td>\n",
              "      <td>...</td>\n",
              "      <td>11.261713</td>\n",
              "      <td>8.725676</td>\n",
              "      <td>6.300418</td>\n",
              "      <td>6.036451</td>\n",
              "      <td>11.732303</td>\n",
              "      <td>7.559469</td>\n",
              "      <td>9.596453</td>\n",
              "      <td>2.863046</td>\n",
              "      <td>3.380342</td>\n",
              "      <td>KIRC</td>\n",
              "    </tr>\n",
              "    <tr>\n",
              "      <th>4</th>\n",
              "      <td>0.0</td>\n",
              "      <td>0.000000</td>\n",
              "      <td>0.0</td>\n",
              "      <td>1.366532</td>\n",
              "      <td>0.0</td>\n",
              "      <td>0.0</td>\n",
              "      <td>0.0</td>\n",
              "      <td>0.0</td>\n",
              "      <td>0.000000</td>\n",
              "      <td>3.388355</td>\n",
              "      <td>...</td>\n",
              "      <td>12.241965</td>\n",
              "      <td>7.685204</td>\n",
              "      <td>5.142948</td>\n",
              "      <td>6.355788</td>\n",
              "      <td>11.493950</td>\n",
              "      <td>8.139444</td>\n",
              "      <td>10.189256</td>\n",
              "      <td>6.544487</td>\n",
              "      <td>0.839395</td>\n",
              "      <td>COAD</td>\n",
              "    </tr>\n",
              "    <tr>\n",
              "      <th>...</th>\n",
              "      <td>...</td>\n",
              "      <td>...</td>\n",
              "      <td>...</td>\n",
              "      <td>...</td>\n",
              "      <td>...</td>\n",
              "      <td>...</td>\n",
              "      <td>...</td>\n",
              "      <td>...</td>\n",
              "      <td>...</td>\n",
              "      <td>...</td>\n",
              "      <td>...</td>\n",
              "      <td>...</td>\n",
              "      <td>...</td>\n",
              "      <td>...</td>\n",
              "      <td>...</td>\n",
              "      <td>...</td>\n",
              "      <td>...</td>\n",
              "      <td>...</td>\n",
              "      <td>...</td>\n",
              "      <td>...</td>\n",
              "      <td>...</td>\n",
              "    </tr>\n",
              "    <tr>\n",
              "      <th>796</th>\n",
              "      <td>0.0</td>\n",
              "      <td>2.933384</td>\n",
              "      <td>0.0</td>\n",
              "      <td>1.683921</td>\n",
              "      <td>0.0</td>\n",
              "      <td>0.0</td>\n",
              "      <td>0.0</td>\n",
              "      <td>0.0</td>\n",
              "      <td>0.635336</td>\n",
              "      <td>1.252839</td>\n",
              "      <td>...</td>\n",
              "      <td>9.985842</td>\n",
              "      <td>9.469967</td>\n",
              "      <td>4.225275</td>\n",
              "      <td>6.955336</td>\n",
              "      <td>11.722206</td>\n",
              "      <td>7.309940</td>\n",
              "      <td>10.986119</td>\n",
              "      <td>6.396848</td>\n",
              "      <td>1.252839</td>\n",
              "      <td>BRCA</td>\n",
              "    </tr>\n",
              "    <tr>\n",
              "      <th>797</th>\n",
              "      <td>0.0</td>\n",
              "      <td>0.000000</td>\n",
              "      <td>0.0</td>\n",
              "      <td>2.772625</td>\n",
              "      <td>0.0</td>\n",
              "      <td>0.0</td>\n",
              "      <td>0.0</td>\n",
              "      <td>0.0</td>\n",
              "      <td>0.534759</td>\n",
              "      <td>3.761764</td>\n",
              "      <td>...</td>\n",
              "      <td>12.334681</td>\n",
              "      <td>8.157327</td>\n",
              "      <td>1.482797</td>\n",
              "      <td>6.758183</td>\n",
              "      <td>11.403838</td>\n",
              "      <td>9.005347</td>\n",
              "      <td>11.012045</td>\n",
              "      <td>5.386625</td>\n",
              "      <td>1.697640</td>\n",
              "      <td>COAD</td>\n",
              "    </tr>\n",
              "    <tr>\n",
              "      <th>798</th>\n",
              "      <td>0.0</td>\n",
              "      <td>0.408277</td>\n",
              "      <td>0.0</td>\n",
              "      <td>1.854754</td>\n",
              "      <td>0.0</td>\n",
              "      <td>0.0</td>\n",
              "      <td>0.0</td>\n",
              "      <td>0.0</td>\n",
              "      <td>0.000000</td>\n",
              "      <td>0.986520</td>\n",
              "      <td>...</td>\n",
              "      <td>11.671992</td>\n",
              "      <td>8.859616</td>\n",
              "      <td>6.393828</td>\n",
              "      <td>6.427115</td>\n",
              "      <td>11.596586</td>\n",
              "      <td>7.454127</td>\n",
              "      <td>10.718533</td>\n",
              "      <td>5.507417</td>\n",
              "      <td>1.398131</td>\n",
              "      <td>BRCA</td>\n",
              "    </tr>\n",
              "    <tr>\n",
              "      <th>799</th>\n",
              "      <td>0.0</td>\n",
              "      <td>0.639232</td>\n",
              "      <td>0.0</td>\n",
              "      <td>3.226971</td>\n",
              "      <td>0.0</td>\n",
              "      <td>0.0</td>\n",
              "      <td>0.0</td>\n",
              "      <td>0.0</td>\n",
              "      <td>1.921322</td>\n",
              "      <td>0.639232</td>\n",
              "      <td>...</td>\n",
              "      <td>12.237087</td>\n",
              "      <td>5.753976</td>\n",
              "      <td>4.192478</td>\n",
              "      <td>6.614875</td>\n",
              "      <td>11.183245</td>\n",
              "      <td>7.544261</td>\n",
              "      <td>10.649382</td>\n",
              "      <td>5.282158</td>\n",
              "      <td>0.639232</td>\n",
              "      <td>BRCA</td>\n",
              "    </tr>\n",
              "    <tr>\n",
              "      <th>800</th>\n",
              "      <td>0.0</td>\n",
              "      <td>0.000000</td>\n",
              "      <td>0.0</td>\n",
              "      <td>2.336912</td>\n",
              "      <td>0.0</td>\n",
              "      <td>0.0</td>\n",
              "      <td>0.0</td>\n",
              "      <td>0.0</td>\n",
              "      <td>0.926379</td>\n",
              "      <td>1.233090</td>\n",
              "      <td>...</td>\n",
              "      <td>11.086966</td>\n",
              "      <td>8.345086</td>\n",
              "      <td>7.789018</td>\n",
              "      <td>6.472460</td>\n",
              "      <td>11.819836</td>\n",
              "      <td>8.082942</td>\n",
              "      <td>10.397717</td>\n",
              "      <td>7.550000</td>\n",
              "      <td>0.926379</td>\n",
              "      <td>COAD</td>\n",
              "    </tr>\n",
              "  </tbody>\n",
              "</table>\n",
              "<p>801 rows × 8001 columns</p>\n",
              "</div>\n",
              "    <div class=\"colab-df-buttons\">\n",
              "\n",
              "  <div class=\"colab-df-container\">\n",
              "    <button class=\"colab-df-convert\" onclick=\"convertToInteractive('df-5b15b1c5-e629-4858-b37c-e6c126e55c52')\"\n",
              "            title=\"Convert this dataframe to an interactive table.\"\n",
              "            style=\"display:none;\">\n",
              "\n",
              "  <svg xmlns=\"http://www.w3.org/2000/svg\" height=\"24px\" viewBox=\"0 -960 960 960\">\n",
              "    <path d=\"M120-120v-720h720v720H120Zm60-500h600v-160H180v160Zm220 220h160v-160H400v160Zm0 220h160v-160H400v160ZM180-400h160v-160H180v160Zm440 0h160v-160H620v160ZM180-180h160v-160H180v160Zm440 0h160v-160H620v160Z\"/>\n",
              "  </svg>\n",
              "    </button>\n",
              "\n",
              "  <style>\n",
              "    .colab-df-container {\n",
              "      display:flex;\n",
              "      gap: 12px;\n",
              "    }\n",
              "\n",
              "    .colab-df-convert {\n",
              "      background-color: #E8F0FE;\n",
              "      border: none;\n",
              "      border-radius: 50%;\n",
              "      cursor: pointer;\n",
              "      display: none;\n",
              "      fill: #1967D2;\n",
              "      height: 32px;\n",
              "      padding: 0 0 0 0;\n",
              "      width: 32px;\n",
              "    }\n",
              "\n",
              "    .colab-df-convert:hover {\n",
              "      background-color: #E2EBFA;\n",
              "      box-shadow: 0px 1px 2px rgba(60, 64, 67, 0.3), 0px 1px 3px 1px rgba(60, 64, 67, 0.15);\n",
              "      fill: #174EA6;\n",
              "    }\n",
              "\n",
              "    .colab-df-buttons div {\n",
              "      margin-bottom: 4px;\n",
              "    }\n",
              "\n",
              "    [theme=dark] .colab-df-convert {\n",
              "      background-color: #3B4455;\n",
              "      fill: #D2E3FC;\n",
              "    }\n",
              "\n",
              "    [theme=dark] .colab-df-convert:hover {\n",
              "      background-color: #434B5C;\n",
              "      box-shadow: 0px 1px 3px 1px rgba(0, 0, 0, 0.15);\n",
              "      filter: drop-shadow(0px 1px 2px rgba(0, 0, 0, 0.3));\n",
              "      fill: #FFFFFF;\n",
              "    }\n",
              "  </style>\n",
              "\n",
              "    <script>\n",
              "      const buttonEl =\n",
              "        document.querySelector('#df-5b15b1c5-e629-4858-b37c-e6c126e55c52 button.colab-df-convert');\n",
              "      buttonEl.style.display =\n",
              "        google.colab.kernel.accessAllowed ? 'block' : 'none';\n",
              "\n",
              "      async function convertToInteractive(key) {\n",
              "        const element = document.querySelector('#df-5b15b1c5-e629-4858-b37c-e6c126e55c52');\n",
              "        const dataTable =\n",
              "          await google.colab.kernel.invokeFunction('convertToInteractive',\n",
              "                                                    [key], {});\n",
              "        if (!dataTable) return;\n",
              "\n",
              "        const docLinkHtml = 'Like what you see? Visit the ' +\n",
              "          '<a target=\"_blank\" href=https://colab.research.google.com/notebooks/data_table.ipynb>data table notebook</a>'\n",
              "          + ' to learn more about interactive tables.';\n",
              "        element.innerHTML = '';\n",
              "        dataTable['output_type'] = 'display_data';\n",
              "        await google.colab.output.renderOutput(dataTable, element);\n",
              "        const docLink = document.createElement('div');\n",
              "        docLink.innerHTML = docLinkHtml;\n",
              "        element.appendChild(docLink);\n",
              "      }\n",
              "    </script>\n",
              "  </div>\n",
              "\n",
              "\n",
              "    <div id=\"df-ee1e148b-a0e5-4fc7-b163-4b7302498f9c\">\n",
              "      <button class=\"colab-df-quickchart\" onclick=\"quickchart('df-ee1e148b-a0e5-4fc7-b163-4b7302498f9c')\"\n",
              "                title=\"Suggest charts\"\n",
              "                style=\"display:none;\">\n",
              "\n",
              "<svg xmlns=\"http://www.w3.org/2000/svg\" height=\"24px\"viewBox=\"0 0 24 24\"\n",
              "     width=\"24px\">\n",
              "    <g>\n",
              "        <path d=\"M19 3H5c-1.1 0-2 .9-2 2v14c0 1.1.9 2 2 2h14c1.1 0 2-.9 2-2V5c0-1.1-.9-2-2-2zM9 17H7v-7h2v7zm4 0h-2V7h2v10zm4 0h-2v-4h2v4z\"/>\n",
              "    </g>\n",
              "</svg>\n",
              "      </button>\n",
              "\n",
              "<style>\n",
              "  .colab-df-quickchart {\n",
              "      --bg-color: #E8F0FE;\n",
              "      --fill-color: #1967D2;\n",
              "      --hover-bg-color: #E2EBFA;\n",
              "      --hover-fill-color: #174EA6;\n",
              "      --disabled-fill-color: #AAA;\n",
              "      --disabled-bg-color: #DDD;\n",
              "  }\n",
              "\n",
              "  [theme=dark] .colab-df-quickchart {\n",
              "      --bg-color: #3B4455;\n",
              "      --fill-color: #D2E3FC;\n",
              "      --hover-bg-color: #434B5C;\n",
              "      --hover-fill-color: #FFFFFF;\n",
              "      --disabled-bg-color: #3B4455;\n",
              "      --disabled-fill-color: #666;\n",
              "  }\n",
              "\n",
              "  .colab-df-quickchart {\n",
              "    background-color: var(--bg-color);\n",
              "    border: none;\n",
              "    border-radius: 50%;\n",
              "    cursor: pointer;\n",
              "    display: none;\n",
              "    fill: var(--fill-color);\n",
              "    height: 32px;\n",
              "    padding: 0;\n",
              "    width: 32px;\n",
              "  }\n",
              "\n",
              "  .colab-df-quickchart:hover {\n",
              "    background-color: var(--hover-bg-color);\n",
              "    box-shadow: 0 1px 2px rgba(60, 64, 67, 0.3), 0 1px 3px 1px rgba(60, 64, 67, 0.15);\n",
              "    fill: var(--button-hover-fill-color);\n",
              "  }\n",
              "\n",
              "  .colab-df-quickchart-complete:disabled,\n",
              "  .colab-df-quickchart-complete:disabled:hover {\n",
              "    background-color: var(--disabled-bg-color);\n",
              "    fill: var(--disabled-fill-color);\n",
              "    box-shadow: none;\n",
              "  }\n",
              "\n",
              "  .colab-df-spinner {\n",
              "    border: 2px solid var(--fill-color);\n",
              "    border-color: transparent;\n",
              "    border-bottom-color: var(--fill-color);\n",
              "    animation:\n",
              "      spin 1s steps(1) infinite;\n",
              "  }\n",
              "\n",
              "  @keyframes spin {\n",
              "    0% {\n",
              "      border-color: transparent;\n",
              "      border-bottom-color: var(--fill-color);\n",
              "      border-left-color: var(--fill-color);\n",
              "    }\n",
              "    20% {\n",
              "      border-color: transparent;\n",
              "      border-left-color: var(--fill-color);\n",
              "      border-top-color: var(--fill-color);\n",
              "    }\n",
              "    30% {\n",
              "      border-color: transparent;\n",
              "      border-left-color: var(--fill-color);\n",
              "      border-top-color: var(--fill-color);\n",
              "      border-right-color: var(--fill-color);\n",
              "    }\n",
              "    40% {\n",
              "      border-color: transparent;\n",
              "      border-right-color: var(--fill-color);\n",
              "      border-top-color: var(--fill-color);\n",
              "    }\n",
              "    60% {\n",
              "      border-color: transparent;\n",
              "      border-right-color: var(--fill-color);\n",
              "    }\n",
              "    80% {\n",
              "      border-color: transparent;\n",
              "      border-right-color: var(--fill-color);\n",
              "      border-bottom-color: var(--fill-color);\n",
              "    }\n",
              "    90% {\n",
              "      border-color: transparent;\n",
              "      border-bottom-color: var(--fill-color);\n",
              "    }\n",
              "  }\n",
              "</style>\n",
              "\n",
              "      <script>\n",
              "        async function quickchart(key) {\n",
              "          const quickchartButtonEl =\n",
              "            document.querySelector('#' + key + ' button');\n",
              "          quickchartButtonEl.disabled = true;  // To prevent multiple clicks.\n",
              "          quickchartButtonEl.classList.add('colab-df-spinner');\n",
              "          try {\n",
              "            const charts = await google.colab.kernel.invokeFunction(\n",
              "                'suggestCharts', [key], {});\n",
              "          } catch (error) {\n",
              "            console.error('Error during call to suggestCharts:', error);\n",
              "          }\n",
              "          quickchartButtonEl.classList.remove('colab-df-spinner');\n",
              "          quickchartButtonEl.classList.add('colab-df-quickchart-complete');\n",
              "        }\n",
              "        (() => {\n",
              "          let quickchartButtonEl =\n",
              "            document.querySelector('#df-ee1e148b-a0e5-4fc7-b163-4b7302498f9c button');\n",
              "          quickchartButtonEl.style.display =\n",
              "            google.colab.kernel.accessAllowed ? 'block' : 'none';\n",
              "        })();\n",
              "      </script>\n",
              "    </div>\n",
              "\n",
              "  <div id=\"id_fc8f7fbc-ee7a-4aa1-b380-31d4048184b4\">\n",
              "    <style>\n",
              "      .colab-df-generate {\n",
              "        background-color: #E8F0FE;\n",
              "        border: none;\n",
              "        border-radius: 50%;\n",
              "        cursor: pointer;\n",
              "        display: none;\n",
              "        fill: #1967D2;\n",
              "        height: 32px;\n",
              "        padding: 0 0 0 0;\n",
              "        width: 32px;\n",
              "      }\n",
              "\n",
              "      .colab-df-generate:hover {\n",
              "        background-color: #E2EBFA;\n",
              "        box-shadow: 0px 1px 2px rgba(60, 64, 67, 0.3), 0px 1px 3px 1px rgba(60, 64, 67, 0.15);\n",
              "        fill: #174EA6;\n",
              "      }\n",
              "\n",
              "      [theme=dark] .colab-df-generate {\n",
              "        background-color: #3B4455;\n",
              "        fill: #D2E3FC;\n",
              "      }\n",
              "\n",
              "      [theme=dark] .colab-df-generate:hover {\n",
              "        background-color: #434B5C;\n",
              "        box-shadow: 0px 1px 3px 1px rgba(0, 0, 0, 0.15);\n",
              "        filter: drop-shadow(0px 1px 2px rgba(0, 0, 0, 0.3));\n",
              "        fill: #FFFFFF;\n",
              "      }\n",
              "    </style>\n",
              "    <button class=\"colab-df-generate\" onclick=\"generateWithVariable('df')\"\n",
              "            title=\"Generate code using this dataframe.\"\n",
              "            style=\"display:none;\">\n",
              "\n",
              "  <svg xmlns=\"http://www.w3.org/2000/svg\" height=\"24px\"viewBox=\"0 0 24 24\"\n",
              "       width=\"24px\">\n",
              "    <path d=\"M7,19H8.4L18.45,9,17,7.55,7,17.6ZM5,21V16.75L18.45,3.32a2,2,0,0,1,2.83,0l1.4,1.43a1.91,1.91,0,0,1,.58,1.4,1.91,1.91,0,0,1-.58,1.4L9.25,21ZM18.45,9,17,7.55Zm-12,3A5.31,5.31,0,0,0,4.9,8.1,5.31,5.31,0,0,0,1,6.5,5.31,5.31,0,0,0,4.9,4.9,5.31,5.31,0,0,0,6.5,1,5.31,5.31,0,0,0,8.1,4.9,5.31,5.31,0,0,0,12,6.5,5.46,5.46,0,0,0,6.5,12Z\"/>\n",
              "  </svg>\n",
              "    </button>\n",
              "    <script>\n",
              "      (() => {\n",
              "      const buttonEl =\n",
              "        document.querySelector('#id_fc8f7fbc-ee7a-4aa1-b380-31d4048184b4 button.colab-df-generate');\n",
              "      buttonEl.style.display =\n",
              "        google.colab.kernel.accessAllowed ? 'block' : 'none';\n",
              "\n",
              "      buttonEl.onclick = () => {\n",
              "        google.colab.notebook.generateWithVariable('df');\n",
              "      }\n",
              "      })();\n",
              "    </script>\n",
              "  </div>\n",
              "\n",
              "    </div>\n",
              "  </div>\n"
            ],
            "application/vnd.google.colaboratory.intrinsic+json": {
              "type": "dataframe",
              "variable_name": "df"
            }
          },
          "metadata": {},
          "execution_count": 4
        }
      ]
    },
    {
      "cell_type": "code",
      "source": [
        "#let's check the number of samples and features\n",
        "#note:the last column contain the labels. it is not considered as a feature\n",
        "\n",
        "print(df.shape)"
      ],
      "metadata": {
        "colab": {
          "base_uri": "https://localhost:8080/"
        },
        "id": "v4q8zo6g4ybH",
        "outputId": "55efd67a-de9a-4965-d4ce-e7f892e40eb4"
      },
      "execution_count": null,
      "outputs": [
        {
          "output_type": "stream",
          "name": "stdout",
          "text": [
            "(801, 8001)\n"
          ]
        }
      ]
    },
    {
      "cell_type": "code",
      "source": [
        "#let's check some of the columns (first, second and third columns)\n",
        "print(df.columns[0:3])"
      ],
      "metadata": {
        "colab": {
          "base_uri": "https://localhost:8080/"
        },
        "id": "f_dcpbXI46m6",
        "outputId": "4204e093-c11f-46e5-ef58-e775183abc24"
      },
      "execution_count": null,
      "outputs": [
        {
          "output_type": "stream",
          "name": "stdout",
          "text": [
            "Index(['gene_1', 'gene_2', 'gene_3'], dtype='object')\n"
          ]
        }
      ]
    },
    {
      "cell_type": "code",
      "source": [
        "#lets check the name of the last column of this dataframe\n",
        "\n",
        "df.columns[-1]"
      ],
      "metadata": {
        "colab": {
          "base_uri": "https://localhost:8080/",
          "height": 36
        },
        "id": "UQOiiP_E49na",
        "outputId": "43a4aaf1-14d6-42fd-af52-73d2ddedba66"
      },
      "execution_count": null,
      "outputs": [
        {
          "output_type": "execute_result",
          "data": {
            "text/plain": [
              "'Cancer_Type'"
            ],
            "application/vnd.google.colaboratory.intrinsic+json": {
              "type": "string"
            }
          },
          "metadata": {},
          "execution_count": 7
        }
      ]
    },
    {
      "cell_type": "code",
      "source": [
        "#check for missing values\n",
        "datanul=df.isnull().sum()\n",
        "g=[i for i in datanul if i>0]\n",
        "\n",
        "print('columns with missing values:%d'%len(g))"
      ],
      "metadata": {
        "colab": {
          "base_uri": "https://localhost:8080/"
        },
        "id": "mJOIZ__x5A2t",
        "outputId": "138ad399-7cf2-4b72-cc96-d5b946f86556"
      },
      "execution_count": null,
      "outputs": [
        {
          "output_type": "stream",
          "name": "stdout",
          "text": [
            "columns with missing values:0\n"
          ]
        }
      ]
    },
    {
      "cell_type": "code",
      "source": [
        "#let's check how many different cancer types are there in the data\n",
        "#note: in this tutorial the cancer types will be referred to as classes or labels\n",
        "\n",
        "print(df['Cancer_Type'].value_counts())"
      ],
      "metadata": {
        "colab": {
          "base_uri": "https://localhost:8080/"
        },
        "id": "lx7S6D_I5EBM",
        "outputId": "393adf8b-9354-4441-9fed-c561bb6bfd28"
      },
      "execution_count": null,
      "outputs": [
        {
          "output_type": "stream",
          "name": "stdout",
          "text": [
            "Cancer_Type\n",
            "BRCA    300\n",
            "KIRC    146\n",
            "LUAD    141\n",
            "PRAD    136\n",
            "COAD     78\n",
            "Name: count, dtype: int64\n"
          ]
        }
      ]
    },
    {
      "cell_type": "markdown",
      "source": [
        "| Abbreviation | Full Form                             |\n",
        "| ------------ | ------------------------------------- |\n",
        "| **BRCA**     | **Breast Invasive Carcinoma**         |\n",
        "| **KIRC**     | **Kidney Renal Clear Cell Carcinoma** |\n",
        "| **LUAD**     | **Lung Adenocarcinoma**               |\n",
        "| **PRAD**     | **Prostate Adenocarcinoma**           |\n",
        "| **COAD**     | **Colon Adenocarcinoma**              |\n"
      ],
      "metadata": {
        "id": "b-3S49jTCLcK"
      }
    },
    {
      "cell_type": "code",
      "source": [
        "#plot a bar chat to display the class distribution\n",
        "df['Cancer_Type'].value_counts().plot.bar()"
      ],
      "metadata": {
        "colab": {
          "base_uri": "https://localhost:8080/",
          "height": 494
        },
        "id": "YvSlhBMa5HvR",
        "outputId": "e4624d6d-d04e-4b37-c730-7b2760a1f8a9"
      },
      "execution_count": null,
      "outputs": [
        {
          "output_type": "execute_result",
          "data": {
            "text/plain": [
              "<Axes: xlabel='Cancer_Type'>"
            ]
          },
          "metadata": {},
          "execution_count": 10
        },
        {
          "output_type": "display_data",
          "data": {
            "text/plain": [
              "<Figure size 640x480 with 1 Axes>"
            ],
            "image/png": "[encoded data removed]"
          },
          "metadata": {}
        }
      ]
    },
    {
      "cell_type": "code",
      "source": [
        "#we will now seperate the feature values from the class. we do this because scikit-learn requires that features and class are separated before parsing them to the classifiers.\n",
        "\n",
        "X=df.iloc[:,0:-1]\n",
        "y=df.iloc[:,-1]"
      ],
      "metadata": {
        "id": "RQjM0XiQ5LCE"
      },
      "execution_count": null,
      "outputs": []
    },
    {
      "cell_type": "code",
      "source": [
        "X.shape"
      ],
      "metadata": {
        "colab": {
          "base_uri": "https://localhost:8080/"
        },
        "id": "oN8Wzj-B5Xil",
        "outputId": "85330b95-ecd7-429c-dd2d-67eaf6dac4d4"
      },
      "execution_count": null,
      "outputs": [
        {
          "output_type": "execute_result",
          "data": {
            "text/plain": [
              "(801, 8000)"
            ]
          },
          "metadata": {},
          "execution_count": 12
        }
      ]
    },
    {
      "cell_type": "code",
      "source": [
        "y.shape"
      ],
      "metadata": {
        "colab": {
          "base_uri": "https://localhost:8080/"
        },
        "id": "IhJhJN115aBh",
        "outputId": "269559d8-60e6-445f-b7b6-1fa42500a962"
      },
      "execution_count": null,
      "outputs": [
        {
          "output_type": "execute_result",
          "data": {
            "text/plain": [
              "(801,)"
            ]
          },
          "metadata": {},
          "execution_count": 13
        }
      ]
    },
    {
      "cell_type": "code",
      "source": [
        "#let's encode target labels (y) with values between 0 and n_classes-1.\n",
        "#encoding will be done using the LabelEncoder\n",
        "label_encoder=LabelEncoder()\n",
        "label_encoder.fit(y)\n",
        "y_encoded=label_encoder.transform(y)\n",
        "labels=label_encoder.classes_\n",
        "classes=np.unique(y_encoded)"
      ],
      "metadata": {
        "id": "sMO5bDDS5cNU"
      },
      "execution_count": null,
      "outputs": []
    },
    {
      "cell_type": "code",
      "source": [
        "labels"
      ],
      "metadata": {
        "colab": {
          "base_uri": "https://localhost:8080/"
        },
        "id": "qMuwYAu25hH0",
        "outputId": "9d37b74d-34bf-49e7-f253-5cae5e144368"
      },
      "execution_count": null,
      "outputs": [
        {
          "output_type": "execute_result",
          "data": {
            "text/plain": [
              "array(['BRCA', 'COAD', 'KIRC', 'LUAD', 'PRAD'], dtype=object)"
            ]
          },
          "metadata": {},
          "execution_count": 15
        }
      ]
    },
    {
      "cell_type": "code",
      "source": [
        "classes"
      ],
      "metadata": {
        "colab": {
          "base_uri": "https://localhost:8080/"
        },
        "id": "50hpW_6P5jju",
        "outputId": "48113734-8832-44c5-e4e6-0df2fa6c86ca"
      },
      "execution_count": null,
      "outputs": [
        {
          "output_type": "execute_result",
          "data": {
            "text/plain": [
              "array([0, 1, 2, 3, 4])"
            ]
          },
          "metadata": {},
          "execution_count": 16
        }
      ]
    },
    {
      "cell_type": "code",
      "source": [
        "#split data into training and test sets\n",
        "X_train,X_test,y_train,y_test=train_test_split(X,y_encoded,test_size=0.2,random_state=42)"
      ],
      "metadata": {
        "id": "ZJy5ziym5mB3"
      },
      "execution_count": null,
      "outputs": []
    },
    {
      "cell_type": "code",
      "source": [
        "df.iloc[:,0:10].describe()"
      ],
      "metadata": {
        "colab": {
          "base_uri": "https://localhost:8080/",
          "height": 300
        },
        "id": "pTxIHng55o9d",
        "outputId": "e873bd81-3203-4e53-98ab-f898bfecd365"
      },
      "execution_count": null,
      "outputs": [
        {
          "output_type": "execute_result",
          "data": {
            "text/plain": [
              "           gene_1      gene_2      gene_3      gene_4      gene_5      gene_6  \\\n",
              "count  801.000000  801.000000  801.000000  801.000000  801.000000  801.000000   \n",
              "mean     0.026642    0.231049    0.010844    2.405459    0.005799    0.065640   \n",
              "std      0.136850    0.656692    0.153859    0.797236    0.052265    0.213557   \n",
              "min      0.000000    0.000000    0.000000    0.000000    0.000000    0.000000   \n",
              "25%      0.000000    0.000000    0.000000    1.898595    0.000000    0.000000   \n",
              "50%      0.000000    0.000000    0.000000    2.358284    0.000000    0.000000   \n",
              "75%      0.000000    0.000000    0.000000    2.929355    0.000000    0.000000   \n",
              "max      1.482332    6.575004    3.778061    4.746646    0.570754    1.866275   \n",
              "\n",
              "           gene_7      gene_8      gene_9     gene_10  \n",
              "count  801.000000  801.000000  801.000000  801.000000  \n",
              "mean     0.022036    0.028394    0.703998    1.916364  \n",
              "std      0.148917    0.161606    0.779321    0.877010  \n",
              "min      0.000000    0.000000    0.000000    0.000000  \n",
              "25%      0.000000    0.000000    0.000000    1.357214  \n",
              "50%      0.000000    0.000000    0.518031    1.877862  \n",
              "75%      0.000000    0.000000    1.123931    2.486792  \n",
              "max      2.169925    2.375957    4.541670    4.932231  "
            ],
            "text/html": [
              "\n",
              "  <div id=\"df-ee07ff88-82d7-4ffb-96c0-c1bb4f6f9909\" class=\"colab-df-container\">\n",
              "    <div>\n",
              "<style scoped>\n",
              "    .dataframe tbody tr th:only-of-type {\n",
              "        vertical-align: middle;\n",
              "    }\n",
              "\n",
              "    .dataframe tbody tr th {\n",
              "        vertical-align: top;\n",
              "    }\n",
              "\n",
              "    .dataframe thead th {\n",
              "        text-align: right;\n",
              "    }\n",
              "</style>\n",
              "<table border=\"1\" class=\"dataframe\">\n",
              "  <thead>\n",
              "    <tr style=\"text-align: right;\">\n",
              "      <th></th>\n",
              "      <th>gene_1</th>\n",
              "      <th>gene_2</th>\n",
              "      <th>gene_3</th>\n",
              "      <th>gene_4</th>\n",
              "      <th>gene_5</th>\n",
              "      <th>gene_6</th>\n",
              "      <th>gene_7</th>\n",
              "      <th>gene_8</th>\n",
              "      <th>gene_9</th>\n",
              "      <th>gene_10</th>\n",
              "    </tr>\n",
              "  </thead>\n",
              "  <tbody>\n",
              "    <tr>\n",
              "      <th>count</th>\n",
              "      <td>801.000000</td>\n",
              "      <td>801.000000</td>\n",
              "      <td>801.000000</td>\n",
              "      <td>801.000000</td>\n",
              "      <td>801.000000</td>\n",
              "      <td>801.000000</td>\n",
              "      <td>801.000000</td>\n",
              "      <td>801.000000</td>\n",
              "      <td>801.000000</td>\n",
              "      <td>801.000000</td>\n",
              "    </tr>\n",
              "    <tr>\n",
              "      <th>mean</th>\n",
              "      <td>0.026642</td>\n",
              "      <td>0.231049</td>\n",
              "      <td>0.010844</td>\n",
              "      <td>2.405459</td>\n",
              "      <td>0.005799</td>\n",
              "      <td>0.065640</td>\n",
              "      <td>0.022036</td>\n",
              "      <td>0.028394</td>\n",
              "      <td>0.703998</td>\n",
              "      <td>1.916364</td>\n",
              "    </tr>\n",
              "    <tr>\n",
              "      <th>std</th>\n",
              "      <td>0.136850</td>\n",
              "      <td>0.656692</td>\n",
              "      <td>0.153859</td>\n",
              "      <td>0.797236</td>\n",
              "      <td>0.052265</td>\n",
              "      <td>0.213557</td>\n",
              "      <td>0.148917</td>\n",
              "      <td>0.161606</td>\n",
              "      <td>0.779321</td>\n",
              "      <td>0.877010</td>\n",
              "    </tr>\n",
              "    <tr>\n",
              "      <th>min</th>\n",
              "      <td>0.000000</td>\n",
              "      <td>0.000000</td>\n",
              "      <td>0.000000</td>\n",
              "      <td>0.000000</td>\n",
              "      <td>0.000000</td>\n",
              "      <td>0.000000</td>\n",
              "      <td>0.000000</td>\n",
              "      <td>0.000000</td>\n",
              "      <td>0.000000</td>\n",
              "      <td>0.000000</td>\n",
              "    </tr>\n",
              "    <tr>\n",
              "      <th>25%</th>\n",
              "      <td>0.000000</td>\n",
              "      <td>0.000000</td>\n",
              "      <td>0.000000</td>\n",
              "      <td>1.898595</td>\n",
              "      <td>0.000000</td>\n",
              "      <td>0.000000</td>\n",
              "      <td>0.000000</td>\n",
              "      <td>0.000000</td>\n",
              "      <td>0.000000</td>\n",
              "      <td>1.357214</td>\n",
              "    </tr>\n",
              "    <tr>\n",
              "      <th>50%</th>\n",
              "      <td>0.000000</td>\n",
              "      <td>0.000000</td>\n",
              "      <td>0.000000</td>\n",
              "      <td>2.358284</td>\n",
              "      <td>0.000000</td>\n",
              "      <td>0.000000</td>\n",
              "      <td>0.000000</td>\n",
              "      <td>0.000000</td>\n",
              "      <td>0.518031</td>\n",
              "      <td>1.877862</td>\n",
              "    </tr>\n",
              "    <tr>\n",
              "      <th>75%</th>\n",
              "      <td>0.000000</td>\n",
              "      <td>0.000000</td>\n",
              "      <td>0.000000</td>\n",
              "      <td>2.929355</td>\n",
              "      <td>0.000000</td>\n",
              "      <td>0.000000</td>\n",
              "      <td>0.000000</td>\n",
              "      <td>0.000000</td>\n",
              "      <td>1.123931</td>\n",
              "      <td>2.486792</td>\n",
              "    </tr>\n",
              "    <tr>\n",
              "      <th>max</th>\n",
              "      <td>1.482332</td>\n",
              "      <td>6.575004</td>\n",
              "      <td>3.778061</td>\n",
              "      <td>4.746646</td>\n",
              "      <td>0.570754</td>\n",
              "      <td>1.866275</td>\n",
              "      <td>2.169925</td>\n",
              "      <td>2.375957</td>\n",
              "      <td>4.541670</td>\n",
              "      <td>4.932231</td>\n",
              "    </tr>\n",
              "  </tbody>\n",
              "</table>\n",
              "</div>\n",
              "    <div class=\"colab-df-buttons\">\n",
              "\n",
              "  <div class=\"colab-df-container\">\n",
              "    <button class=\"colab-df-convert\" onclick=\"convertToInteractive('df-ee07ff88-82d7-4ffb-96c0-c1bb4f6f9909')\"\n",
              "            title=\"Convert this dataframe to an interactive table.\"\n",
              "            style=\"display:none;\">\n",
              "\n",
              "  <svg xmlns=\"http://www.w3.org/2000/svg\" height=\"24px\" viewBox=\"0 -960 960 960\">\n",
              "    <path d=\"M120-120v-720h720v720H120Zm60-500h600v-160H180v160Zm220 220h160v-160H400v160Zm0 220h160v-160H400v160ZM180-400h160v-160H180v160Zm440 0h160v-160H620v160ZM180-180h160v-160H180v160Zm440 0h160v-160H620v160Z\"/>\n",
              "  </svg>\n",
              "    </button>\n",
              "\n",
              "  <style>\n",
              "    .colab-df-container {\n",
              "      display:flex;\n",
              "      gap: 12px;\n",
              "    }\n",
              "\n",
              "    .colab-df-convert {\n",
              "      background-color: #E8F0FE;\n",
              "      border: none;\n",
              "      border-radius: 50%;\n",
              "      cursor: pointer;\n",
              "      display: none;\n",
              "      fill: #1967D2;\n",
              "      height: 32px;\n",
              "      padding: 0 0 0 0;\n",
              "      width: 32px;\n",
              "    }\n",
              "\n",
              "    .colab-df-convert:hover {\n",
              "      background-color: #E2EBFA;\n",
              "      box-shadow: 0px 1px 2px rgba(60, 64, 67, 0.3), 0px 1px 3px 1px rgba(60, 64, 67, 0.15);\n",
              "      fill: #174EA6;\n",
              "    }\n",
              "\n",
              "    .colab-df-buttons div {\n",
              "      margin-bottom: 4px;\n",
              "    }\n",
              "\n",
              "    [theme=dark] .colab-df-convert {\n",
              "      background-color: #3B4455;\n",
              "      fill: #D2E3FC;\n",
              "    }\n",
              "\n",
              "    [theme=dark] .colab-df-convert:hover {\n",
              "      background-color: #434B5C;\n",
              "      box-shadow: 0px 1px 3px 1px rgba(0, 0, 0, 0.15);\n",
              "      filter: drop-shadow(0px 1px 2px rgba(0, 0, 0, 0.3));\n",
              "      fill: #FFFFFF;\n",
              "    }\n",
              "  </style>\n",
              "\n",
              "    <script>\n",
              "      const buttonEl =\n",
              "        document.querySelector('#df-ee07ff88-82d7-4ffb-96c0-c1bb4f6f9909 button.colab-df-convert');\n",
              "      buttonEl.style.display =\n",
              "        google.colab.kernel.accessAllowed ? 'block' : 'none';\n",
              "\n",
              "      async function convertToInteractive(key) {\n",
              "        const element = document.querySelector('#df-ee07ff88-82d7-4ffb-96c0-c1bb4f6f9909');\n",
              "        const dataTable =\n",
              "          await google.colab.kernel.invokeFunction('convertToInteractive',\n",
              "                                                    [key], {});\n",
              "        if (!dataTable) return;\n",
              "\n",
              "        const docLinkHtml = 'Like what you see? Visit the ' +\n",
              "          '<a target=\"_blank\" href=https://colab.research.google.com/notebooks/data_table.ipynb>data table notebook</a>'\n",
              "          + ' to learn more about interactive tables.';\n",
              "        element.innerHTML = '';\n",
              "        dataTable['output_type'] = 'display_data';\n",
              "        await google.colab.output.renderOutput(dataTable, element);\n",
              "        const docLink = document.createElement('div');\n",
              "        docLink.innerHTML = docLinkHtml;\n",
              "        element.appendChild(docLink);\n",
              "      }\n",
              "    </script>\n",
              "  </div>\n",
              "\n",
              "\n",
              "    <div id=\"df-8fa74bbe-c7a3-48b7-ad68-cebf7db4564b\">\n",
              "      <button class=\"colab-df-quickchart\" onclick=\"quickchart('df-8fa74bbe-c7a3-48b7-ad68-cebf7db4564b')\"\n",
              "                title=\"Suggest charts\"\n",
              "                style=\"display:none;\">\n",
              "\n",
              "<svg xmlns=\"http://www.w3.org/2000/svg\" height=\"24px\"viewBox=\"0 0 24 24\"\n",
              "     width=\"24px\">\n",
              "    <g>\n",
              "        <path d=\"M19 3H5c-1.1 0-2 .9-2 2v14c0 1.1.9 2 2 2h14c1.1 0 2-.9 2-2V5c0-1.1-.9-2-2-2zM9 17H7v-7h2v7zm4 0h-2V7h2v10zm4 0h-2v-4h2v4z\"/>\n",
              "    </g>\n",
              "</svg>\n",
              "      </button>\n",
              "\n",
              "<style>\n",
              "  .colab-df-quickchart {\n",
              "      --bg-color: #E8F0FE;\n",
              "      --fill-color: #1967D2;\n",
              "      --hover-bg-color: #E2EBFA;\n",
              "      --hover-fill-color: #174EA6;\n",
              "      --disabled-fill-color: #AAA;\n",
              "      --disabled-bg-color: #DDD;\n",
              "  }\n",
              "\n",
              "  [theme=dark] .colab-df-quickchart {\n",
              "      --bg-color: #3B4455;\n",
              "      --fill-color: #D2E3FC;\n",
              "      --hover-bg-color: #434B5C;\n",
              "      --hover-fill-color: #FFFFFF;\n",
              "      --disabled-bg-color: #3B4455;\n",
              "      --disabled-fill-color: #666;\n",
              "  }\n",
              "\n",
              "  .colab-df-quickchart {\n",
              "    background-color: var(--bg-color);\n",
              "    border: none;\n",
              "    border-radius: 50%;\n",
              "    cursor: pointer;\n",
              "    display: none;\n",
              "    fill: var(--fill-color);\n",
              "    height: 32px;\n",
              "    padding: 0;\n",
              "    width: 32px;\n",
              "  }\n",
              "\n",
              "  .colab-df-quickchart:hover {\n",
              "    background-color: var(--hover-bg-color);\n",
              "    box-shadow: 0 1px 2px rgba(60, 64, 67, 0.3), 0 1px 3px 1px rgba(60, 64, 67, 0.15);\n",
              "    fill: var(--button-hover-fill-color);\n",
              "  }\n",
              "\n",
              "  .colab-df-quickchart-complete:disabled,\n",
              "  .colab-df-quickchart-complete:disabled:hover {\n",
              "    background-color: var(--disabled-bg-color);\n",
              "    fill: var(--disabled-fill-color);\n",
              "    box-shadow: none;\n",
              "  }\n",
              "\n",
              "  .colab-df-spinner {\n",
              "    border: 2px solid var(--fill-color);\n",
              "    border-color: transparent;\n",
              "    border-bottom-color: var(--fill-color);\n",
              "    animation:\n",
              "      spin 1s steps(1) infinite;\n",
              "  }\n",
              "\n",
              "  @keyframes spin {\n",
              "    0% {\n",
              "      border-color: transparent;\n",
              "      border-bottom-color: var(--fill-color);\n",
              "      border-left-color: var(--fill-color);\n",
              "    }\n",
              "    20% {\n",
              "      border-color: transparent;\n",
              "      border-left-color: var(--fill-color);\n",
              "      border-top-color: var(--fill-color);\n",
              "    }\n",
              "    30% {\n",
              "      border-color: transparent;\n",
              "      border-left-color: var(--fill-color);\n",
              "      border-top-color: var(--fill-color);\n",
              "      border-right-color: var(--fill-color);\n",
              "    }\n",
              "    40% {\n",
              "      border-color: transparent;\n",
              "      border-right-color: var(--fill-color);\n",
              "      border-top-color: var(--fill-color);\n",
              "    }\n",
              "    60% {\n",
              "      border-color: transparent;\n",
              "      border-right-color: var(--fill-color);\n",
              "    }\n",
              "    80% {\n",
              "      border-color: transparent;\n",
              "      border-right-color: var(--fill-color);\n",
              "      border-bottom-color: var(--fill-color);\n",
              "    }\n",
              "    90% {\n",
              "      border-color: transparent;\n",
              "      border-bottom-color: var(--fill-color);\n",
              "    }\n",
              "  }\n",
              "</style>\n",
              "\n",
              "      <script>\n",
              "        async function quickchart(key) {\n",
              "          const quickchartButtonEl =\n",
              "            document.querySelector('#' + key + ' button');\n",
              "          quickchartButtonEl.disabled = true;  // To prevent multiple clicks.\n",
              "          quickchartButtonEl.classList.add('colab-df-spinner');\n",
              "          try {\n",
              "            const charts = await google.colab.kernel.invokeFunction(\n",
              "                'suggestCharts', [key], {});\n",
              "          } catch (error) {\n",
              "            console.error('Error during call to suggestCharts:', error);\n",
              "          }\n",
              "          quickchartButtonEl.classList.remove('colab-df-spinner');\n",
              "          quickchartButtonEl.classList.add('colab-df-quickchart-complete');\n",
              "        }\n",
              "        (() => {\n",
              "          let quickchartButtonEl =\n",
              "            document.querySelector('#df-8fa74bbe-c7a3-48b7-ad68-cebf7db4564b button');\n",
              "          quickchartButtonEl.style.display =\n",
              "            google.colab.kernel.accessAllowed ? 'block' : 'none';\n",
              "        })();\n",
              "      </script>\n",
              "    </div>\n",
              "\n",
              "    </div>\n",
              "  </div>\n"
            ],
            "application/vnd.google.colaboratory.intrinsic+json": {
              "type": "dataframe",
              "summary": "{\n  \"name\": \"df\",\n  \"rows\": 8,\n  \"fields\": [\n    {\n      \"column\": \"gene_1\",\n      \"properties\": {\n        \"dtype\": \"number\",\n        \"std\": 283.11360089443195,\n        \"min\": 0.0,\n        \"max\": 801.0,\n        \"num_unique_values\": 5,\n        \"samples\": [\n          0.026641551206685394,\n          1.48233202075,\n          0.13684952015251203\n        ],\n        \"semantic_type\": \"\",\n        \"description\": \"\"\n      }\n    },\n    {\n      \"column\": \"gene_2\",\n      \"properties\": {\n        \"dtype\": \"number\",\n        \"std\": 282.82837153150757,\n        \"min\": 0.0,\n        \"max\": 801.0,\n        \"num_unique_values\": 5,\n        \"samples\": [\n          0.23104873127019224,\n          6.57500366744,\n          0.6566918201605328\n        ],\n        \"semantic_type\": \"\",\n        \"description\": \"\"\n      }\n    },\n    {\n      \"column\": \"gene_3\",\n      \"properties\": {\n        \"dtype\": \"number\",\n        \"std\": 283.00017436223027,\n        \"min\": 0.0,\n        \"max\": 801.0,\n        \"num_unique_values\": 5,\n        \"samples\": [\n          0.010843739319982521,\n          3.77806135511,\n          0.15385915385938467\n        ],\n        \"semantic_type\": \"\",\n        \"description\": \"\"\n      }\n    },\n    {\n      \"column\": \"gene_4\",\n      \"properties\": {\n        \"dtype\": \"number\",\n        \"std\": 282.43533777830004,\n        \"min\": 0.0,\n        \"max\": 801.0,\n        \"num_unique_values\": 8,\n        \"samples\": [\n          2.4054587469393756,\n          2.35828372285,\n          801.0\n        ],\n        \"semantic_type\": \"\",\n        \"description\": \"\"\n      }\n    },\n    {\n      \"column\": \"gene_5\",\n      \"properties\": {\n        \"dtype\": \"number\",\n        \"std\": 283.16457434996664,\n        \"min\": 0.0,\n        \"max\": 801.0,\n        \"num_unique_values\": 5,\n        \"samples\": [\n          0.005799231612901373,\n          0.570754355134,\n          0.05226504799177911\n        ],\n        \"semantic_type\": \"\",\n        \"description\": \"\"\n      }\n    },\n    {\n      \"column\": \"gene_6\",\n      \"properties\": {\n        \"dtype\": \"number\",\n        \"std\": 283.08862865521473,\n        \"min\": 0.0,\n        \"max\": 801.0,\n        \"num_unique_values\": 5,\n        \"samples\": [\n          0.0656399415371523,\n          1.86627499158,\n          0.21355722197272464\n        ],\n        \"semantic_type\": \"\",\n        \"description\": \"\"\n      }\n    },\n    {\n      \"column\": \"gene_7\",\n      \"properties\": {\n        \"dtype\": \"number\",\n        \"std\": 283.0790299233124,\n        \"min\": 0.0,\n        \"max\": 801.0,\n        \"num_unique_values\": 5,\n        \"samples\": [\n          0.022036429781465666,\n          2.16992500144,\n          0.14891745025382072\n        ],\n        \"semantic_type\": \"\",\n        \"description\": \"\"\n      }\n    },\n    {\n      \"column\": \"gene_8\",\n      \"properties\": {\n        \"dtype\": \"number\",\n        \"std\": 283.06785937615047,\n        \"min\": 0.0,\n        \"max\": 801.0,\n        \"num_unique_values\": 5,\n        \"samples\": [\n          0.028394259385249684,\n          2.37595690218,\n          0.16160636266305306\n        ],\n        \"semantic_type\": \"\",\n        \"description\": \"\"\n      }\n    },\n    {\n      \"column\": \"gene_9\",\n      \"properties\": {\n        \"dtype\": \"number\",\n        \"std\": 282.8127804569991,\n        \"min\": 0.0,\n        \"max\": 801.0,\n        \"num_unique_values\": 7,\n        \"samples\": [\n          801.0,\n          0.7039978780096168,\n          1.12393100832\n        ],\n        \"semantic_type\": \"\",\n        \"description\": \"\"\n      }\n    },\n    {\n      \"column\": \"gene_10\",\n      \"properties\": {\n        \"dtype\": \"number\",\n        \"std\": 282.5207287506082,\n        \"min\": 0.0,\n        \"max\": 801.0,\n        \"num_unique_values\": 8,\n        \"samples\": [\n          1.9163641201925807,\n          1.87786201617,\n          801.0\n        ],\n        \"semantic_type\": \"\",\n        \"description\": \"\"\n      }\n    }\n  ]\n}"
            }
          },
          "metadata": {},
          "execution_count": 18
        }
      ]
    },
    {
      "cell_type": "code",
      "source": [
        "df.shape"
      ],
      "metadata": {
        "colab": {
          "base_uri": "https://localhost:8080/"
        },
        "id": "ierlhuwma-8R",
        "outputId": "b575b141-347d-4fb7-ca23-bbcf9cb2bb27"
      },
      "execution_count": null,
      "outputs": [
        {
          "output_type": "execute_result",
          "data": {
            "text/plain": [
              "(801, 8001)"
            ]
          },
          "metadata": {},
          "execution_count": 19
        }
      ]
    },
    {
      "cell_type": "code",
      "source": [
        "# scale data between 0 and 1\n",
        "\n",
        "min_max_scaler=MinMaxScaler()\n",
        "X_train_norm=min_max_scaler.fit_transform(X_train)\n",
        "X_test_norm=min_max_scaler.fit_transform(X_test)"
      ],
      "metadata": {
        "id": "k4W4cNja5rBq"
      },
      "execution_count": null,
      "outputs": []
    },
    {
      "cell_type": "code",
      "source": [
        "len(X_train_norm)"
      ],
      "metadata": {
        "colab": {
          "base_uri": "https://localhost:8080/"
        },
        "id": "TD_Qtg2ob_W1",
        "outputId": "ceff6e77-ec2e-407f-d673-59f40e82d2fb"
      },
      "execution_count": null,
      "outputs": [
        {
          "output_type": "execute_result",
          "data": {
            "text/plain": [
              "640"
            ]
          },
          "metadata": {},
          "execution_count": 21
        }
      ]
    },
    {
      "cell_type": "code",
      "source": [
        "len(X_test_norm)"
      ],
      "metadata": {
        "colab": {
          "base_uri": "https://localhost:8080/"
        },
        "id": "QbYDZ8XgcKqf",
        "outputId": "22dcb583-719f-4628-dac0-28f6d2e5e126"
      },
      "execution_count": null,
      "outputs": [
        {
          "output_type": "execute_result",
          "data": {
            "text/plain": [
              "161"
            ]
          },
          "metadata": {},
          "execution_count": 22
        }
      ]
    },
    {
      "cell_type": "code",
      "source": [
        "MI=mutual_info_classif(X_train_norm,y_train)"
      ],
      "metadata": {
        "id": "UdFvTtnm5vEa"
      },
      "execution_count": null,
      "outputs": []
    },
    {
      "cell_type": "code",
      "source": [
        "#select top n features. lets say 300.\n",
        "#you can modify the value and see how the performance of the model changes\n",
        "\n",
        "n_features=300\n",
        "selected_scores_indices=np.argsort(MI)[::-1][0:n_features]"
      ],
      "metadata": {
        "id": "jmWjAP-55x8C"
      },
      "execution_count": null,
      "outputs": []
    },
    {
      "cell_type": "code",
      "source": [
        "X_train_selected=X_train_norm[:,selected_scores_indices]\n",
        "X_test_selected=X_test_norm[:,selected_scores_indices]"
      ],
      "metadata": {
        "id": "rIbTa03K58zf"
      },
      "execution_count": null,
      "outputs": []
    },
    {
      "cell_type": "code",
      "source": [
        "X_train_selected.shape"
      ],
      "metadata": {
        "colab": {
          "base_uri": "https://localhost:8080/"
        },
        "id": "B3LDHFmr6AMG",
        "outputId": "53e2c7bc-d41c-47d1-83a5-c795ad390a85"
      },
      "execution_count": null,
      "outputs": [
        {
          "output_type": "execute_result",
          "data": {
            "text/plain": [
              "(640, 300)"
            ]
          },
          "metadata": {},
          "execution_count": 26
        }
      ]
    },
    {
      "cell_type": "code",
      "source": [
        "X_test_selected.shape"
      ],
      "metadata": {
        "colab": {
          "base_uri": "https://localhost:8080/"
        },
        "id": "ILkez9px6Ft3",
        "outputId": "1e6213a6-4a4e-4413-9fb1-2ca5b8cd62ef"
      },
      "execution_count": null,
      "outputs": [
        {
          "output_type": "execute_result",
          "data": {
            "text/plain": [
              "(161, 300)"
            ]
          },
          "metadata": {},
          "execution_count": 27
        }
      ]
    },
    {
      "cell_type": "code",
      "source": [
        "#Random Forest Classifier\n",
        "#because we are dealing with multiclass data, the one versus rest strategy is used.\n",
        "#learn to predict each class against the other.\n",
        "\n",
        "RF=OneVsRestClassifier(RandomForestClassifier(max_features=0.2))\n",
        "RF.fit(X_train_selected,y_train)\n",
        "y_pred =RF.predict(X_test_selected)\n",
        "pred_prob = RF.predict_proba(X_test_selected)"
      ],
      "metadata": {
        "id": "mT9_G8Ex6ISF"
      },
      "execution_count": null,
      "outputs": []
    },
    {
      "cell_type": "code",
      "source": [
        "#accuracy\n",
        "accuracy=np.round(balanced_accuracy_score(y_test,y_pred),4)\n",
        "print('accuracy:%0.4f'%accuracy)\n",
        "\n",
        "#precision\n",
        "precision=np.round(precision_score(y_test,y_pred,average = 'weighted'),4)\n",
        "print('precision:%0.4f'%precision)\n",
        "\n",
        "#recall\n",
        "recall=np.round(recall_score(y_test,y_pred,average = 'weighted'),4)\n",
        "print('recall:%0.4f'%recall)\n",
        "\n",
        "#f1score\n",
        "f1score=np.round(f1_score(y_test,y_pred,average = 'weighted'),4)\n",
        "print('f1score:%0.4f'%f1score)\n",
        "\n",
        "\n",
        "report=classification_report(y_test,y_pred, target_names=labels)\n",
        "print('\\n')\n",
        "print('classification report\\n\\n')\n",
        "print(report)"
      ],
      "metadata": {
        "colab": {
          "base_uri": "https://localhost:8080/"
        },
        "id": "b0wn1Js26OKW",
        "outputId": "18cbd777-5f7e-4886-d596-fc4c32c41a1a"
      },
      "execution_count": null,
      "outputs": [
        {
          "output_type": "stream",
          "name": "stdout",
          "text": [
            "accuracy:0.9550\n",
            "precision:0.9695\n",
            "recall:0.9689\n",
            "f1score:0.9687\n",
            "\n",
            "\n",
            "classification report\n",
            "\n",
            "\n",
            "              precision    recall  f1-score   support\n",
            "\n",
            "        BRCA       0.95      0.98      0.97        60\n",
            "        COAD       1.00      0.88      0.93        16\n",
            "        KIRC       1.00      1.00      1.00        28\n",
            "        LUAD       0.92      0.92      0.92        24\n",
            "        PRAD       1.00      1.00      1.00        33\n",
            "\n",
            "    accuracy                           0.97       161\n",
            "   macro avg       0.97      0.96      0.96       161\n",
            "weighted avg       0.97      0.97      0.97       161\n",
            "\n"
          ]
        }
      ]
    },
    {
      "cell_type": "code",
      "source": [
        "#generate confusion matrix\n",
        "cm=confusion_matrix(y_test,y_pred)\n",
        "cm_df=pd.DataFrame(cm,index=labels,columns=labels)"
      ],
      "metadata": {
        "id": "L4RYO44g6WcH"
      },
      "execution_count": null,
      "outputs": []
    },
    {
      "cell_type": "code",
      "source": [
        "cm_df"
      ],
      "metadata": {
        "colab": {
          "base_uri": "https://localhost:8080/",
          "height": 206
        },
        "id": "PnnEXoFw6a2V",
        "outputId": "f761fa7f-4f19-4f81-da26-859231ccfbf7"
      },
      "execution_count": null,
      "outputs": [
        {
          "output_type": "execute_result",
          "data": {
            "text/plain": [
              "      BRCA  COAD  KIRC  LUAD  PRAD\n",
              "BRCA    59     0     0     1     0\n",
              "COAD     1    14     0     1     0\n",
              "KIRC     0     0    28     0     0\n",
              "LUAD     2     0     0    22     0\n",
              "PRAD     0     0     0     0    33"
            ],
            "text/html": [
              "\n",
              "  <div id=\"df-6f4c1329-f259-41b0-9621-7639eed3b593\" class=\"colab-df-container\">\n",
              "    <div>\n",
              "<style scoped>\n",
              "    .dataframe tbody tr th:only-of-type {\n",
              "        vertical-align: middle;\n",
              "    }\n",
              "\n",
              "    .dataframe tbody tr th {\n",
              "        vertical-align: top;\n",
              "    }\n",
              "\n",
              "    .dataframe thead th {\n",
              "        text-align: right;\n",
              "    }\n",
              "</style>\n",
              "<table border=\"1\" class=\"dataframe\">\n",
              "  <thead>\n",
              "    <tr style=\"text-align: right;\">\n",
              "      <th></th>\n",
              "      <th>BRCA</th>\n",
              "      <th>COAD</th>\n",
              "      <th>KIRC</th>\n",
              "      <th>LUAD</th>\n",
              "      <th>PRAD</th>\n",
              "    </tr>\n",
              "  </thead>\n",
              "  <tbody>\n",
              "    <tr>\n",
              "      <th>BRCA</th>\n",
              "      <td>59</td>\n",
              "      <td>0</td>\n",
              "      <td>0</td>\n",
              "      <td>1</td>\n",
              "      <td>0</td>\n",
              "    </tr>\n",
              "    <tr>\n",
              "      <th>COAD</th>\n",
              "      <td>1</td>\n",
              "      <td>14</td>\n",
              "      <td>0</td>\n",
              "      <td>1</td>\n",
              "      <td>0</td>\n",
              "    </tr>\n",
              "    <tr>\n",
              "      <th>KIRC</th>\n",
              "      <td>0</td>\n",
              "      <td>0</td>\n",
              "      <td>28</td>\n",
              "      <td>0</td>\n",
              "      <td>0</td>\n",
              "    </tr>\n",
              "    <tr>\n",
              "      <th>LUAD</th>\n",
              "      <td>2</td>\n",
              "      <td>0</td>\n",
              "      <td>0</td>\n",
              "      <td>22</td>\n",
              "      <td>0</td>\n",
              "    </tr>\n",
              "    <tr>\n",
              "      <th>PRAD</th>\n",
              "      <td>0</td>\n",
              "      <td>0</td>\n",
              "      <td>0</td>\n",
              "      <td>0</td>\n",
              "      <td>33</td>\n",
              "    </tr>\n",
              "  </tbody>\n",
              "</table>\n",
              "</div>\n",
              "    <div class=\"colab-df-buttons\">\n",
              "\n",
              "  <div class=\"colab-df-container\">\n",
              "    <button class=\"colab-df-convert\" onclick=\"convertToInteractive('df-6f4c1329-f259-41b0-9621-7639eed3b593')\"\n",
              "            title=\"Convert this dataframe to an interactive table.\"\n",
              "            style=\"display:none;\">\n",
              "\n",
              "  <svg xmlns=\"http://www.w3.org/2000/svg\" height=\"24px\" viewBox=\"0 -960 960 960\">\n",
              "    <path d=\"M120-120v-720h720v720H120Zm60-500h600v-160H180v160Zm220 220h160v-160H400v160Zm0 220h160v-160H400v160ZM180-400h160v-160H180v160Zm440 0h160v-160H620v160ZM180-180h160v-160H180v160Zm440 0h160v-160H620v160Z\"/>\n",
              "  </svg>\n",
              "    </button>\n",
              "\n",
              "  <style>\n",
              "    .colab-df-container {\n",
              "      display:flex;\n",
              "      gap: 12px;\n",
              "    }\n",
              "\n",
              "    .colab-df-convert {\n",
              "      background-color: #E8F0FE;\n",
              "      border: none;\n",
              "      border-radius: 50%;\n",
              "      cursor: pointer;\n",
              "      display: none;\n",
              "      fill: #1967D2;\n",
              "      height: 32px;\n",
              "      padding: 0 0 0 0;\n",
              "      width: 32px;\n",
              "    }\n",
              "\n",
              "    .colab-df-convert:hover {\n",
              "      background-color: #E2EBFA;\n",
              "      box-shadow: 0px 1px 2px rgba(60, 64, 67, 0.3), 0px 1px 3px 1px rgba(60, 64, 67, 0.15);\n",
              "      fill: #174EA6;\n",
              "    }\n",
              "\n",
              "    .colab-df-buttons div {\n",
              "      margin-bottom: 4px;\n",
              "    }\n",
              "\n",
              "    [theme=dark] .colab-df-convert {\n",
              "      background-color: #3B4455;\n",
              "      fill: #D2E3FC;\n",
              "    }\n",
              "\n",
              "    [theme=dark] .colab-df-convert:hover {\n",
              "      background-color: #434B5C;\n",
              "      box-shadow: 0px 1px 3px 1px rgba(0, 0, 0, 0.15);\n",
              "      filter: drop-shadow(0px 1px 2px rgba(0, 0, 0, 0.3));\n",
              "      fill: #FFFFFF;\n",
              "    }\n",
              "  </style>\n",
              "\n",
              "    <script>\n",
              "      const buttonEl =\n",
              "        document.querySelector('#df-6f4c1329-f259-41b0-9621-7639eed3b593 button.colab-df-convert');\n",
              "      buttonEl.style.display =\n",
              "        google.colab.kernel.accessAllowed ? 'block' : 'none';\n",
              "\n",
              "      async function convertToInteractive(key) {\n",
              "        const element = document.querySelector('#df-6f4c1329-f259-41b0-9621-7639eed3b593');\n",
              "        const dataTable =\n",
              "          await google.colab.kernel.invokeFunction('convertToInteractive',\n",
              "                                                    [key], {});\n",
              "        if (!dataTable) return;\n",
              "\n",
              "        const docLinkHtml = 'Like what you see? Visit the ' +\n",
              "          '<a target=\"_blank\" href=https://colab.research.google.com/notebooks/data_table.ipynb>data table notebook</a>'\n",
              "          + ' to learn more about interactive tables.';\n",
              "        element.innerHTML = '';\n",
              "        dataTable['output_type'] = 'display_data';\n",
              "        await google.colab.output.renderOutput(dataTable, element);\n",
              "        const docLink = document.createElement('div');\n",
              "        docLink.innerHTML = docLinkHtml;\n",
              "        element.appendChild(docLink);\n",
              "      }\n",
              "    </script>\n",
              "  </div>\n",
              "\n",
              "\n",
              "    <div id=\"df-249b28b7-2513-4cf6-ace7-d90db07b9135\">\n",
              "      <button class=\"colab-df-quickchart\" onclick=\"quickchart('df-249b28b7-2513-4cf6-ace7-d90db07b9135')\"\n",
              "                title=\"Suggest charts\"\n",
              "                style=\"display:none;\">\n",
              "\n",
              "<svg xmlns=\"http://www.w3.org/2000/svg\" height=\"24px\"viewBox=\"0 0 24 24\"\n",
              "     width=\"24px\">\n",
              "    <g>\n",
              "        <path d=\"M19 3H5c-1.1 0-2 .9-2 2v14c0 1.1.9 2 2 2h14c1.1 0 2-.9 2-2V5c0-1.1-.9-2-2-2zM9 17H7v-7h2v7zm4 0h-2V7h2v10zm4 0h-2v-4h2v4z\"/>\n",
              "    </g>\n",
              "</svg>\n",
              "      </button>\n",
              "\n",
              "<style>\n",
              "  .colab-df-quickchart {\n",
              "      --bg-color: #E8F0FE;\n",
              "      --fill-color: #1967D2;\n",
              "      --hover-bg-color: #E2EBFA;\n",
              "      --hover-fill-color: #174EA6;\n",
              "      --disabled-fill-color: #AAA;\n",
              "      --disabled-bg-color: #DDD;\n",
              "  }\n",
              "\n",
              "  [theme=dark] .colab-df-quickchart {\n",
              "      --bg-color: #3B4455;\n",
              "      --fill-color: #D2E3FC;\n",
              "      --hover-bg-color: #434B5C;\n",
              "      --hover-fill-color: #FFFFFF;\n",
              "      --disabled-bg-color: #3B4455;\n",
              "      --disabled-fill-color: #666;\n",
              "  }\n",
              "\n",
              "  .colab-df-quickchart {\n",
              "    background-color: var(--bg-color);\n",
              "    border: none;\n",
              "    border-radius: 50%;\n",
              "    cursor: pointer;\n",
              "    display: none;\n",
              "    fill: var(--fill-color);\n",
              "    height: 32px;\n",
              "    padding: 0;\n",
              "    width: 32px;\n",
              "  }\n",
              "\n",
              "  .colab-df-quickchart:hover {\n",
              "    background-color: var(--hover-bg-color);\n",
              "    box-shadow: 0 1px 2px rgba(60, 64, 67, 0.3), 0 1px 3px 1px rgba(60, 64, 67, 0.15);\n",
              "    fill: var(--button-hover-fill-color);\n",
              "  }\n",
              "\n",
              "  .colab-df-quickchart-complete:disabled,\n",
              "  .colab-df-quickchart-complete:disabled:hover {\n",
              "    background-color: var(--disabled-bg-color);\n",
              "    fill: var(--disabled-fill-color);\n",
              "    box-shadow: none;\n",
              "  }\n",
              "\n",
              "  .colab-df-spinner {\n",
              "    border: 2px solid var(--fill-color);\n",
              "    border-color: transparent;\n",
              "    border-bottom-color: var(--fill-color);\n",
              "    animation:\n",
              "      spin 1s steps(1) infinite;\n",
              "  }\n",
              "\n",
              "  @keyframes spin {\n",
              "    0% {\n",
              "      border-color: transparent;\n",
              "      border-bottom-color: var(--fill-color);\n",
              "      border-left-color: var(--fill-color);\n",
              "    }\n",
              "    20% {\n",
              "      border-color: transparent;\n",
              "      border-left-color: var(--fill-color);\n",
              "      border-top-color: var(--fill-color);\n",
              "    }\n",
              "    30% {\n",
              "      border-color: transparent;\n",
              "      border-left-color: var(--fill-color);\n",
              "      border-top-color: var(--fill-color);\n",
              "      border-right-color: var(--fill-color);\n",
              "    }\n",
              "    40% {\n",
              "      border-color: transparent;\n",
              "      border-right-color: var(--fill-color);\n",
              "      border-top-color: var(--fill-color);\n",
              "    }\n",
              "    60% {\n",
              "      border-color: transparent;\n",
              "      border-right-color: var(--fill-color);\n",
              "    }\n",
              "    80% {\n",
              "      border-color: transparent;\n",
              "      border-right-color: var(--fill-color);\n",
              "      border-bottom-color: var(--fill-color);\n",
              "    }\n",
              "    90% {\n",
              "      border-color: transparent;\n",
              "      border-bottom-color: var(--fill-color);\n",
              "    }\n",
              "  }\n",
              "</style>\n",
              "\n",
              "      <script>\n",
              "        async function quickchart(key) {\n",
              "          const quickchartButtonEl =\n",
              "            document.querySelector('#' + key + ' button');\n",
              "          quickchartButtonEl.disabled = true;  // To prevent multiple clicks.\n",
              "          quickchartButtonEl.classList.add('colab-df-spinner');\n",
              "          try {\n",
              "            const charts = await google.colab.kernel.invokeFunction(\n",
              "                'suggestCharts', [key], {});\n",
              "          } catch (error) {\n",
              "            console.error('Error during call to suggestCharts:', error);\n",
              "          }\n",
              "          quickchartButtonEl.classList.remove('colab-df-spinner');\n",
              "          quickchartButtonEl.classList.add('colab-df-quickchart-complete');\n",
              "        }\n",
              "        (() => {\n",
              "          let quickchartButtonEl =\n",
              "            document.querySelector('#df-249b28b7-2513-4cf6-ace7-d90db07b9135 button');\n",
              "          quickchartButtonEl.style.display =\n",
              "            google.colab.kernel.accessAllowed ? 'block' : 'none';\n",
              "        })();\n",
              "      </script>\n",
              "    </div>\n",
              "\n",
              "  <div id=\"id_7ced2fdc-68d2-4179-adb5-1e70e4a036e5\">\n",
              "    <style>\n",
              "      .colab-df-generate {\n",
              "        background-color: #E8F0FE;\n",
              "        border: none;\n",
              "        border-radius: 50%;\n",
              "        cursor: pointer;\n",
              "        display: none;\n",
              "        fill: #1967D2;\n",
              "        height: 32px;\n",
              "        padding: 0 0 0 0;\n",
              "        width: 32px;\n",
              "      }\n",
              "\n",
              "      .colab-df-generate:hover {\n",
              "        background-color: #E2EBFA;\n",
              "        box-shadow: 0px 1px 2px rgba(60, 64, 67, 0.3), 0px 1px 3px 1px rgba(60, 64, 67, 0.15);\n",
              "        fill: #174EA6;\n",
              "      }\n",
              "\n",
              "      [theme=dark] .colab-df-generate {\n",
              "        background-color: #3B4455;\n",
              "        fill: #D2E3FC;\n",
              "      }\n",
              "\n",
              "      [theme=dark] .colab-df-generate:hover {\n",
              "        background-color: #434B5C;\n",
              "        box-shadow: 0px 1px 3px 1px rgba(0, 0, 0, 0.15);\n",
              "        filter: drop-shadow(0px 1px 2px rgba(0, 0, 0, 0.3));\n",
              "        fill: #FFFFFF;\n",
              "      }\n",
              "    </style>\n",
              "    <button class=\"colab-df-generate\" onclick=\"generateWithVariable('cm_df')\"\n",
              "            title=\"Generate code using this dataframe.\"\n",
              "            style=\"display:none;\">\n",
              "\n",
              "  <svg xmlns=\"http://www.w3.org/2000/svg\" height=\"24px\"viewBox=\"0 0 24 24\"\n",
              "       width=\"24px\">\n",
              "    <path d=\"M7,19H8.4L18.45,9,17,7.55,7,17.6ZM5,21V16.75L18.45,3.32a2,2,0,0,1,2.83,0l1.4,1.43a1.91,1.91,0,0,1,.58,1.4,1.91,1.91,0,0,1-.58,1.4L9.25,21ZM18.45,9,17,7.55Zm-12,3A5.31,5.31,0,0,0,4.9,8.1,5.31,5.31,0,0,0,1,6.5,5.31,5.31,0,0,0,4.9,4.9,5.31,5.31,0,0,0,6.5,1,5.31,5.31,0,0,0,8.1,4.9,5.31,5.31,0,0,0,12,6.5,5.46,5.46,0,0,0,6.5,12Z\"/>\n",
              "  </svg>\n",
              "    </button>\n",
              "    <script>\n",
              "      (() => {\n",
              "      const buttonEl =\n",
              "        document.querySelector('#id_7ced2fdc-68d2-4179-adb5-1e70e4a036e5 button.colab-df-generate');\n",
              "      buttonEl.style.display =\n",
              "        google.colab.kernel.accessAllowed ? 'block' : 'none';\n",
              "\n",
              "      buttonEl.onclick = () => {\n",
              "        google.colab.notebook.generateWithVariable('cm_df');\n",
              "      }\n",
              "      })();\n",
              "    </script>\n",
              "  </div>\n",
              "\n",
              "    </div>\n",
              "  </div>\n"
            ],
            "application/vnd.google.colaboratory.intrinsic+json": {
              "type": "dataframe",
              "variable_name": "cm_df",
              "summary": "{\n  \"name\": \"cm_df\",\n  \"rows\": 5,\n  \"fields\": [\n    {\n      \"column\": \"BRCA\",\n      \"properties\": {\n        \"dtype\": \"number\",\n        \"std\": 26,\n        \"min\": 0,\n        \"max\": 59,\n        \"num_unique_values\": 4,\n        \"samples\": [\n          1,\n          2,\n          59\n        ],\n        \"semantic_type\": \"\",\n        \"description\": \"\"\n      }\n    },\n    {\n      \"column\": \"COAD\",\n      \"properties\": {\n        \"dtype\": \"number\",\n        \"std\": 6,\n        \"min\": 0,\n        \"max\": 14,\n        \"num_unique_values\": 2,\n        \"samples\": [\n          14,\n          0\n        ],\n        \"semantic_type\": \"\",\n        \"description\": \"\"\n      }\n    },\n    {\n      \"column\": \"KIRC\",\n      \"properties\": {\n        \"dtype\": \"number\",\n        \"std\": 12,\n        \"min\": 0,\n        \"max\": 28,\n        \"num_unique_values\": 2,\n        \"samples\": [\n          28,\n          0\n        ],\n        \"semantic_type\": \"\",\n        \"description\": \"\"\n      }\n    },\n    {\n      \"column\": \"LUAD\",\n      \"properties\": {\n        \"dtype\": \"number\",\n        \"std\": 9,\n        \"min\": 0,\n        \"max\": 22,\n        \"num_unique_values\": 3,\n        \"samples\": [\n          1,\n          0\n        ],\n        \"semantic_type\": \"\",\n        \"description\": \"\"\n      }\n    },\n    {\n      \"column\": \"PRAD\",\n      \"properties\": {\n        \"dtype\": \"number\",\n        \"std\": 14,\n        \"min\": 0,\n        \"max\": 33,\n        \"num_unique_values\": 2,\n        \"samples\": [\n          33,\n          0\n        ],\n        \"semantic_type\": \"\",\n        \"description\": \"\"\n      }\n    }\n  ]\n}"
            }
          },
          "metadata": {},
          "execution_count": 31
        }
      ]
    },
    {
      "cell_type": "code",
      "source": [
        "#visualize the confusion matrix using seaborn\n",
        "\n",
        "sns.heatmap(cm_df,annot=True,cmap='Blues')\n",
        "plt.xlabel('Predicted Labels')\n",
        "plt.ylabel('True Labels')"
      ],
      "metadata": {
        "colab": {
          "base_uri": "https://localhost:8080/",
          "height": 467
        },
        "id": "2VvaUVMN6dHP",
        "outputId": "d7d429c5-b3c3-4627-f5df-9408e33e7962"
      },
      "execution_count": null,
      "outputs": [
        {
          "output_type": "execute_result",
          "data": {
            "text/plain": [
              "Text(50.722222222222214, 0.5, 'True Labels')"
            ]
          },
          "metadata": {},
          "execution_count": 32
        },
        {
          "output_type": "display_data",
          "data": {
            "text/plain": [
              "<Figure size 640x480 with 2 Axes>"
            ],
            "image/png": "[encoded data removed]"
          },
          "metadata": {}
        }
      ]
    },
    {
      "cell_type": "code",
      "source": [
        "#visualize the confusion matrix directly\n",
        "disp = ConfusionMatrixDisplay.from_estimator(RF, X_test_selected, y_test, xticks_rotation='vertical', cmap='Blues', display_labels=labels)"
      ],
      "metadata": {
        "colab": {
          "base_uri": "https://localhost:8080/",
          "height": 476
        },
        "id": "FawJXio46git",
        "outputId": "192da315-cda8-44cb-e865-f754e8e16e9c",
        "collapsed": true
      },
      "execution_count": null,
      "outputs": [
        {
          "output_type": "display_data",
          "data": {
            "text/plain": [
              "<Figure size 640x480 with 2 Axes>"
            ],
            "image/png": "[encoded data removed]"
          },
          "metadata": {}
        }
      ]
    },
    {
      "cell_type": "code",
      "source": [
        "#roc curves will be generated for each class\n",
        "#we will therefore have to binarize the y_test labels\n",
        "#this is done because the probabilities(pred_prob) are calculated for each each class\n",
        "#we therefore need to put the y_test label in the same format as the pred_prob\n",
        "y_test_binarized=label_binarize(y_test,classes=classes)\n",
        "\n",
        "# roc curve for classes\n",
        "fpr = {}\n",
        "tpr = {}\n",
        "thresh ={}\n",
        "roc_auc = dict()\n",
        "\n",
        "n_class = classes.shape[0]\n",
        "\n",
        "for i in range(n_class):\n",
        "    fpr[i], tpr[i], thresh[i] = roc_curve(y_test_binarized[:,i], pred_prob[:,i])\n",
        "    roc_auc[i] = auc(fpr[i], tpr[i])\n",
        "\n",
        "    # plotting\n",
        "    plt.plot(fpr[i], tpr[i], linestyle='--',\n",
        "             label='%s vs Rest (AUC=%0.2f)'%(labels[i],roc_auc[i]))\n",
        "\n",
        "plt.plot([0,1],[0,1],'b--')\n",
        "plt.xlim([0,1])\n",
        "plt.ylim([0,1.05])\n",
        "plt.title('Multiclass ROC curve')\n",
        "plt.xlabel('False Positive Rate')\n",
        "plt.ylabel('True Positive rate')\n",
        "plt.legend(loc='lower right')\n",
        "plt.show()"
      ],
      "metadata": {
        "colab": {
          "base_uri": "https://localhost:8080/",
          "height": 472
        },
        "id": "3YTOaNJS6rp0",
        "outputId": "f0c59c1a-2be1-47d1-969e-633c0459b820"
      },
      "execution_count": null,
      "outputs": [
        {
          "output_type": "display_data",
          "data": {
            "text/plain": [
              "<Figure size 640x480 with 1 Axes>"
            ],
            "image/png": "[encoded data removed]"
          },
          "metadata": {}
        }
      ]
    },
    {
      "cell_type": "code",
      "source": [
        "import joblib\n",
        "\n",
        "joblib.dump(RF, 'rf_model.pkl')\n",
        "joblib.dump(min_max_scaler, 'scaler.pkl')\n",
        "joblib.dump(label_encoder, 'label_encoder.pkl')\n",
        "joblib.dump(selected_scores_indices, 'selected_features.pkl')\n"
      ],
      "metadata": {
        "id": "9_hkRLc37HDP",
        "colab": {
          "base_uri": "https://localhost:8080/"
        },
        "outputId": "c2d6e54f-6fe0-47c0-bdae-304a1e49ad80"
      },
      "execution_count": null,
      "outputs": [
        {
          "output_type": "execute_result",
          "data": {
            "text/plain": [
              "['selected_features.pkl']"
            ]
          },
          "metadata": {},
          "execution_count": 39
        }
      ]
    },
    {
      "cell_type": "code",
      "source": [
        "!pip install gradio"
      ],
      "metadata": {
        "colab": {
          "base_uri": "https://localhost:8080/"
        },
        "collapsed": true,
        "id": "PwXW99Imdb0A",
        "outputId": "0cc5fd8f-ca18-434f-d1a7-7994d6b46c5b"
      },
      "execution_count": null,
      "outputs": [
        {
          "output_type": "stream",
          "name": "stdout",
          "text": [
            "Requirement already satisfied: gradio in /usr/local/lib/python3.11/dist-packages (5.30.0)\n",
            "Requirement already satisfied: aiofiles<25.0,>=22.0 in /usr/local/lib/python3.11/dist-packages (from gradio) (24.1.0)\n",
            "Requirement already satisfied: anyio<5.0,>=3.0 in /usr/local/lib/python3.11/dist-packages (from gradio) (4.9.0)\n",
            "Requirement already satisfied: fastapi<1.0,>=0.115.2 in /usr/local/lib/python3.11/dist-packages (from gradio) (0.115.12)\n",
            "Requirement already satisfied: ffmpy in /usr/local/lib/python3.11/dist-packages (from gradio) (0.5.0)\n",
            "Requirement already satisfied: gradio-client==1.10.1 in /usr/local/lib/python3.11/dist-packages (from gradio) (1.10.1)\n",
            "Requirement already satisfied: groovy~=0.1 in /usr/local/lib/python3.11/dist-packages (from gradio) (0.1.2)\n",
            "Requirement already satisfied: httpx>=0.24.1 in /usr/local/lib/python3.11/dist-packages (from gradio) (0.28.1)\n",
            "Requirement already satisfied: huggingface-hub>=0.28.1 in /usr/local/lib/python3.11/dist-packages (from gradio) (0.31.2)\n",
            "Requirement already satisfied: jinja2<4.0 in /usr/local/lib/python3.11/dist-packages (from gradio) (3.1.6)\n",
            "Requirement already satisfied: markupsafe<4.0,>=2.0 in /usr/local/lib/python3.11/dist-packages (from gradio) (3.0.2)\n",
            "Requirement already satisfied: numpy<3.0,>=1.0 in /usr/local/lib/python3.11/dist-packages (from gradio) (2.0.2)\n",
            "Requirement already satisfied: orjson~=3.0 in /usr/local/lib/python3.11/dist-packages (from gradio) (3.10.18)\n",
            "Requirement already satisfied: packaging in /usr/local/lib/python3.11/dist-packages (from gradio) (24.2)\n",
            "Requirement already satisfied: pandas<3.0,>=1.0 in /usr/local/lib/python3.11/dist-packages (from gradio) (2.2.2)\n",
            "Requirement already satisfied: pillow<12.0,>=8.0 in /usr/local/lib/python3.11/dist-packages (from gradio) (11.2.1)\n",
            "Requirement already satisfied: pydantic<2.12,>=2.0 in /usr/local/lib/python3.11/dist-packages (from gradio) (2.11.4)\n",
            "Requirement already satisfied: pydub in /usr/local/lib/python3.11/dist-packages (from gradio) (0.25.1)\n",
            "Requirement already satisfied: python-multipart>=0.0.18 in /usr/local/lib/python3.11/dist-packages (from gradio) (0.0.20)\n",
            "Requirement already satisfied: pyyaml<7.0,>=5.0 in /usr/local/lib/python3.11/dist-packages (from gradio) (6.0.2)\n",
            "Requirement already satisfied: ruff>=0.9.3 in /usr/local/lib/python3.11/dist-packages (from gradio) (0.11.10)\n",
            "Requirement already satisfied: safehttpx<0.2.0,>=0.1.6 in /usr/local/lib/python3.11/dist-packages (from gradio) (0.1.6)\n",
            "Requirement already satisfied: semantic-version~=2.0 in /usr/local/lib/python3.11/dist-packages (from gradio) (2.10.0)\n",
            "Requirement already satisfied: starlette<1.0,>=0.40.0 in /usr/local/lib/python3.11/dist-packages (from gradio) (0.46.2)\n",
            "Requirement already satisfied: tomlkit<0.14.0,>=0.12.0 in /usr/local/lib/python3.11/dist-packages (from gradio) (0.13.2)\n",
            "Requirement already satisfied: typer<1.0,>=0.12 in /usr/local/lib/python3.11/dist-packages (from gradio) (0.15.3)\n",
            "Requirement already satisfied: typing-extensions~=4.0 in /usr/local/lib/python3.11/dist-packages (from gradio) (4.13.2)\n",
            "Requirement already satisfied: uvicorn>=0.14.0 in /usr/local/lib/python3.11/dist-packages (from gradio) (0.34.2)\n",
            "Requirement already satisfied: fsspec in /usr/local/lib/python3.11/dist-packages (from gradio-client==1.10.1->gradio) (2025.3.2)\n",
            "Requirement already satisfied: websockets<16.0,>=10.0 in /usr/local/lib/python3.11/dist-packages (from gradio-client==1.10.1->gradio) (15.0.1)\n",
            "Requirement already satisfied: idna>=2.8 in /usr/local/lib/python3.11/dist-packages (from anyio<5.0,>=3.0->gradio) (3.10)\n",
            "Requirement already satisfied: sniffio>=1.1 in /usr/local/lib/python3.11/dist-packages (from anyio<5.0,>=3.0->gradio) (1.3.1)\n",
            "Requirement already satisfied: certifi in /usr/local/lib/python3.11/dist-packages (from httpx>=0.24.1->gradio) (2025.4.26)\n",
            "Requirement already satisfied: httpcore==1.* in /usr/local/lib/python3.11/dist-packages (from httpx>=0.24.1->gradio) (1.0.9)\n",
            "Requirement already satisfied: h11>=0.16 in /usr/local/lib/python3.11/dist-packages (from httpcore==1.*->httpx>=0.24.1->gradio) (0.16.0)\n",
            "Requirement already satisfied: filelock in /usr/local/lib/python3.11/dist-packages (from huggingface-hub>=0.28.1->gradio) (3.18.0)\n",
            "Requirement already satisfied: requests in /usr/local/lib/python3.11/dist-packages (from huggingface-hub>=0.28.1->gradio) (2.32.3)\n",
            "Requirement already satisfied: tqdm>=4.42.1 in /usr/local/lib/python3.11/dist-packages (from huggingface-hub>=0.28.1->gradio) (4.67.1)\n",
            "Requirement already satisfied: python-dateutil>=2.8.2 in /usr/local/lib/python3.11/dist-packages (from pandas<3.0,>=1.0->gradio) (2.9.0.post0)\n",
            "Requirement already satisfied: pytz>=2020.1 in /usr/local/lib/python3.11/dist-packages (from pandas<3.0,>=1.0->gradio) (2025.2)\n",
            "Requirement already satisfied: tzdata>=2022.7 in /usr/local/lib/python3.11/dist-packages (from pandas<3.0,>=1.0->gradio) (2025.2)\n",
            "Requirement already satisfied: annotated-types>=0.6.0 in /usr/local/lib/python3.11/dist-packages (from pydantic<2.12,>=2.0->gradio) (0.7.0)\n",
            "Requirement already satisfied: pydantic-core==2.33.2 in /usr/local/lib/python3.11/dist-packages (from pydantic<2.12,>=2.0->gradio) (2.33.2)\n",
            "Requirement already satisfied: typing-inspection>=0.4.0 in /usr/local/lib/python3.11/dist-packages (from pydantic<2.12,>=2.0->gradio) (0.4.0)\n",
            "Requirement already satisfied: click>=8.0.0 in /usr/local/lib/python3.11/dist-packages (from typer<1.0,>=0.12->gradio) (8.2.0)\n",
            "Requirement already satisfied: shellingham>=1.3.0 in /usr/local/lib/python3.11/dist-packages (from typer<1.0,>=0.12->gradio) (1.5.4)\n",
            "Requirement already satisfied: rich>=10.11.0 in /usr/local/lib/python3.11/dist-packages (from typer<1.0,>=0.12->gradio) (13.9.4)\n",
            "Requirement already satisfied: six>=1.5 in /usr/local/lib/python3.11/dist-packages (from python-dateutil>=2.8.2->pandas<3.0,>=1.0->gradio) (1.17.0)\n",
            "Requirement already satisfied: markdown-it-py>=2.2.0 in /usr/local/lib/python3.11/dist-packages (from rich>=10.11.0->typer<1.0,>=0.12->gradio) (3.0.0)\n",
            "Requirement already satisfied: pygments<3.0.0,>=2.13.0 in /usr/local/lib/python3.11/dist-packages (from rich>=10.11.0->typer<1.0,>=0.12->gradio) (2.19.1)\n",
            "Requirement already satisfied: charset-normalizer<4,>=2 in /usr/local/lib/python3.11/dist-packages (from requests->huggingface-hub>=0.28.1->gradio) (3.4.2)\n",
            "Requirement already satisfied: urllib3<3,>=1.21.1 in /usr/local/lib/python3.11/dist-packages (from requests->huggingface-hub>=0.28.1->gradio) (2.4.0)\n",
            "Requirement already satisfied: mdurl~=0.1 in /usr/local/lib/python3.11/dist-packages (from markdown-it-py>=2.2.0->rich>=10.11.0->typer<1.0,>=0.12->gradio) (0.1.2)\n"
          ]
        }
      ]
    },
    {
      "cell_type": "code",
      "source": [
        "import gradio as gr\n",
        "import numpy as np\n",
        "import joblib\n",
        "\n",
        "# Load the saved model components\n",
        "model = joblib.load('rf_model.pkl')                   # Trained OneVsRestClassifier\n",
        "scaler = joblib.load('scaler.pkl')                    # Trained MinMaxScaler\n",
        "label_encoder = joblib.load('label_encoder.pkl')      # Fitted LabelEncoder\n",
        "selected_indices = joblib.load('selected_features.pkl')  # Top 300 feature indices\n",
        "\n",
        "# Prediction function: accepts a sequence of gene expression values\n",
        "def predict_cancer_from_sequence(seq):\n",
        "    try:\n",
        "        # Convert comma-separated string to float list\n",
        "        values = list(map(float, seq.strip().split(',')))\n",
        "\n",
        "        # Check if length matches expected feature count\n",
        "        if len(values) != len(scaler.feature_names_in_):\n",
        "            return f\"⚠️ Expected {len(scaler.feature_names_in_)} values, but got {len(values)}\"\n",
        "\n",
        "        # Convert to numpy array and reshape\n",
        "        input_array = np.array(values).reshape(1, -1)\n",
        "\n",
        "        # Scale and select top features\n",
        "        input_scaled = scaler.transform(input_array)\n",
        "        input_selected = input_scaled[:, selected_indices]\n",
        "\n",
        "        # Predict\n",
        "        prediction = model.predict(input_selected)\n",
        "        predicted_class = label_encoder.inverse_transform(prediction)\n",
        "\n",
        "        return f\"🧬 Predicted Cancer Type: {predicted_class[0]}\"\n",
        "\n",
        "    except Exception as e:\n",
        "        return f\"❌ Error: {str(e)}\"\n",
        "\n",
        "# Gradio Interface\n",
        "gr.Interface(\n",
        "    fn=predict_cancer_from_sequence,\n",
        "    inputs=gr.Textbox(\n",
        "        label=\"Enter Gene Expression Sequence (comma-separated)\",\n",
        "        placeholder=\"1.23, 0.87, 0.56, ..., 0.94\"\n",
        "    ),\n",
        "    outputs=\"text\",\n",
        "    title=\"Cancer Type Prediction from Gene Expression\",\n",
        "    description=\"Paste gene expression values (20531 total, comma-separated).\",\n",
        ").launch(share=True)\n"
      ],
      "metadata": {
        "colab": {
          "base_uri": "https://localhost:8080/",
          "height": 613
        },
        "id": "fA7IYiSpdXha",
        "outputId": "b39e8ae7-6a51-407f-d9a7-2a7e657f6e33"
      },
      "execution_count": null,
      "outputs": [
        {
          "output_type": "stream",
          "name": "stdout",
          "text": [
            "Colab notebook detected. To show errors in colab notebook, set debug=True in launch()\n",
            "* Running on public URL: https://486166e34be3de650c.gradio.live\n",
            "\n",
            "This share link expires in 1 week. For free permanent hosting and GPU upgrades, run `gradio deploy` from the terminal in the working directory to deploy to Hugging Face Spaces (https://huggingface.co/spaces)\n"
          ]
        },
        {
          "output_type": "display_data",
          "data": {
            "text/plain": [
              "<IPython.core.display.HTML object>"
            ],
            "text/html": [
              "<div><iframe src=\"https://486166e34be3de650c.gradio.live\" width=\"100%\" height=\"500\" allow=\"autoplay; camera; microphone; clipboard-read; clipboard-write;\" frameborder=\"0\" allowfullscreen></iframe></div>"
            ]
          },
          "metadata": {}
        },
        {
          "output_type": "execute_result",
          "data": {
            "text/plain": []
          },
          "metadata": {},
          "execution_count": 40
        }
      ]
    },
    {
      "cell_type": "code",
      "source": [
        "import pandas as pd\n",
        "import numpy as np\n",
        "\n",
        "# Load the CSV file\n",
        "df = pd.read_csv(\"/content/cancer_gene_expression.csv\")\n",
        "\n",
        "# Get the second row (index 1), excluding the label column\n",
        "row_values = df.iloc[2, :-1].values\n",
        "\n",
        "# Convert to comma-separated string\n",
        "formatted_row = ', '.join(map(str, row_values))\n",
        "\n",
        "print(formatted_row)"
      ],
      "metadata": {
        "colab": {
          "base_uri": "https://localhost:8080/"
        },
        "id": "Qub4S68bjmG1",
        "outputId": "2f586d20-cb65-4946-939c-6d45bea48bf6"
      },
      "execution_count": null,
      "outputs": [
        {
          "output_type": "stream",
          "name": "stdout",
          "text": [
            "0.0, 0.0, 0.0, 4.74664598834, 0.0, 0.0, 0.0, 0.0, 2.63941740915, 1.65709117371, 0.0, 6.27254021148, 0.0, 0.0, 0.0, 0.387031609526, 0.0, 0.0, 6.84355679938, 0.0, 0.691891444525, 0.0, 0.0, 0.0, 0.0, 0.0, 0.0, 4.932557296, 0.0, 0.0, 0.0, 0.0, 1.79139734815, 2.48938879332, 0.0, 0.0, 0.0, 0.0, 0.0, 0.0, 0.0, 0.0, 0.0, 0.0, 0.0, 0.0, 0.0, 0.0, 0.0, 0.0, 0.0, 0.0, 0.0, 0.0, 0.0, 0.0, 0.0, 0.0, 10.5081711186, 0.0, 0.0, 0.0, 0.0, 0.0, 0.0, 0.0, 0.0, 0.0, 0.0, 0.0, 0.0, 0.0, 0.0, 0.0, 0.0, 0.0, 0.0, 0.0, 0.0, 0.0, 0.0, 0.0, 10.6895263112, 0.0, 0.0, 0.0, 0.0, 0.0, 0.0, 0.0, 0.0, 0.0, 0.387031609526, 0.0, 0.0, 0.0, 0.0, 0.0, 0.0, 0.0, 0.0, 0.0, 0.0, 0.0, 0.0, 0.0, 0.0, 0.0, 0.0, 0.0, 0.0, 0.387031609526, 0.0, 0.0, 0.0, 0.387031609526, 0.0, 0.0, 0.0, 0.387031609526, 0.691891444525, 0.0, 0.0, 0.0, 0.0, 0.0, 8.49462361487, 9.7652546003, 0.0, 0.0, 0.0, 11.0412895335, 3.47946340209, 0.0, 2.4080868295, 0.387031609526, 13.0416728394, 0.0, 10.4560360629, 0.0, 7.00433284325, 11.2713287903, 10.6754807592, 0.0, 0.0, 0.0, 0.387031609526, 0.0, 0.0, 0.0, 0.0, 0.0, 0.0, 0.0, 0.0, 0.0, 0.0, 0.0, 0.0, 0.0, 0.0, 0.387031609526, 0.0, 11.6974020075, 5.19897732841, 0.0, 0.0, 0.0, 0.0, 0.0, 0.0, 0.0, 0.0, 10.4353473111, 0.0, 0.0, 4.21245261123, 0.0, 0.0, 9.05882515941, 0.0, 5.08419610884, 0.0, 0.387031609526, 0.387031609526, 0.0, 0.0, 5.49185309633, 0.0, 0.0, 0.0, 0.0, 0.0, 0.0, 0.0, 0.0, 0.0, 0.0, 0.0, 0.0, 0.0, 10.4009648003, 0.0, 0.0, 0.0, 0.387031609526, 0.0, 0.0, 3.66588162174, 0.0, 8.56664013292, 0.0, 9.18468445826, 0.387031609526, 0.0, 0.0, 0.0, 0.0, 8.14771372235, 0.0, 11.4945106162, 0.0, 0.0, 2.83870978523, 0.0, 0.691891444525, 0.0, 0.0, 7.52174960864, 0.0, 0.0, 0.0, 0.0, 0.0, 0.0, 0.0, 0.0, 0.387031609526, 2.0274725702, 6.80334329478, 0.0, 0.0, 7.46006265969, 1.50903704235, 9.72985692517, 0.387031609526, 0.0, 0.0, 0.0, 10.5395271943, 1.6011259806, 0.0, 12.4166550452, 0.0, 0.0, 7.97419659158, 8.81353430894, 8.71450998751, 0.0, 0.0, 0.0, 0.0, 1.34397626007, 0.0, 0.0, 0.0, 0.0, 0.0, 0.0, 2.89946568745, 0.0, 9.89633240391, 0.0, 0.0, 0.0, 0.0, 0.0, 0.0, 0.0, 0.0, 0.0, 0.0, 7.37168953559, 0.0, 11.0296599326, 11.6886874232, 0.0, 0.0, 0.387031609526, 0.0, 0.0, 0.0, 2.83870978523, 4.51388231719, 0.0, 0.0, 0.0, 0.0, 0.0, 2.56635244343, 0.0, 0.387031609526, 0.0, 0.0, 0.0, 10.1807669897, 10.5945392192, 12.6688451058, 0.0, 0.0, 0.387031609526, 0.0, 8.05986357538, 0.0, 0.0, 0.0, 0.387031609526, 0.387031609526, 3.7671674621, 0.0, 0.0, 0.0, 0.0, 0.0, 0.0, 0.0, 0.387031609526, 0.0, 0.0, 0.0, 0.0, 6.47073695439, 0.0, 0.0, 0.0, 0.0, 0.0, 0.0, 0.0, 0.0, 0.0, 0.0, 0.0, 0.0, 0.0, 0.0, 0.0, 0.0, 0.0, 0.0, 0.0, 0.0, 0.0, 0.0, 0.0, 0.0, 0.0, 0.0, 0.0, 0.0, 0.0, 0.0, 0.0, 0.0, 0.0, 0.0, 0.0, 0.0, 0.0, 0.0, 0.0, 0.0, 0.0, 1.08617232513, 0.0, 0.0, 0.0, 0.0, 0.0, 0.0, 0.0, 0.0, 0.0, 0.0, 0.0, 0.0, 0.0, 0.0, 0.0, 0.0, 0.0, 0.0, 0.0, 0.0, 0.0, 0.0, 0.0, 0.0, 0.0, 1.34397626007, 0.0, 0.0, 0.0, 0.0, 0.0, 0.0, 0.0, 0.0, 0.0, 0.0, 0.0, 0.0, 0.0, 0.0, 0.0, 0.0, 0.0, 0.0, 0.0, 0.0, 0.387031609526, 4.5710214422, 0.0, 0.0, 0.0, 0.0, 0.0, 0.0, 0.0, 0.0, 0.0, 0.0, 0.0, 0.0, 0.0, 0.0, 8.28859849919, 1.34397626007, 0.0, 10.6505671227, 0.0, 0.387031609526, 0.0, 8.70283759202, 0.0, 9.2349084198, 6.38303894435, 0.0, 7.89061692649, 0.0, 0.0, 0.0, 11.330440755, 7.35551848339, 0.0, 0.0, 0.0, 0.0, 0.472695712518, 0.0, 0.0, 0.0, 0.0, 0.0, 0.0, 0.0, 0.0, 0.0, 0.0, 0.0, 0.0, 0.0, 7.06525994085, 2.95776605096, 0.0, 0.0, 0.0, 0.0, 0.0, 0.0, 1.50903704235, 0.0, 0.0, 0.0, 9.32694849431, 7.13639648645, 8.58178055681, 9.02258142706, 0.0, 2.77530343883, 0.0, 0.0, 0.0, 5.34668392125, 0.0, 0.0, 0.0, 0.0, 0.0, 0.0, 0.0, 0.0, 6.28397916791, 5.31357963597, 0.0, 0.0, 0.0, 0.0, 9.00972226541, 0.0, 0.0, 0.0, 0.0, 0.387031609526, 0.0, 0.0, 0.0, 0.0, 0.0, 0.0, 0.0, 0.0, 10.202405477, 0.0, 0.0, 0.0, 0.0, 0.0, 0.0, 0.0, 0.0, 0.0, 0.0, 0.0, 0.0, 0.691891444525, 0.0, 0.387031609526, 8.50572026634, 9.45162325154, 9.62444456145, 0.0, 0.0, 0.0, 0.0, 0.0, 0.0, 0.0, 0.0, 0.387031609526, 0.0, 0.0, 0.0, 0.387031609526, 0.0, 0.0, 0.387031609526, 0.0, 0.0, 0.0, 0.0, 0.0, 0.94343378387, 0.0, 0.0, 0.0, 0.0, 0.0, 0.0, 0.0, 0.0, 0.0, 0.0, 0.0, 0.0, 0.0, 0.0, 0.0, 0.0, 0.0, 0.0, 0.0, 0.0, 0.94343378387, 0.0, 0.0, 0.0, 0.94343378387, 0.387031609526, 0.0, 0.691891444525, 0.0, 0.0, 0.0, 0.0, 0.0, 0.0, 0.0, 0.0, 0.387031609526, 0.251931126689, 0.0, 1.34397626007, 0.387031609526, 0.0, 0.903655333869, 0.691891444525, 0.0, 0.0, 0.0, 0.0, 0.0, 0.0, 0.0, 0.0, 0.0, 0.217975140923, 0.387031609526, 0.387031609526, 0.387031609526, 1.34397626007, 0.0, 0.0, 1.65709117371, 0.0522767654524, 0.0, 0.0, 0.0, 12.450278211, 7.84473714406, 0.0, 0.0, 0.0, 7.37704564153, 0.0, 9.11430975749, 0.0, 0.0, 0.0, 0.0, 3.35484705629, 7.71159814926, 0.0, 0.0, 10.2715564032, 13.6870147458, 0.0, 0.94343378387, 0.0, 0.0, 0.0, 0.0, 0.0, 9.06877827799, 0.0, 9.8114357077, 0.0, 0.0, 9.16780448547, 8.38560359805, 3.70043971814, 9.10066233901, 9.45200437598, 0.0, 0.691891444525, 0.0, 0.0, 6.27254021148, 0.0, 0.387031609526, 0.0, 0.0, 0.0, 0.0, 1.50903704235, 0.0, 0.0, 0.0, 8.7714894695, 0.0, 0.0, 0.0, 0.0, 5.08026538796, 0.387031609526, 0.0, 0.0, 0.0, 0.0, 8.03299894106, 0.387031609526, 8.72188869433, 0.691891444525, 0.0, 0.0, 0.0, 0.94343378387, 0.0, 0.387031609526, 0.0, 10.1144060696, 0.0, 0.94343378387, 0.0, 8.91449874926, 0.0, 7.53616949265, 0.0, 7.61754092975, 0.0, 0.0, 0.0, 0.0, 4.41330296874, 0.0, 0.0, 5.46717838391, 0.0, 0.387031609526, 0.0, 0.0, 1.50903704235, 4.84259171533, 0.0, 11.5117427723, 0.0, 0.0, 0.0, 0.0, 0.0, 3.54368146691, 0.0, 0.0, 0.0, 0.0, 0.691891444525, 0.0, 0.691891444525, 0.0, 11.5610301275, 1.79139734815, 0.0, 0.0, 9.96633961536, 0.0, 0.0, 0.0, 0.691891444525, 0.0, 0.0, 0.0, 0.0, 0.0, 0.0, 0.387031609526, 2.4080868295, 4.77933852531, 0.0, 0.0, 0.0, 0.0, 0.0, 0.0, 0.0, 0.0, 0.691891444525, 0.0, 0.0, 10.2851363131, 0.0, 0.387031609526, 0.0, 0.0, 1.79139734815, 0.691891444525, 4.76618699408, 0.0, 0.0, 0.0, 0.0, 0.0, 7.54808207274, 10.6632200719, 0.0, 0.0, 3.01380167753, 0.0, 0.0, 0.0, 0.0, 0.0, 0.0, 0.0, 0.0, 6.22858206911, 0.0, 0.0, 0.0, 0.0, 0.0, 0.0, 0.94343378387, 5.44166606244, 0.691891444525, 0.0, 0.387031609526, 0.0, 0.0, 0.0, 0.0, 0.0, 0.0, 0.387031609526, 1.65709117371, 0.0, 0.387031609526, 0.0, 3.74184446469, 0.0, 0.0, 0.0, 8.88569637334, 0.0, 9.95743727681, 0.0, 0.0, 0.0, 8.08711803837, 9.0860353523, 0.0, 0.0, 10.2971799505, 0.0, 0.0, 0.0, 11.7631169034, 0.0, 8.80958165134, 0.0, 0.387031609526, 0.691891444525, 0.0, 0.0, 0.0, 1.15756117609, 0.0, 9.07866320045, 0.0, 0.0, 0.0, 0.387031609526, 0.0, 0.0, 0.0, 0.387031609526, 0.0, 0.0, 0.0, 0.0, 0.0, 0.0, 0.0, 0.94343378387, 8.57945925703, 0.0, 0.0, 0.0, 0.0, 9.28486804538, 0.94343378387, 0.387031609526, 9.56983852368, 0.0, 0.0, 0.0, 0.0, 0.387031609526, 0.0, 0.0, 7.95739809749, 0.0, 0.0, 0.0, 2.95776605096, 0.0, 4.87320784801, 0.0, 0.0, 0.387031609526, 5.05778382977, 0.0, 6.00864374968, 2.83870978523, 0.0, 0.0, 10.8751580247, 0.0, 10.1266012352, 0.0, 10.6339034093, 0.387031609526, 0.0, 0.0, 0.0, 2.23029525435, 0.0, 0.0, 9.29055111703, 4.83031617897, 0.0, 4.51388231719, 0.0, 3.23738015765, 0.0, 7.28895832989, 0.0, 0.0, 0.0, 2.95776605096, 0.0, 0.0, 0.0, 0.0, 0.0, 0.0, 0.0, 0.0, 0.0, 8.42400668054, 0.0, 0.387031609526, 0.0, 0.0, 0.0, 0.0, 0.0, 0.0, 2.70895970441, 10.3847837501, 0.0, 0.0, 2.5090116979, 0.0, 0.387031609526, 0.0, 0.387031609526, 0.0, 0.387031609526, 0.0, 9.66164094617, 0.0, 0.0, 0.0, 0.0, 0.0, 0.0, 9.23196034253, 0.0, 0.0, 0.0, 0.0, 0.0, 12.7444617659, 1.15756117609, 0.0, 1.15756117609, 0.691891444525, 0.0, 0.691891444525, 0.387031609526, 8.84538341302, 0.0, 0.0, 6.64939415221, 3.16992500144, 8.44198552685, 0.0, 0.0, 9.79553969087, 0.0, 0.0, 0.0, 9.11914085658, 9.66218947437, 0.0, 0.387031609526, 7.76155123244, 6.67568892778, 12.0069466476, 0.0, 0.0, 0.0, 0.0, 0.0, 6.82017896242, 11.0559602345, 0.0, 0.0, 0.0, 0.387031609526, 0.0, 0.0, 0.387031609526, 10.7847002724, 0.0, 0.0, 0.0, 0.0, 0.0, 0.0, 0.0, 0.94343378387, 0.0, 0.0, 0.0, 0.0, 11.326300268, 0.0, 8.00216804823, 0.0, 0.0, 0.0, 0.691891444525, 0.0, 0.0, 0.0, 0.387031609526, 0.0, 4.10613890245, 0.0, 0.0, 0.0, 0.0, 0.0, 0.0, 0.0, 9.64565843241, 6.48567476907, 9.43669280572, 3.16992500144, 9.80698292929, 0.475914972178, 7.79391538532, 5.47548377449, 4.43337345477, 0.387031609526, 4.52837752966, 6.43013135945, 3.31167748386, 0.0, 0.691891444525, 0.0, 0.0, 7.97065812279, 2.0274725702, 1.50903704235, 0.387031609526, 0.0, 2.32192809489, 0.0, 0.0, 0.0, 7.49827480585, 0.0, 0.0, 0.0, 0.0, 0.0, 0.387031609526, 4.73251885424, 0.0, 4.13876532995, 0.0, 0.0, 0.0, 0.387031609526, 11.9667001053, 0.0, 0.94343378387, 9.93776956903, 5.95955688761, 0.691891444525, 0.0, 0.0, 7.47446038001, 0.0, 0.387031609526, 11.3867355168, 0.0, 0.691891444525, 0.0, 0.0, 0.387031609526, 0.0, 3.83094486171, 4.6615044941, 0.94343378387, 1.50903704235, 3.26534687483, 0.0, 0.0, 0.0, 0.0, 0.0, 0.0, 0.387031609526, 0.0, 0.94343378387, 2.63941740915, 0.0, 0.94343378387, 0.0, 5.54225804977, 0.0, 8.6753501974, 4.15530398766, 9.98178131573, 0.0, 0.0, 9.65614952717, 1.34397626007, 3.26534687483, 0.0, 0.0, 0.0, 10.7360805449, 0.0, 0.0, 2.4080868295, 0.0, 10.0089607803, 9.2669668663, 0.0, 10.4055457016, 0.0, 0.0, 5.13560874279, 0.0, 8.32504455445, 9.41411650106, 0.0, 0.0, 6.63642451429, 1.34397626007, 0.691891444525, 0.0, 0.0, 1.15756117609, 0.0, 0.0, 6.00173244765, 11.0836322316, 9.75963190321, 7.89807530106, 0.0, 7.98069369465, 0.0, 0.0, 0.0, 0.0, 0.0, 0.0, 9.0259921895, 0.691891444525, 0.0, 11.0465374424, 11.0219932186, 8.48598222225, 0.0, 0.0, 0.0, 10.972707012, 0.0, 0.0, 0.0, 0.0, 0.0, 0.0, 0.387031609526, 10.3101810445, 0.0, 0.0, 2.77530343883, 0.0, 0.0, 5.24500499614, 9.11354163313, 0.0, 0.0, 0.0, 5.54035280633, 1.15756117609, 0.0, 0.0, 0.0, 0.0, 4.21603573201, 0.691891444525, 0.0, 0.0, 0.0, 6.96933471291, 0.0, 1.43541524075, 0.0, 0.0, 0.0, 0.0, 0.0, 0.0, 0.0, 0.691891444525, 0.0, 0.0, 0.0, 0.0, 0.0, 0.0, 0.0, 0.0, 9.36979579861, 0.0, 0.0, 6.46572311338, 0.0, 0.0, 0.0, 0.0, 0.0, 0.387031609526, 0.0, 0.0, 0.0, 9.52792851068, 0.0, 0.0, 7.87935043927, 4.16597623589, 0.0, 0.387031609526, 9.35772133541, 0.0, 0.0, 0.0, 0.0, 9.51604470366, 10.7964777062, 0.0, 0.0, 1.79139734815, 10.7469677163, 11.0452750419, 0.0, 2.95776605096, 0.0, 5.08419610884, 9.72962074355, 12.5751208424, 9.14367657042, 5.31357963597, 0.0, 0.387031609526, 7.95821628902, 7.52657748488, 0.0, 0.0, 0.0, 5.5412112518, 0.0, 0.0, 0.387031609526, 9.5576838705, 0.0, 0.0, 9.88274238405, 0.94343378387, 8.58293980759, 0.0, 9.84367927365, 0.691891444525, 0.691891444525, 0.0, 0.0, 0.0, 0.0, 0.387031609526, 0.0, 2.49095514002, 0.0, 0.691891444525, 1.15756117609, 7.96000193207, 10.1416473644, 8.17799251549, 0.691891444525, 1.34397626007, 0.387031609526, 10.973589752, 0.0, 4.49431959822, 8.24244054613, 4.88827566689, 10.8496474846, 9.04796364891, 9.95206851205, 0.0, 0.0, 0.0, 0.0, 2.95776605096, 0.0, 0.691891444525, 9.73223188326, 0.0, 0.0, 0.0, 0.0, 0.0, 0.0, 0.0, 0.0, 8.33057184457, 10.2732128099, 0.0, 0.0, 0.0, 0.94343378387, 0.0, 0.0, 0.0, 2.4080868295, 4.5710214422, 0.0, 0.0, 4.30518258561, 7.20719983249, 0.0, 9.87694662152, 0.0, 0.0, 0.0, 0.0, 0.0, 0.0, 5.05778382977, 6.73938908852, 6.07599249179, 0.387031609526, 0.0, 1.15756117609, 0.0, 9.00972226541, 4.51388231719, 0.387031609526, 0.0, 11.1083741682, 9.7652546003, 10.0595472622, 0.0, 4.5710214422, 0.387031609526, 1.91425834882, 0.0, 0.94343378387, 10.3791400644, 10.5739027604, 0.0, 9.84657480061, 0.0, 1.65709117371, 0.0, 0.0, 0.0, 6.79641605606, 0.0, 0.0, 14.0875705753, 4.58957774602, 0.691891444525, 0.0, 0.0, 0.0, 12.0611382633, 9.91438513216, 8.63522837328, 0.0, 9.42985444106, 0.0, 2.32192809489, 0.0, 11.4020687425, 2.90717910577, 5.44166606244, 0.0, 0.691891444525, 9.56590747727, 10.9387342117, 7.99869760545, 9.54288290169, 10.9985340183, 11.003953536, 9.32556406002, 0.0, 0.0, 11.2093132322, 0.387031609526, 7.55045436956, 0.0, 8.09924785724, 0.0, 7.73679426396, 1.34397626007, 0.0, 8.71556738236, 9.38187600874, 2.0274725702, 5.90873846583, 1.79139734815, 0.691891444525, 8.74068812537, 0.0, 11.8040382274, 0.0, 0.0, 8.49010076106, 3.70043971814, 12.558659867, 0.387031609526, 9.95430828943, 1.15756117609, 0.0, 8.61159290804, 8.57018207606, 0.0, 0.0, 0.691891444525, 13.4564057557, 11.0269176054, 0.0, 0.0, 0.387031609526, 0.0, 0.94343378387, 10.8081597729, 0.0, 0.0, 0.0, 13.0790880548, 11.3071552616, 4.49431959822, 10.9991896654, 1.79139734815, 2.48938879332, 0.387031609526, 0.0, 0.0, 5.93756096849, 4.94702086696, 0.0, 0.387031609526, 0.0, 11.4673304337, 2.13244523393, 0.0, 0.0, 0.0, 9.28552937388, 8.64966934358, 2.89946568745, 0.0, 9.2933842798, 0.0, 10.0001127061, 0.387031609526, 0.0, 0.0, 0.0, 0.691891444525, 0.94343378387, 0.0, 8.67487019317, 7.77984408789, 0.387031609526, 0.0, 0.0, 0.0, 1.91425834882, 0.0, 9.48787017338, 0.94343378387, 0.0, 0.387031609526, 11.8430181032, 8.72293728252, 1.50903704235, 3.43911777337, 0.0, 4.41330296874, 11.0807642415, 0.0, 0.0, 0.0, 0.0, 11.0175948712, 0.387031609526, 0.0, 0.633012640202, 0.0, 0.0, 0.387031609526, 0.0, 0.0, 0.0, 2.63941740915, 0.0, 7.23693263066, 1.65709117371, 0.0, 0.0, 0.0, 0.0, 0.0, 0.0, 0.0, 7.85654380298, 0.691891444525, 1.34397626007, 4.41330296874, 0.0, 0.0, 9.81094270345, 10.2200033959, 0.0, 0.94343378387, 0.0, 0.387031609526, 0.0, 0.0, 9.6871744445, 12.2709464366, 0.0, 5.75035996084, 9.61428470169, 3.11973796755, 0.0, 5.60926444757, 9.9551631156, 8.07640410312, 8.91817451391, 10.4003030968, 7.28326433719, 0.0, 0.0, 0.0, 0.0, 0.0, 9.33315535031, 0.387031609526, 7.89807530106, 0.0, 0.0, 0.0, 0.0, 6.32884723271, 11.971902746, 11.902635138, 0.0, 3.26534687483, 0.0, 0.0, 10.5431188435, 0.0, 0.0, 10.5359460156, 0.0, 0.0, 0.0, 10.7045002483, 0.691891444525, 0.0, 0.0, 6.5497169107, 0.387031609526, 11.7166351481, 0.0, 0.387031609526, 10.395694783, 2.23029525435, 0.0, 0.0, 8.19778186324, 0.0, 0.0, 6.04869175211, 0.0, 0.0, 10.2069166725, 0.387031609526, 5.96190804263, 1.15756117609, 9.58799310766, 1.15756117609, 8.26570411345, 0.0, 0.0, 6.01009054559, 7.58091427461, 0.0, 0.0, 0.0, 0.0, 0.0, 3.86180652273, 0.0, 7.61979447024, 0.0, 0.387031609526, 0.0, 4.60789840178, 0.0, 0.0, 0.0, 0.0, 12.2269118712, 5.70257166613, 0.0, 0.0, 9.32487359397, 9.36649051885, 0.0, 0.0, 0.0, 6.76410194812, 0.0, 0.0, 7.48505644497, 2.0274725702, 1.65709117371, 5.27970157359, 11.3424580761, 0.0, 9.88745520573, 10.2632692004, 0.0, 4.51388231719, 0.0, 0.0, 9.34412499392, 0.0, 10.3347425598, 2.13244523393, 0.0, 8.36733174748, 0.0, 0.0, 0.0, 0.0, 6.94131762775, 0.0, 0.0, 11.3852422751, 0.691891444525, 0.387031609526, 0.387031609526, 11.1655351414, 8.87911146327, 0.0, 0.0, 0.0, 0.0, 2.23029525435, 11.4097568675, 0.0, 8.57364718749, 7.4191511994, 10.6757541948, 8.07640410312, 0.94343378387, 0.0, 10.1166428671, 0.0, 0.0, 1.50903704235, 0.0, 0.387031609526, 6.88170132242, 0.94343378387, 12.8314438262, 0.387031609526, 10.3528931183, 2.51757806048, 0.0, 0.0, 0.0, 0.0, 0.0, 10.6105265941, 7.8465873363, 0.0, 0.387031609526, 1.34397626007, 8.71556738236, 0.0, 0.0, 0.387031609526, 0.387031609526, 0.0, 9.31793487432, 9.47214452193, 9.72438253802, 8.91358058669, 8.01766585143, 0.0, 0.0, 0.0, 1.15756117609, 0.0, 0.0, 6.41460406211, 8.861086906, 0.0, 8.22500976092, 11.1923421365, 7.48257404171, 0.0, 0.94343378387, 0.0, 0.0, 0.0, 0.0, 0.0, 0.0, 0.0, 0.0, 9.88182060107, 8.44778166875, 7.88499468082, 0.0, 2.75242748111, 0.94343378387, 0.0, 0.0, 2.13244523393, 0.387031609526, 9.38387058157, 2.89946568745, 12.2244901295, 0.0, 8.71239630939, 0.0, 0.0, 0.387031609526, 3.35484705629, 1.15756117609, 0.0, 9.07784381868, 4.87320784801, 0.0, 9.07455360246, 0.0, 6.07895134139, 0.387031609526, 0.0, 8.43815143658, 0.0, 1.34397626007, 0.94343378387, 7.08762195325, 4.39231742278, 0.387031609526, 0.0, 4.23620175399, 0.0, 0.0, 0.0, 0.94343378387, 0.0, 0.0, 11.509661207, 0.0, 6.10207648542, 0.387031609526, 5.86371053417, 0.0, 0.0, 8.51053474238, 2.09969916972, 9.62500558613, 0.0, 0.0, 0.0, 0.0, 10.7487714891, 7.6130085222, 3.86180652273, 1.91425834882, 3.66588162174, 0.0, 0.0, 0.0, 9.82569342125, 6.81230568201, 0.0, 8.40448593064, 0.0, 0.94343378387, 0.0, 9.23122118071, 0.0, 0.0, 1.15756117609, 2.83870978523, 2.14655747524, 0.387031609526, 0.0, 3.66588162174, 0.0, 12.544389751, 0.0, 0.0, 0.94343378387, 8.70800785383, 0.0, 10.7585397066, 0.0, 10.9680547418, 8.59561554619, 9.1175444078, 0.0, 0.0, 1.79139734815, 0.0, 0.0, 0.0, 0.0, 0.0, 3.39759763012, 10.4579348661, 8.13915737124, 0.0, 0.387031609526, 5.2469932558, 0.0, 0.0, 0.0, 0.0, 2.23029525435, 0.0, 4.45437990954, 0.0, 11.3815862098, 0.0, 7.87367787785, 10.2840721995, 0.387031609526, 9.33976094489, 8.75719663693, 10.7053040721, 0.0, 9.64897946974, 4.52837752966, 0.0, 3.43911777337, 9.35501185801, 0.0, 11.4704656884, 9.13580674488, 3.7671674621, 0.0, 0.0, 1.34397626007, 0.0, 2.4080868295, 2.13244523393, 3.42802175926, 9.86553842428, 8.81649091155, 5.32337006906, 0.0, 0.387031609526, 0.0, 6.98752552126, 2.0274725702, 0.94343378387, 0.0, 0.0, 1.65709117371, 0.0, 1.50903704235, 0.387031609526, 0.0, 0.0, 1.50903704235, 6.11494373779, 8.29285075404, 9.64399504249, 0.0, 2.48938879332, 0.0, 0.0, 0.387031609526, 0.0, 9.86715979742, 0.0, 0.0, 3.31079089238, 0.0, 0.0, 9.63321867038, 2.63941740915, 0.387031609526, 0.0, 0.0, 6.50852689951, 0.0, 0.727179862525, 0.0, 4.9613362423, 10.4202023618, 12.7140630224, 7.5575402859, 0.94343378387, 0.0, 9.27487197482, 12.1871850277, 10.0199103653, 5.56672079745, 0.0, 9.86048953762, 0.0, 1.34397626007, 6.56273545161, 0.0, 7.00777856253, 4.08746284125, 0.0, 6.56283006917, 0.0, 5.72792045456, 0.0, 0.0, 0.0, 8.53467639775, 0.0, 7.73053806708, 0.0, 10.9941907709, 12.6067799501, 0.0, 0.0, 10.0699196241, 0.0, 8.36733174748, 10.9067177624, 0.0, 4.67893951541, 9.72962074355, 0.0, 2.0274725702, 0.0, 9.00612407305, 10.955148582, 4.74664598834, 10.1815374212, 0.0, 12.536713466, 0.0, 7.68596116658, 0.0, 3.49451801635, 7.01808887693, 0.0, 9.70643040028, 1.50903704235, 9.65449819624, 0.0, 1.50903704235, 0.0, 8.99326393226, 0.0, 11.5694521668, 0.0, 10.1329494976, 4.23620175399, 1.50903704235, 7.47510920876, 8.61951572119, 1.50903704235, 1.34397626007, 11.7725372712, 0.0, 0.0, 0.0, 9.85522823315, 8.25847652514, 8.99848324607, 0.691891444525, 0.94343378387, 0.0, 0.0, 9.8554914431, 0.0, 2.0274725702, 7.91104438081, 1.34397626007, 7.05193758303, 9.72909726806, 11.468583317, 0.0, 0.0, 0.0, 0.0, 10.4234416093, 0.94343378387, 7.41394943227, 0.691891444525, 3.26534687483, 1.50903704235, 7.04859585534, 0.0, 10.8701874545, 0.0, 0.0, 6.73938908852, 0.0, 8.83993125216, 0.0, 0.0, 0.387031609526, 0.0, 3.11973796755, 0.0, 0.0, 0.0, 0.0, 8.89225136433, 1.65709117371, 0.94343378387, 8.70578787905, 1.79139734815, 11.1959381004, 10.3265193719, 0.0, 3.11973796755, 0.0, 1.50903704235, 7.2398753474, 0.0, 10.3108740335, 0.0, 10.1037861079, 10.3757888297, 3.26534687483, 0.0, 6.63606628378, 1.50903704235, 0.0, 0.0, 10.7631459581, 0.0, 0.0, 0.0, 8.93550394734, 11.1392059851, 0.0, 0.0, 0.0, 7.44230492053, 0.0, 2.48938879332, 7.28895832989, 1.34397626007, 0.0, 0.387031609526, 0.0, 0.0, 0.0, 4.74895492808, 0.0, 6.94456566142, 0.0, 8.38868034202, 1.10895929062, 0.387031609526, 8.49675393345, 7.53856144273, 10.1746386125, 0.94343378387, 0.0, 0.0, 9.73640193132, 9.01402047031, 5.93073733756, 2.32192809489, 1.66133916674, 0.0, 0.0, 0.387031609526, 0.0, 4.79541371019, 9.34048660744, 0.0, 0.0, 13.172727518, 0.0, 8.28291234739, 1.15756117609, 9.02769316954, 9.03278686407, 0.0, 0.0, 0.0, 8.59216921706, 0.0, 1.65709117371, 0.387031609526, 8.79566630985, 8.31933342038, 7.57393494048, 0.691891444525, 6.00173244765, 10.3365065598, 0.0, 0.0, 2.32192809489, 7.24865816733, 1.79139734815, 0.94343378387, 8.13758036981, 0.0, 0.0, 0.0, 10.6629442501, 0.387031609526, 0.0, 0.0, 11.1364464752, 8.23950783589, 2.23029525435, 3.55694435279, 2.70895970441, 0.0, 6.14661856782, 9.29267593544, 10.6486362065, 10.8113746935, 0.0, 8.96245069606, 0.0, 0.0, 0.387031609526, 8.74172651333, 11.031087746, 0.0, 2.23029525435, 9.24956859447, 0.0, 0.0, 0.0, 0.0, 9.82862523536, 11.4502988341, 0.0, 1.34397626007, 8.19627261103, 10.5281512791, 9.52978581554, 5.58727196891, 0.0, 9.31793487432, 0.0, 8.73757184953, 10.2311731701, 9.7931106769, 8.35653560229, 9.40432200097, 0.0, 2.13244523393, 9.91162268075, 0.0, 0.0, 0.691891444525, 4.5710214422, 0.0, 0.0, 0.0, 0.0, 11.1932666132, 1.34397626007, 0.0, 10.2625412129, 9.2171192133, 8.48226344076, 0.387031609526, 7.2339838993, 7.82951979228, 0.691891444525, 2.83870978523, 11.4415488386, 0.0, 0.0, 8.39923519318, 0.0, 0.0, 10.5966556677, 0.0, 11.9387048114, 3.11769504267, 0.0, 1.91425834882, 6.55939697644, 0.0, 4.23620175399, 10.9907067341, 0.691891444525, 0.387031609526, 10.042398104, 0.387031609526, 11.5572817976, 0.0, 4.00691734308, 3.51872396105, 8.78865635011, 0.0, 0.0, 8.30833903014, 0.0, 10.4032570691, 1.15756117609, 4.49431959822, 8.1749256825, 10.3890935219, 12.5836069894, 0.0, 9.34344113538, 0.387031609526, 3.61860280789, 0.0, 0.387031609526, 9.55408036556, 0.0, 8.66287484146, 0.0, 4.932557296, 4.79541371019, 0.0, 11.2386793985, 0.0, 0.387031609526, 8.29683822126, 11.9987243981, 0.0, 0.0, 0.691891444525, 0.0, 0.0, 0.0, 0.0, 0.0, 6.49554807185, 0.0, 6.5828796097, 10.5347503112, 0.0, 0.0, 7.85654380298, 0.387031609526, 0.0, 0.0, 0.0, 0.0, 0.0, 0.0, 0.387031609526, 9.86192125601, 8.56058504494, 12.3871260921, 2.48938879332, 0.0, 0.0, 6.06939713395, 0.0, 1.50903704235, 0.0, 7.94386859551, 3.97903756635, 1.15756117609, 0.0, 0.0, 1.15756117609, 2.56635244343, 8.34524999063, 9.37987867454, 0.0, 14.4181622709, 0.387031609526, 2.23029525435, 0.0, 7.94746745698, 9.89073243085, 2.23029525435, 0.0, 2.48938879332, 1.50903704235, 11.3813969439, 0.0, 11.0532471259, 0.0, 0.0, 2.56635244343, 0.0, 0.0, 0.94343378387, 0.387031609526, 0.0, 0.0, 7.27755708101, 0.0, 0.0, 6.09559956612, 9.75911920657, 0.0, 10.0087507413, 0.0, 0.0, 0.94343378387, 6.69723170644, 0.0, 0.0, 0.0, 3.11973796755, 0.0, 0.0, 0.0, 0.0, 8.12332476568, 10.2333440525, 3.92160770731, 11.2138029128, 3.66588162174, 0.0, 6.10207648542, 7.91288933623, 0.0, 0.387031609526, 0.0, 9.95386032111, 10.3337591428, 9.08685009616, 0.0, 0.0, 10.305970521, 3.35874789009, 5.84143225843, 4.43398762891, 0.0, 1.34397626007, 1.34397626007, 3.92541083079, 0.0, 11.5706242082, 7.17377705977, 9.23564569536, 9.72648044368, 2.70895970441, 3.66588162174, 0.0, 0.0, 10.1979538276, 1.65709117371, 0.0, 1.91662950469, 6.12133458266, 0.0, 0.0, 4.43398762891, 6.41397988676, 10.0674343608, 0.0, 0.387031609526, 4.88151290325, 9.84367927365, 0.0, 7.44994098126, 1.75373288422, 9.54466697905, 8.97308888127, 0.934176781922, 0.0, 5.03087897343, 0.0, 0.691891444525, 0.0, 9.18544784537, 10.3664096477, 3.59417827401, 10.2307650153, 10.182295025, 10.2722681912, 0.0, 10.3907493576, 0.0, 9.95162130454, 0.0, 0.691891444525, 0.387031609526, 8.40579669791, 0.387031609526, 7.34463323716, 8.71978238512, 0.0, 0.0, 6.06939713395, 0.94343378387, 0.0, 10.6852218449, 0.0, 1.15756117609, 0.0, 6.17883811338, 0.0, 0.387031609526, 12.6668564305, 0.94343378387, 5.87131387326, 7.70097369392, 0.0, 9.06381030197, 10.2610958915, 7.24865816733, 10.9883012425, 11.6253207242, 0.0, 8.19929444665, 10.557023263, 10.8810986616, 8.83021094925, 10.4910914729, 10.5629006468, 5.64163561674, 0.0, 10.1727150189, 10.8939461244, 1.15756117609, 9.6255682191, 0.0, 0.94343378387, 2.96062291049, 9.65889874179, 0.0, 11.0609525681, 9.23711911711, 0.387031609526, 0.94343378387, 2.77530343883, 7.88311368241, 1.34397626007, 0.0, 10.8285649438, 0.94343378387, 0.0, 5.14918618817, 0.0, 2.23029525435, 9.55767238426, 2.0274725702, 7.07516891664, 3.16992500144, 0.0, 0.0, 8.30974008486, 1.15756117609, 0.0, 0.0, 10.1560830763, 10.7682505019, 10.6527732845, 3.31079089238, 5.3683388285, 0.0, 8.93096495796, 3.59417827401, 1.79139734815, 0.691891444525, 5.07105041163, 2.56635244343, 0.0, 0.0, 4.08746284125, 12.4057344847, 4.94702086696, 0.387031609526, 0.0, 5.64163561674, 0.0, 0.0, 0.387031609526, 7.53856144273, 5.08419610884, 10.2362414643, 0.387031609526, 0.0, 0.0, 5.72792045456, 10.6341848391, 0.0, 0.0, 1.50903704235, 0.0, 0.0, 10.3851074299, 0.94343378387, 0.0, 2.34919540554, 8.9318750806, 10.8423739167, 9.89260049294, 3.01380167753, 0.691891444525, 6.47573343097, 7.25738784269, 0.0, 2.89946568745, 0.0, 8.34975006999, 9.39512279628, 0.387031609526, 0.691891444525, 0.0, 7.45501480807, 0.0, 0.0, 7.47510920876, 7.158316828, 4.76308220296, 0.0, 3.39759763012, 10.4658010532, 9.91438513216, 10.0871578275, 0.0, 7.26606501278, 1.70964354547, 0.0, 10.6056924804, 10.1412258506, 0.691891444525, 0.387031609526, 5.18525604518, 8.14123351554, 7.72706274883, 0.0, 10.7148379315, 8.45953407914, 10.9037086517, 3.01380167753, 0.0, 9.13817450779, 0.0, 0.0, 0.691891444525, 7.91473193529, 10.3824619169, 3.11973796755, 0.0, 2.56635244343, 10.5928307441, 0.0, 7.47510920876, 8.55015419693, 0.94343378387, 8.75205945434, 9.09336738282, 0.0, 4.17534095915, 9.83301181551, 8.67269758961, 6.51654786215, 10.4247331755, 10.3087713188, 0.387031609526, 1.79139734815, 0.0, 9.50367271677, 2.70895970441, 0.0, 11.7044613423, 5.12292943276, 3.02911713079, 0.0, 0.0, 1.15756117609, 0.0, 0.0, 0.0, 0.387031609526, 0.0, 10.0732177352, 6.08713607625, 0.0, 5.49185309633, 2.63941740915, 0.0, 0.387031609526, 3.39759763012, 8.57014791429, 5.7610405477, 11.2801037754, 0.0, 9.51887932735, 10.1435745402, 0.94343378387, 1.50903704235, 9.68069707994, 0.691891444525, 9.66765799463, 1.34397626007, 0.0, 2.89946568745, 0.0, 10.0369153793, 7.85271051765, 10.8838804243, 7.7858905232, 10.1619128689, 7.06193816773, 12.8684213218, 0.0, 9.9408215713, 0.0, 11.450932851, 4.3710221081, 0.0, 7.71583161002, 0.0, 8.16876737548, 5.79341473062, 11.2268276002, 10.1058037719, 0.691891444525, 0.387031609526, 10.1933405457, 7.04183434495, 0.0, 0.0, 0.0, 7.92572651457, 0.0, 0.387031609526, 1.91425834882, 0.0, 11.2974895012, 12.3218632849, 0.387031609526, 9.26984667786, 0.94343378387, 9.94310964089, 0.0, 8.46226504172, 0.94343378387, 8.53228188907, 9.9720894906, 8.82847291509, 6.55340812132, 2.0274725702, 0.0, 9.89119891357, 0.0, 9.49692965416, 0.0, 11.4403085873, 10.0603852055, 11.5353142628, 0.0, 0.0, 0.691891444525, 0.0, 7.57172231057, 11.4291556342, 1.15756117609, 0.0, 5.19740543541, 10.0512089409, 0.0, 0.94343378387, 0.0, 0.0, 0.0, 10.4764221939, 7.33229618772, 10.3947091965, 0.0, 8.47230092386, 0.0, 8.85537619731, 3.00387204219, 1.34397626007, 5.65931094012, 0.0, 1.79139734815, 2.48938879332, 2.56635244343, 1.50903704235, 10.1742516018, 8.28296793043, 0.0, 0.0, 6.02918119534, 8.60590541137, 6.62261560531, 0.0, 10.5478585061, 10.9874274609, 0.0, 9.49692965416, 0.0, 11.7659242082, 13.1104457901, 0.0, 0.0, 9.16333519208, 0.0, 7.36093485003, 8.78467410203, 0.387031609526, 0.0, 2.83870978523, 7.81575472996, 6.50192951443, 4.79541371019, 0.0, 5.12292943276, 9.2870012442, 0.0, 7.46006265969, 7.32262222486, 0.691891444525, 0.387031609526, 0.0, 10.7743505619, 9.86430533235, 0.387031609526, 5.37904559903, 0.0, 0.0, 0.94343378387, 1.34397626007, 9.67961556573, 0.387031609526, 0.0, 11.7173122765, 0.0, 2.48938879332, 10.8939082151, 9.001948576, 9.71754448411, 8.38470173967, 0.94343378387, 8.22622913473, 9.71649025271, 0.0, 0.691891444525, 3.47946340209, 10.1005572208, 2.77530343883, 0.0, 9.16548740666, 8.9318750806, 0.691891444525, 0.387031609526, 8.41622751353, 0.459851250706, 0.0, 7.61074434851, 12.4069623013, 3.89202180418, 0.0, 3.97903756635, 5.84838257555, 9.14994268287, 7.79790789768, 4.49431959822, 0.691891444525, 8.76741975856, 10.6265669001, 0.691891444525, 0.0, 8.44198552685, 0.0, 0.0, 6.51993812583, 3.7671674621, 8.65738633952, 0.0, 2.56635244343, 0.0, 4.08746284125, 0.0, 0.0, 2.70895970441, 0.0, 10.6919441218, 0.0, 9.42964734499, 8.89131589046, 10.8199954221, 0.691891444525, 10.4366282673, 7.08501029784, 0.0, 0.0, 0.387031609526, 7.79391538532, 9.39314373013, 8.65293816272, 9.27630356757, 8.21132862469, 0.0, 8.73861248206, 3.39759763012, 0.0, 10.1293860629, 12.4738807495, 0.691891444525, 3.59417827401, 10.7124582172, 10.1617491488, 0.387031609526, 6.59532910151, 0.387031609526, 9.00540840943, 8.68677013189, 8.89858929562, 3.92160770731, 0.387031609526, 10.3738221872, 3.26534687483, 0.0, 8.60048534465, 0.387031609526, 0.387031609526, 10.3171525434, 6.33276342084, 11.4732744999, 0.0, 12.2785452862, 11.8761907685, 3.7671674621, 0.0, 5.73652099526, 0.387031609526, 7.79391538532, 6.82410591459, 10.4544535293, 7.37168953559, 0.94343378387, 0.94343378387, 0.0, 2.95776605096, 6.83968250702, 0.94343378387, 0.0, 9.17703576495, 11.3203380002, 0.270469140311, 0.0, 0.691891444525, 7.27755708101, 0.0, 8.9783815615, 0.0, 10.0203410682, 9.87710771665, 0.94343378387, 0.0, 0.0, 6.5907307509, 0.0, 7.9088309173, 7.02832603053, 10.7974750982, 0.387031609526, 7.9953771042, 0.387031609526, 0.0, 10.819261027, 10.240743639, 0.0, 10.0326794366, 10.2476546095, 4.77933852531, 10.2432692077, 0.0, 1.27226212497, 5.05778382977, 0.0, 0.0, 0.0, 14.7043737998, 5.76920311651, 11.7518327366, 0.0, 0.0, 9.67940972242, 9.15210481113, 0.0, 1.91425834882, 8.04984854945, 8.15948286659, 0.0, 5.50168435063, 0.387031609526, 0.0, 0.94343378387, 10.1281876988, 4.00691734308, 10.1948553285, 6.82800950875, 9.26191390973, 10.6975670761, 2.13244523393, 10.7224831017, 3.97903756635, 11.2697111211, 0.0, 9.19608076885, 6.16529293419, 10.2406959442, 0.0, 0.0, 9.99184776197, 0.0, 8.14230110589, 0.0, 5.75431298142, 9.05382273126, 0.0, 2.58050731907, 11.6129652265, 2.89946568745, 1.15756117609, 6.23177414783, 7.81575472996, 0.0, 0.0, 11.9379107765, 11.8787866376, 0.0, 9.04039384341, 5.99430138575, 7.37168953559, 0.387031609526, 0.0, 1.65709117371, 9.75244420737, 10.608254822, 3.97903756635, 0.0, 3.16992500144, 0.0, 2.85660729364, 10.5514102725, 0.387031609526, 8.98189545413, 8.40971762714, 0.691891444525, 7.89807530106, 11.2281272334, 0.94343378387, 0.0, 0.0, 8.28450487947, 1.15756117609, 1.15756117609, 6.06277364478, 12.7927252333, 0.387031609526, 0.0, 0.387031609526, 0.387031609526, 10.9539999625, 8.82825710052, 2.13244523393, 10.1062095841, 8.63746172074, 0.0, 9.52069331772, 0.0, 10.1459321458, 8.4265876474, 7.39824774708, 1.65709117371, 0.0, 5.57800881081, 1.34397626007, 0.387031609526, 6.42497413982, 0.0, 0.0, 9.30184825192, 7.87935043927, 10.4035872821, 0.0, 2.56635244343, 1.34397626007, 11.8509369066, 7.54094943358, 0.691891444525, 7.39561981637, 10.7944808511, 0.0, 8.80661084058, 8.15637639025, 0.0, 0.0, 11.6202564882, 8.94454223611, 7.37970759324, 9.62162883543, 6.40415890439, 9.69843728335, 13.0661026484, 8.4672917094, 10.4604558963, 10.4755003926, 8.74896767068, 9.97650684406, 1.15756117609, 7.95285188353, 8.09285754477, 0.691891444525, 7.96000193207, 0.0, 7.72844435715, 0.0, 0.0, 0.0, 0.0, 2.13244523393, 0.0, 0.0, 10.3365065598, 9.29196724313, 0.0, 0.0, 9.78702427182, 11.5287178156, 10.8542450542, 5.93799637687, 0.0, 9.53452661417, 7.94926644537, 0.0, 11.4754598603, 2.48938879332, 10.5830733627, 12.8078036818, 0.691891444525, 10.811623551, 9.11674422109, 2.63941740915, 6.31218412242, 8.19881334211, 6.7559157238, 0.0, 0.463099267348, 0.387031609526, 0.0, 9.28044833119, 0.0, 5.55930213345, 6.32978557682, 9.45832868304, 8.4018650834, 8.84862294043, 0.0, 9.71462503394, 2.32192809489, 6.0494303795, 0.0, 2.48938879332, 11.1697809752, 7.60619050445, 10.2307650153, 0.0, 8.61725439721, 11.6240551881, 11.9514231488, 8.84765873527, 9.44118880851, 0.0, 10.0063260785, 0.0, 6.79241289968, 0.0, 10.9396379787, 1.50903704235, 0.387031609526, 0.94343378387, 7.8372620887, 10.5209427349, 2.56635244343, 0.0, 0.0, 0.0, 9.88134954593, 9.67690558404, 10.0965175115, 5.4731862047, 0.0, 9.79001935204, 10.7600795315, 8.29991316361, 10.0411389211, 9.95226221038, 7.74302344816, 4.40850128283, 9.79053584758, 0.0, 0.0, 5.50168435063, 9.06978539498, 8.1733873191, 11.2456002407, 10.6948975997, 6.84742071536, 8.90248968133, 0.387031609526, 12.5156431739, 0.0, 0.0, 0.0, 9.2870012442, 0.0, 0.0, 12.3788150428, 0.0, 0.691891444525, 0.0, 5.46195085528, 11.2373474107, 8.43943198442, 9.21413209265, 0.94343378387, 10.4097939858, 0.0, 10.3368524081, 11.4322600149, 8.22325842245, 8.53707082257, 0.0, 8.94093606101, 10.1734897611, 0.0, 0.387031609526, 0.0, 7.02151304049, 0.691891444525, 0.94343378387, 10.9253244804, 0.0, 9.71437775865, 8.89131589046, 1.65709117371, 10.3651960355, 4.21245261123, 13.1089899253, 0.387031609526, 3.66588162174, 8.18105781379, 0.0, 8.23950783589, 0.0, 2.0274725702, 8.9061961315, 0.0, 0.0, 11.6609897435, 8.42887099313, 7.92873154379, 0.387031609526, 0.0, 11.052826137, 8.37671146685, 10.1327053552, 8.28575822467, 0.0, 0.0, 9.20513588549, 8.91541931577, 0.691891444525, 1.79139734815, 0.0, 0.0, 0.0, 10.4937754085, 1.34397626007, 6.90411073118, 8.68245391052, 7.17684134745, 1.15756117609, 8.53826266576, 0.0, 9.80499895908, 8.28335232122, 10.378132259, 0.0, 10.9458534685, 9.89020802754, 9.72700486936, 9.61258472093, 0.0, 0.0, 0.0, 0.387031609526, 10.6577293135, 7.36362666688, 2.63941740915, 13.1648220967, 9.03363498504, 0.387031609526, 0.0, 5.77731976235, 5.03087897343, 9.37744481372, 6.90411073118, 11.4073102583, 9.56473635881, 1.15756117609, 7.87178821603, 1.15756117609, 1.91425834882, 11.8751272998, 0.0, 0.0, 0.0, 7.21916852046, 5.72792045456, 0.0, 0.0, 2.23029525435, 0.0, 8.94616354117, 10.3664096477, 4.06800863537, 9.44565222309, 11.705796517, 0.0, 0.0, 2.70895970441, 9.09661501875, 9.9240137538, 0.691891444525, 0.387031609526, 8.78664536565, 9.08176302887, 9.07619831213, 3.35484705629, 3.26534687483, 9.17088898069, 0.387031609526, 9.84609366117, 1.34397626007, 5.10691359376, 0.94343378387, 0.387031609526, 0.0, 0.691891444525, 0.691891444525, 11.8414149601, 0.0, 0.387031609526, 0.0, 10.0318390223, 7.439747789, 3.89202180418, 0.387031609526, 8.42141688009, 6.8004081353, 10.1773198665, 10.1478917591, 0.691891444525, 6.51993812583, 0.0, 8.43559109283, 0.94343378387, 0.0, 3.01380167753, 11.0164322467, 2.48938879332, 9.41281327444, 0.0, 7.96888562854, 2.86455265409, 0.0, 9.35907306982, 3.55694435279, 6.83581041208, 0.0, 9.36109939661, 8.04481484406, 9.79805537647, 5.27190744025, 10.9733673237, 13.8366125651, 0.0, 11.2380822466, 11.1692047265, 1.91425834882, 11.1972658471, 8.37671146685, 8.07146236256, 9.70589844072, 8.09112856612, 8.36194377374, 0.0, 0.387031609526, 9.42341639654, 9.04292335111, 8.38470173967, 3.06774195949, 9.03024226483, 8.27862600913, 0.0, 13.5411450271, 10.3614394001, 9.96855160336, 0.0, 8.0862370907, 8.90341794019, 7.03511799808, 0.691891444525, 10.1588999651, 1.50903704235, 7.30026103038, 9.91162268075, 9.28130646255, 10.0942756632, 9.92126820733, 0.0, 1.34397626007, 14.5838290798, 3.01380167753, 1.15756117609, 0.0, 9.96899791274, 4.47448796117, 10.1978801311, 0.0, 8.30553739218, 8.71027608555, 5.34428170285, 0.0, 11.2817098398, 0.0, 1.50903704235, 7.17377705977, 8.43145581669, 11.4113891694, 9.11434359763, 12.0247414509, 0.0, 3.06774195949, 8.2143191208, 3.97903756635, 11.5997873446, 0.387031609526, 10.6383635059, 0.94343378387, 5.06124480785, 1.65709117371, 11.2382673901, 11.1081715806, 8.21084664797, 6.10852445678, 8.38602628494, 4.25955873755, 7.158316828, 2.89946568745, 6.90781602805, 9.74729004399, 9.55591582762, 4.41330296874, 2.89946568745, 0.691891444525, 0.0, 0.387031609526, 8.55779681368, 8.56894414465, 0.387031609526, 1.15756117609, 7.33916411445, 10.6547076245, 0.0, 5.93799637687, 5.96005523548, 0.387031609526, 0.0, 2.13244523393, 0.0, 8.98540365537, 1.79139734815, 3.35484705629, 0.0, 0.691891444525, 0.0, 7.73470962023, 0.0, 1.50903704235, 5.2214015164, 8.84380173752, 8.82238600119, 7.99869760545, 8.95620769988, 10.6505671227, 12.1880417046, 2.0274725702, 0.387031609526, 0.94343378387, 5.65931094012, 1.50903704235, 0.0, 10.4585604105, 10.6844155175, 8.78161216307, 10.4391867727, 0.0, 11.0921955432, 0.0, 9.65031221021, 4.38085409995, 11.4105732493, 8.24537206097, 9.15424091559, 7.38707815133, 9.62106649583, 0.0, 9.41736520664, 11.052826137, 11.4607323266, 10.4636061101, 8.41882663786, 3.95060838424, 0.94343378387, 0.0, 0.0, 7.59475753411, 11.6151652149, 10.6640383297, 7.37701960473, 10.3953734701, 4.79541371019, 0.0, 1.34397626007, 3.31079089238, 0.387031609526, 8.6835350543, 6.76410194812, 10.6563533525, 8.76640301927, 10.3063237666, 0.387031609526, 7.94566622253, 8.17646240727, 2.13244523393, 0.387031609526, 8.709214804, 9.82618141135, 10.5608486727, 9.95564990753, 10.2418044398, 4.60789840178, 9.78853074567, 8.24537206097, 10.535051761, 11.5299185281, 3.26534687483, 0.387031609526, 11.0646888816, 9.86096745211, 7.97772067965, 13.7063341267, 3.79940856015, 2.4080868295, 0.0, 9.49692965416, 8.91358058669, 9.16934630457, 7.61979447024, 11.0644868017, 9.5464488529, 11.4271347226, 9.0148796923, 11.7200817642, 10.4379080871, 0.0, 11.0482280103, 0.0, 10.3464250856, 8.60704544584, 10.3774599974, 8.22474454323, 11.0043820054, 9.71064287308, 2.56635244343, 9.0662964284, 0.387031609526, 10.5314594419, 10.3402729533, 10.995279576, 12.7674354842, 7.31148495088, 2.4080868295, 10.1074132583, 9.54228707365, 10.9314762339, 0.0, 0.0, 11.4592881617, 0.0, 0.0, 10.4465250557, 1.15756117609, 0.0, 0.0, 8.20230996602, 10.8066704457, 8.81846074953, 0.387031609526, 0.0, 10.0528804651, 4.62598931954, 5.45184410997, 7.04859585534, 8.54184004108, 6.59532910151, 0.0, 5.73627203218, 10.0335331267, 0.0, 0.0, 6.80437629077, 9.97531778404, 8.78819302757, 1.50903704235, 5.59647603001, 6.27254021148, 0.0, 8.13442632022, 10.8302695872, 12.4544766633, 9.20889031227, 8.51903074422, 10.2270262311, 0.387031609526, 8.13126536008, 0.0, 6.20795335301, 0.0, 3.51872396105, 9.2111387743, 9.05047720973, 6.19589283715, 0.0, 1.34397626007, 4.06111084947, 9.13974830264, 8.60248360443, 10.3637186435, 1.34397626007, 6.50045949977, 8.66534657745, 0.691891444525, 0.0, 0.0, 13.029778971, 0.387031609526, 10.2672314592, 5.64589760097, 0.691891444525, 0.0, 7.41134997341, 10.0598581689, 4.28255100537, 11.3032955832, 10.3714390686, 0.0, 2.23029525435, 2.77530343883, 8.58293980759, 3.17681741733, 8.27433155758, 0.0, 1.50903704235, 8.05152436849, 9.51524448972, 1.34397626007, 5.12292943276, 12.8014759734, 1.34397626007, 8.39000554184, 10.028859187, 6.10207648542, 8.8408974877, 9.10308581697, 0.387031609526, 1.65709117371, 9.06131988392, 10.0961089635, 9.93085115225, 8.20682878401, 0.387031609526, 8.92732167836, 6.89294953708, 10.5305526476, 2.95776605096, 0.691891444525, 0.0, 11.1944244546, 0.0, 10.0629635566, 8.62851480242, 10.6246583979, 12.6954458105, 0.387031609526, 7.8236092613, 12.7685193154, 0.0, 10.6394763789, 0.387031609526, 0.387031609526, 8.04481484406, 0.0, 1.79139734815, 6.85893832845, 11.7462875701, 11.4302957285, 7.41134997341, 0.0, 6.54867397166, 0.0, 0.94343378387, 8.41752766101, 9.48520944045, 8.90156384157, 6.55340812132, 0.0, 8.21879569539, 10.1062095841, 7.87178821603, 0.387031609526, 1.65709117371, 8.92092446032, 9.294797629, 10.4353473111, 0.94343378387, 7.07186990656, 5.20945336563, 0.691891444525, 12.3704558378, 7.32539540989, 8.67052170932, 8.31113523801, 0.387031609526, 1.50903704235, 8.74379768445, 2.77530343883, 9.95699027917, 6.55708991188, 12.2040300321, 0.0, 9.3850448575, 9.64621306994, 11.0341111461, 11.8453763558, 0.0, 9.70855283065, 3.92160770731, 10.6177245745, 11.0606689147, 11.8777250814, 0.387031609526, 6.79409089844, 10.4817187192, 0.0, 9.62725297845, 7.29744823158, 8.59905366229, 2.89946568745, 1.91425834882, 9.66437972608, 0.0, 12.8470730104, 10.0736328164, 10.0044311659, 9.43863177523, 5.75283153329, 0.0, 0.387031609526, 0.387031609526, 0.0, 0.94343378387, 10.0699196241, 9.60860967577, 0.691891444525, 0.0, 0.0, 0.387031609526, 0.0, 9.1389603403, 8.63746172074, 8.64745842645, 8.07640410312, 0.0, 9.08929686796, 0.0, 6.8551051777, 0.94343378387, 7.94566622253, 9.39578045434, 9.43607020181, 7.08827943009, 3.11973796755, 1.50903704235, 4.18830596568, 6.64939415221, 8.42529564279, 0.0, 8.71450998751, 0.0, 0.0, 0.691891444525, 0.0, 7.86798909983, 8.92823410154, 9.91668264372, 0.387031609526, 8.11534542676, 9.4257173494, 10.5410191531, 3.70043971814, 8.47729280587, 10.1146403156, 3.92160770731, 7.68138601249, 0.0, 11.2332961125, 11.5816713586, 9.19835172369, 8.2143191208, 8.35992961148, 7.93364344943, 0.387031609526, 6.37236362013, 10.3904161927, 10.557023263, 0.961771479349, 9.68015730346, 0.94343378387, 9.1823943534, 6.86386413386, 9.87653996811, 10.2964803508, 0.0, 8.27290033782, 1.15756117609, 0.0, 7.98999614781, 10.136106774, 0.94343378387, 8.42400668054, 0.0, 9.73275422281, 10.0432323915, 11.0264681128, 0.0, 0.94343378387, 9.70908381255, 10.0326794366, 10.3045680804, 4.87320784801, 10.8960447445, 7.72844435715, 0.0, 9.86668393018, 5.93799637687, 3.73418934342, 8.69857271751, 0.387031609526, 0.0, 8.82630378038, 2.48938879332, 14.2307184904, 0.0, 12.017476563, 0.691891444525, 1.34397626007, 0.0, 1.91425834882, 11.1417623014, 11.2608725013, 0.0, 10.1150436502, 6.90411073118, 0.0, 0.0, 11.4436221905, 11.253983359, 0.0, 3.35484705629, 0.387031609526, 3.83094486171, 9.730665427, 10.7430840555, 4.71318990319, 9.23638259434, 12.8536253541, 9.42771510823, 11.8015547866, 9.87765990626, 9.88745520573, 8.07640410312, 9.15540266176, 0.0, 0.0, 0.0, 6.40415890439, 13.3535879492, 9.23417316286, 9.87852304596, 0.0, 12.4239431473, 11.2550757931, 7.94566622253, 12.3248077913, 9.78501264479, 2.32192809489, 10.7487714891, 9.27128326344, 0.0, 9.46713476345, 13.6092249184, 9.95795521448, 8.42529564279, 11.6774818152, 12.7421304567, 0.0, 0.0, 4.85798099513, 5.01723601956, 0.0, 2.23029525435, 8.94724242563, 10.2114259742, 10.413056661, 6.61575174136, 8.09060999746, 6.72440470894, 10.848544701, 7.50229877347, 6.20193569785, 10.0104721593, 3.43911777337, 9.33933561713, 10.0533014381, 11.3805855233, 2.77530343883, 1.34397626007, 0.0, 0.94343378387, 9.46336701693, 8.94452466687, 10.2947126374, 8.2143191208, 7.17377705977, 0.0, 1.34397626007, 10.6187342032, 2.56635244343, 7.4191511994, 11.1690105039, 7.84290342764, 10.1581804762, 14.3064818445, 11.6299530657, 0.0, 0.0, 8.7926666759, 0.0, 11.7560767344, 12.2677991164, 7.79181407116, 0.0, 8.59332015352, 0.0, 12.7705007857, 0.0, 9.53033220076, 0.691891444525, 8.56312380191, 7.30588846446, 0.0, 0.0, 0.0, 0.691891444525, 0.0, 10.108223864, 10.8443448494, 9.01916258191, 0.387031609526, 6.69205051713, 2.63941740915, 0.691891444525, 10.9416712207, 2.83870978523, 3.6304753678, 7.44994098126, 2.0274725702, 0.94343378387, 0.387031609526, 1.820607877, 0.0, 8.1733873191, 8.9633411772, 2.48938879332, 0.0, 0.463099267348, 12.1382974023, 10.5537732683, 11.23476954, 0.0, 11.1751627842, 4.84259171533, 2.63941740915, 0.0, 8.83702234719, 9.56414948999, 0.94343378387, 10.312973688, 8.5706944055, 5.80933469248, 0.0, 9.75501606995, 10.3491485103, 11.2617776056, 9.57116862246, 11.1637943156, 10.6830647861, 0.387031609526, 0.0, 7.49984588708, 5.25666348454, 0.94343378387, 1.15756117609, 11.636520402, 10.5786651637, 11.9495166949, 10.0025196969, 10.6271873042, 3.26534687483, 10.6344662139, 7.88538523008, 8.33195148393, 9.3158469605, 9.78692302215, 1.91425834882, 7.27755708101, 7.93912076994, 8.95799582917, 8.20230996602, 10.6959677225, 11.8213155944, 0.94343378387, 0.0, 0.0, 1.65709117371, 1.79139734815, 0.0, 9.99402808659, 9.82998112875, 10.0957002997, 4.95562898612, 10.4535072907, 0.0, 6.70013450037, 1.34397626007, 11.4086163405, 7.60619050445, 0.0, 9.9462308123, 9.61824416262, 11.4561593044, 8.81156093928, 2.89946568745, 8.98452669247, 0.0, 7.32815429646, 1.34397626007, 3.26534687483, 1.15756117609, 8.05319281166, 5.57800881081, 0.0, 8.05986357538, 7.44739736055, 0.0, 9.53274163148, 5.49047065294, 0.0, 3.11973796755, 2.83870978523, 13.2073545095, 0.387031609526, 9.06877827799, 10.9048679025, 10.935562878, 9.78853074567, 8.33332533227, 0.387031609526, 3.16992500144, 0.0, 9.3365913561, 3.66588162174, 0.0, 5.08419610884, 1.65709117371, 10.4372735216, 9.9830363417, 1.55655203625, 8.99326393226, 3.6304753678, 0.0, 0.691891444525, 0.0, 2.70895970441, 10.2574821334, 9.60747272662, 8.71027608555, 0.0, 4.69616634734, 1.65709117371, 0.94343378387, 9.12073554073, 9.00281501561, 9.07866320045, 8.27433155758, 10.5272521783, 9.01745150828, 9.02964889082, 6.41460406211, 0.0, 0.0, 12.2203087913, 2.4080868295, 7.52657748488, 0.691891444525, 0.387031609526, 1.79014645642, 9.17165719892, 0.94343378387, 0.0, 7.15209213203, 4.81131174985, 9.67147383963, 10.7063665064, 3.06774195949, 10.6689558766, 0.0, 5.62374105355, 9.22381589716, 9.23435761105, 8.6595856736, 3.79940856015, 7.85654380298, 0.387031609526, 10.2918843862, 9.14916027031, 8.78060209974, 0.0, 13.1298400216, 0.94343378387, 3.11973796755, 6.06277364478, 8.15637639025, 10.21328652, 2.32192809489, 11.0112831728, 11.9093455956, 10.246562477, 10.7371205628, 9.85426843392, 0.0, 2.32192809489, 0.387031609526, 4.73001492439, 6.09559956612, 0.0, 0.387031609526, 1.50903704235, 10.3344409009, 0.0, 8.54896828931, 0.0, 9.94847966396, 13.3495853295, 0.691891444525, 11.2038679647, 2.32192809489, 12.014013494, 9.74522220312, 8.63857347936, 6.0494303795, 8.0862370907, 11.1001038107, 0.0, 8.48474637805, 8.2690612069, 7.92755280114, 5.24007767741, 7.42949043423, 0.94343378387, 1.15756117609, 0.0, 8.30553739218, 12.2134080409, 8.83118688222, 12.205347301, 0.0, 11.1550585382, 1.50903704235, 10.3491485103, 6.48071266299, 1.50903704235, 8.27433155758, 9.74883856273, 0.0, 10.2603785686, 0.0, 8.62963711685, 9.16239132876, 9.63509048856, 3.6304753678, 8.5678116086, 0.387031609526, 2.0274725702, 0.0, 6.82879657644, 9.41598254942, 8.79666264064, 0.0, 11.1141913107, 9.19229281447, 9.51585158921, 1.91425834882, 0.0, 2.13244523393, 9.93946608613, 12.8931403375, 9.12948137388, 10.6333403851, 10.2151568065, 3.51872396105, 0.0, 1.91425834882, 0.0, 8.60476818111, 10.5157786719, 0.0, 9.12000972424, 0.0, 11.602378746, 0.0, 1.15756117609, 12.4163304494, 0.0, 0.0, 8.53944577029, 7.24281207398, 12.0638365863, 0.0, 14.0104843978, 1.50903704235, 0.387031609526, 0.387031609526, 11.1259622877, 9.42900494888, 10.3272045589, 0.0, 11.7821464236, 10.7495510275, 0.0, 9.87048339795, 1.15756117609, 0.0, 0.691891444525, 10.6266216524, 10.5664156183, 0.691891444525, 8.44071139665, 10.4224642911, 9.52431642938, 9.03448260772, 0.0, 1.65709117371, 9.1869709336, 6.06939713395, 0.387031609526, 11.1133905639, 9.00368093517, 10.5132735986, 3.92160770731, 7.45501480807, 9.03519224622, 0.0, 0.0, 8.861086906, 10.4697740752, 12.6404709046, 9.79354153623, 8.36473437623, 1.50903704235, 0.0, 11.0513653037, 5.7445755417, 0.0, 0.0, 10.0331063448, 0.387031609526, 8.49462361487, 0.691891444525, 9.51215971302, 0.0, 11.0347439493, 9.26817002124, 10.6819850461, 0.0, 9.38199493924, 8.68213081426, 7.85845974119, 0.0, 0.691891444525, 8.93096495796, 0.691891444525, 0.0, 4.06111084947, 7.73470962023, 8.02279500946, 12.482981856, 8.13600677121, 9.9627846909, 9.14602891647, 6.00864374968, 13.3465275839, 2.32192809489, 0.691891444525, 7.50962459207, 4.57176780973, 10.19711838, 11.9164841087, 4.9613362423, 5.53442584192, 12.2785598051, 10.9479729189, 9.29762247288, 7.79790789768, 1.51212572994, 9.57058626221, 11.6090725179, 9.39578045434, 4.45437990954, 11.581963163, 13.6850224961, 10.374452674, 0.0, 10.3309616816, 3.73418934342, 11.787555716, 12.3300765548, 8.65188046441, 0.0, 6.71000739325, 2.95776605096, 8.80562135877, 12.6453184314, 10.8510853115, 0.0, 5.63271607952, 0.387031609526, 3.70043971814, 10.2355595397, 10.4369509305, 8.16046140952, 8.70416994578, 10.1627941193, 7.1205385695, 8.39528563206, 0.387031609526, 8.10731647817, 11.1275494537, 4.16151688628, 8.89162575743, 8.2311971756, 4.13876532995, 7.20118294851, 10.7549542921, 0.691891444525, 10.6400370141, 10.4449320489, 1.91425834882, 5.50168435063, 0.0, 0.0, 9.75911920657, 0.94343378387, 8.73444882783, 7.62087961136, 0.0, 1.50903704235, 0.387031609526, 6.16176275086, 8.04313120859, 7.9546441744, 9.41889619291, 9.98616913842, 0.0, 0.0, 6.74354189581, 10.4900786929, 9.30886458512, 0.0, 11.1443140961, 12.6099774486, 9.74418632905, 12.4510719881, 0.387031609526, 9.98222355172, 8.33470234226, 8.89131589046, 7.85845974119, 1.50903704235, 12.1342530324, 0.691891444525, 9.61937265801, 7.93482312426, 7.03511799808, 9.20438284803, 0.0, 9.75398887753, 9.69576419927, 0.0, 4.90318773946, 4.60789840178, 9.77085381737, 0.94343378387, 3.95060838424, 10.831734763, 10.8159996321, 0.691891444525, 7.63327135414, 0.387031609526, 8.42939837198, 8.70602972169, 12.8731037778, 4.03426854744, 6.7559157238, 0.0, 0.0, 1.64154602909, 10.7058310682, 1.15756117609, 0.0, 0.691891444525, 2.0274725702, 5.9666727112, 0.0, 0.387031609526, 10.2805040092, 10.1349139817, 0.0, 8.77858313426, 0.0, 8.79566630985, 3.26534687483, 10.3867786199, 10.3589917818, 8.83507770762, 0.387031609526, 10.5675948812, 0.387031609526, 6.80378240845, 9.29125820251, 9.62837627453, 10.6181744055, 0.94343378387, 5.07105041163, 7.25738784269, 0.0, 8.44992860435, 0.94343378387, 11.5834071963, 8.05956618885, 5.16064594683, 10.015205951, 8.14387295835, 9.93856221137, 9.9493773485, 10.1090209512, 9.62669100226, 4.75800995998, 9.75860799315, 0.0, 3.51872396105, 0.0, 1.65709117371, 0.0, 4.69616634734, 9.66437972608, 8.43173994831, 9.29691620688, 3.59417827401, 1.79139734815, 9.84271332885, 8.72608870273, 11.1071647557, 9.2066383405, 7.47760447869, 3.31079089238, 10.6790049875, 0.0, 0.0, 0.0, 9.32694849431, 8.21730343087, 10.0224787853, 10.9085652535, 11.3623219383, 6.35076949472, 2.13244523393, 6.91518624082, 11.024551011, 12.3728024985, 10.0961089635, 9.40759493633, 6.24570671227, 0.0, 0.0, 10.5072594755, 0.691891444525, 8.90156384157, 5.5211481281, 10.9977440261, 1.65709117371, 1.65709117371, 8.34156329871, 4.62598931954, 11.8627845638, 8.55606532354, 8.67052170932, 0.691891444525, 6.76410194812, 5.68542160425, 0.691891444525, 8.21879569539, 9.2705639815, 0.387031609526, 13.2453967228, 7.87367787785, 0.0, 3.92775426259, 9.1175444078, 10.1226338972, 6.44039081934, 0.0, 9.3583984599, 0.0, 1.50903704235, 0.691891444525, 8.30413224813, 2.48938879332, 9.2126374256, 9.25901820375, 12.9124440375, 4.43398762891, 9.22594486696, 10.888096326, 10.8656714176, 9.48817354315, 5.42109535327, 4.69616634734, 3.6304753678, 7.13064263141, 10.9241815576, 0.0, 0.387031609526, 0.387031609526, 10.9983224556, 10.4879204046, 11.3697227452, 10.8180308764, 9.13027452899, 10.0624644451, 4.37359253462, 1.15756117609, 10.9909194164, 9.69147484236, 8.72971929886, 10.7214239295, 10.701306462, 1.79139734815, 4.06111084947, 3.6304753678, 3.76455847535, 3.76292280264, 6.14033899209, 0.0, 1.34397626007, 5.75283153329, 13.0509080648, 0.387031609526, 8.21730343087, 1.34397626007, 0.0, 1.50903704235, 9.95564990753, 2.0274725702, 1.50903704235, 10.4538570599, 8.49092706988, 9.84609366117, 0.0, 10.5925317864, 0.387031609526, 7.09803208296, 11.0646888816, 11.3031243096, 11.2477910679, 11.1350679458, 8.93550394734, 0.0, 4.932557296, 0.94343378387, 6.96578428466, 12.0001232719, 10.0599662947, 2.13244523393, 0.0, 11.1772762581, 11.0617896958, 0.94343378387, 9.70163915326, 0.0, 8.52386379274, 6.00173244765, 0.94343378387, 8.97485622208, 0.0, 5.23325152687, 1.50903704235, 4.932557296, 9.42707185098, 0.387031609526, 3.10999567349, 9.26912667915, 5.63700445607, 0.0, 6.16529293419, 7.42691046784, 4.53317708281, 1.65709117371, 8.60704544584, 7.13639648645, 0.0, 3.92160770731, 8.45722490361, 6.80509894812, 0.0, 0.0, 10.3206313409, 5.11013352316, 10.3419857472, 8.99326393226, 7.09154117127, 11.0043820054, 0.691891444525, 8.59446644019, 11.1763165386, 0.0, 4.00691734308, 10.6916737378, 9.94397991434, 9.54228707365, 11.8359595918, 0.0, 4.43398762891, 0.387031609526, 8.046496517, 0.0, 11.1127913407, 1.91425834882, 8.36059253302, 1.15756117609, 9.001948576, 9.47151874461, 3.70043971814, 0.0, 7.56224242422, 3.77853451295, 8.75514462628, 1.15756117609, 10.5737229175, 9.94262739474, 0.0, 9.00540840943, 9.93856221137, 8.98101921056, 10.1696369346, 8.6507753276, 13.7221244369, 3.92160770731, 6.42497413982, 10.7066255181, 7.1205385695, 9.23196034253, 0.691891444525, 10.2385002789, 8.15637639025, 0.387031609526, 10.0777370246, 4.32746462016, 1.15756117609, 6.71424551767, 4.76308220296, 8.17799251549, 4.16374828406, 3.66588162174, 8.98802850892, 10.0186313925, 2.77530343883, 8.14074798592, 7.35009054778, 11.9811569616, 9.38120981672, 10.7804167354, 9.22084262422, 8.1454431001, 2.42800835511, 8.59446644019, 1.34397626007, 0.0, 0.0, 8.87911146327, 9.08112388461, 9.88745520573, 10.126214028, 10.3620314729, 0.0, 0.0, 0.387031609526, 0.387031609526, 12.062902863, 10.2472867007, 7.04627277101, 10.308430049, 8.20532408345, 1.34397626007, 0.691891444525, 8.80958165134, 9.45706480599, 6.08974600801, 5.8938839526, 9.29196724313, 11.0362285713, 9.16006553266, 7.38503406888, 2.83995958749, 10.3630396303, 7.42691046784, 1.70553562852, 10.1537420142, 5.09722310452, 7.35281148126, 10.8251416506, 9.85570633633, 9.09904529933, 4.03426854744, 0.0, 9.1576349403, 11.5751373918, 3.89202180418, 0.0, 10.7667193781, 9.82618141135, 10.4820314549, 0.0, 11.5662348395, 0.691891444525, 13.1110867534, 0.0, 13.4152268054, 8.20832703907, 11.3902119569, 0.0, 1.65709117371, 7.55281508856, 8.65408462035, 11.6137526371, 8.49585502689, 6.40415890439, 7.88311368241, 3.21842471144, 0.387031609526, 9.02001874778, 0.0, 10.4922337573, 0.387031609526, 10.3354796829, 9.46901495318, 9.04628368625, 7.77174035117, 9.43222033773, 15.3279209895, 2.70895970441, 0.387031609526, 0.0, 11.2464674699, 7.21916852046, 12.0456811777, 0.0, 8.41232426079, 8.50443766064, 8.85534816316, 8.64413388184, 9.92720758488, 5.56868579189, 7.97772067965, 10.9134055611, 7.96711671939, 8.54303182026, 8.31393057028, 8.99413560175, 12.5675354657, 7.32815429646, 1.15756117609, 13.2569457728, 8.4933951541, 11.1315097462, 7.54332574426, 7.28326433719, 9.74055996076, 0.0, 7.18906348476, 8.05272562471, 8.71239630939, 9.4733932333, 1.15756117609, 0.0, 0.691891444525, 10.8711351842, 10.1222326794, 4.18830596568, 8.94274027531, 0.94343378387, 7.82948173733, 8.82825710052, 0.387031609526, 7.62205181946, 8.51175265377, 0.387031609526, 8.12967970354, 11.3164116513, 10.6364161759, 8.44071139665, 0.0, 11.4488699864, 7.78790255939, 6.78034947337, 7.96888562854, 14.004036079, 0.387031609526, 9.40497760793, 11.3073659069, 9.41319844121, 0.0, 7.89435093351, 0.0, 0.387031609526, 10.5142603671, 1.91425834882, 6.34532007973, 0.0, 6.6929571751, 9.68285943439, 0.0, 1.34397626007, 10.2670441418, 2.4080868295, 8.66177809777, 10.8421696023, 11.2239654857, 9.88792427183, 7.75540170458, 7.48505644497, 9.47026840904, 6.39326860088, 6.31775990418, 10.5126812133, 5.32469901341, 3.49805934662, 10.7982206644, 8.12013936111, 8.63522837328, 0.0, 7.66861556151, 9.15617916846, 8.88844189504, 0.387031609526, 2.13244523393, 9.37453744259, 0.0, 7.20719983249, 0.0, 9.91254358676, 0.0, 6.27907193626, 6.13403196391, 6.38834799066, 8.1749256825, 10.0674074696, 8.59626058439, 10.907408971, 0.0, 4.64385618977, 4.62598931954, 0.0, 0.0, 11.5336655433, 9.96633961536, 10.4075120881, 0.0, 4.3710221081, 8.58756001764, 10.8587580999, 2.56635244343, 2.0274725702, 9.90746906045, 0.0, 10.9044013031, 6.81624129206, 5.93073733756, 0.0, 0.0, 9.45263661444, 0.0, 9.45010187132, 10.6511234653, 8.13442632022, 10.1238239516, 10.7058310682, 9.0148796923, 6.07599249179, 10.7151040092, 9.3137560206, 3.95060838424, 3.81525775507, 10.113846328, 11.3266429542, 0.0, 6.48651648759, 0.387031609526, 9.86287597911, 0.0, 6.36699531489, 1.91425834882, 12.2352034949, 2.77530343883, 3.05550804235, 8.60931912161, 8.57364718749, 9.87285184001, 8.7055114378, 7.97242844203, 3.6304753678, 6.51509267492, 8.98628008553, 11.1904420188, 9.77085381737, 5.88744972223, 11.1336495716, 0.0, 9.41671731702, 7.70948364394, 2.32192809489, 10.4891555415, 3.26534687483, 1.34397626007, 1.15756117609, 0.0, 9.86478198468, 10.5175906577, 4.77933852531, 11.1304997776, 2.63941740915, 2.0274725702, 1.91425834882, 5.56868579189, 0.0, 2.95776605096, 8.14701153487, 12.416412265, 0.387031609526, 10.2200033959, 8.39660478118, 10.4503349238, 10.9373738202, 0.0, 12.3107206958, 9.47464289259, 13.5430076462, 8.18411165272, 7.55045436956, 9.69950651984, 8.25802418544, 0.691891444525, 7.74687033233, 7.30868487141, 11.3027931229, 5.67676951057, 6.28397916791, 0.387031609526, 9.08929686796, 9.85090878602, 0.0, 2.63941740915, 0.0, 10.1291413167, 0.0, 9.37051959113, 2.32192809489, 10.5007622255, 10.6703198761, 10.4253732796, 10.4369509305, 6.33215652546, 0.0, 8.78027072364, 9.0002169515, 11.2441378388, 8.57248044268, 3.06774195949, 0.0, 9.74573818096, 10.6681315377, 10.5896511465, 7.24573332892, 1.34397626007, 10.0533014381, 9.11834155509, 9.00108443137, 2.63941740915, 0.0, 8.62851480242, 0.387031609526, 9.8709580138, 14.7368141314, 9.44883076338, 10.9314762339, 0.387031609526, 10.602327706, 11.5666772316, 9.70696043758, 0.0, 0.0, 7.88499468082, 12.0259112392, 8.86585078463, 15.3376776465, 8.87628057078, 10.6522265426, 1.15756117609, 10.4783044851, 11.1117877358, 10.4692551476, 10.390082951, 0.0, 9.98091071342, 1.15756117609, 9.15617916846, 9.4858293087, 8.63746172074, 0.0, 10.7510921001, 0.0, 0.0, 8.9950067449, 3.51872396105, 11.181866593, 6.51023089517, 3.39759763012, 10.5226796037, 0.0, 0.0, 1.65709117371, 3.86180652273, 5.88639894418, 9.31611179293, 2.32192809489, 0.0, 11.1896269159, 12.0692181389, 0.0, 5.76993567255, 3.06774195949, 10.3914047154, 1.91425834882, 12.6693102862, 8.45216297648, 6.96933471291, 11.4014128787, 9.29408997841, 13.5775468447, 0.0, 11.7403331152, 8.70070673073, 0.0, 8.83993125216, 7.03511799808, 8.06296895141, 1.15756117609, 2.77530343883, 6.86656184803, 8.4018650834, 10.3569580902, 10.1777060552, 8.30693661348, 9.32343312254, 9.74927614161, 6.90781602805, 9.97563305204, 6.64052260118, 8.84476538516, 4.3710221081, 0.0, 5.33078066694, 0.0, 7.04186719133, 8.44708322621, 0.0, 8.09924785724, 0.0, 10.6311042824, 0.691891444525, 10.2936440722, 11.6383318262, 0.0, 0.0, 7.64663070811, 8.06319012314, 10.4503349238, 0.0, 9.4558018752, 0.0, 12.3855523712, 1.65709117371, 11.0097726436, 10.9700483543, 9.04544570115, 8.58871463558, 0.0, 8.43430712972, 8.43045255167, 11.8878374756, 1.34397626007, 9.29125820251, 10.0143413436, 11.572937025, 7.02492909621, 7.86798909983, 0.691891444525, 11.5687256876, 1.50903704235, 0.691891444525, 7.06193816773, 2.56635244343, 10.475814479, 6.39890782924, 5.87887735096, 0.94343378387, 8.14701153487, 8.81057163474, 10.8534889063, 0.0, 9.14681302862, 0.0, 10.4101227061, 9.59016596852, 9.91806118593, 4.94702086696, 10.1278009173, 0.0, 9.3918214111, 12.2781154624, 0.0, 9.94262739474, 11.3405789585, 8.62851480242, 10.211851801, 9.04292335111, 1.34397626007, 1.34397626007, 6.51509267492, 10.716948038, 10.3347872447, 5.8938839526, 8.79865971994, 0.387031609526, 0.387031609526, 0.387031609526, 5.27970157359, 8.67920912889, 10.8885682278, 9.1585137578, 7.59245703727, 2.32192809489, 1.47108338485, 11.1540902503, 10.9057931289, 8.77351837958, 9.65779897013, 8.81057163474, 9.49385544924, 0.0, 11.8684946323, 9.6550494464, 0.94343378387, 6.55812678683, 0.0, 0.0, 1.65709117371, 11.6730042486, 10.7980586176, 7.92029330021, 10.2177759868, 0.387031609526, 3.31079089238, 6.52958047732, 0.0, 10.2351885331, 5.7610405477, 0.0, 0.94343378387, 3.9815695651, 8.81649091155, 8.61385943395, 0.0, 8.76231891423, 9.27271841994, 4.53317708281, 5.34668392125, 1.15756117609, 8.20230996602, 8.39264800251, 6.08255783575, 4.62256728944, 9.68393852047, 7.77861598558, 1.34397626007, 8.88663549694, 3.97903756635, 0.691891444525, 0.0, 3.35484705629, 9.40093919164, 1.34397626007, 10.0973210909, 7.74715910706, 0.0, 4.60789840178, 0.882134348554, 12.5094904942, 2.13244523393, 8.20532408345, 7.8411428777, 0.387031609526, 4.11615678866, 10.9493233572, 2.63941740915, 10.6771117849, 8.77250593073, 8.55527166804, 1.6372856439, 9.5024499514, 8.12013936111, 0.0, 12.9010554326, 0.691891444525, 10.104192488, 0.0, 2.77530343883, 9.01830590765, 8.97661853669, 1.65709117371, 0.94343378387, 6.91151183292, 4.97551555111, 4.74664598834, 8.50931976123, 10.4458942699, 0.0, 7.30588846446, 0.0, 10.0608039947, 11.1251680494, 8.94252330223, 6.0896146702, 7.41394943227, 8.74348803979, 10.7337356417, 0.0, 3.39759763012, 0.94343378387, 6.5675180683, 1.79139734815, 8.95888616419, 9.03109188258, 8.06116054516, 9.32140727815, 10.6447575925, 8.50931976123, 12.5859906181, 4.21245261123, 9.73796217469, 0.387031609526, 3.66588162174, 14.4530004893, 9.71249432879, 10.0449131776, 2.13244523393, 10.6209987072, 3.31079089238, 0.691891444525, 1.50903704235, 11.8526192362, 11.5800182554, 10.2582008975, 10.4698758038, 8.90712200938, 2.4080868295, 4.73001492439, 10.7298161484, 9.47962467088, 2.83870978523, 1.15756117609, 9.04628368625, 11.8005561676, 1.34397626007, 10.5435248824, 10.3334125521, 8.4933951541, 8.24811732925, 0.691891444525, 10.4474758835, 0.387031609526, 9.67527785404, 4.6615044941, 10.261460296, 9.88604861633, 8.45722490361, 9.22604123519, 9.43157699731, 7.75989483924, 9.33177910114, 11.6288328194, 9.80052623881, 0.0, 8.91633929524, 9.75398887753, 11.5264601147, 8.94544383638, 4.08223421641, 7.70948364394, 8.2143191208, 9.36649051885, 1.65709117371, 7.99173724222, 0.94343378387, 1.65709117371, 8.39000554184, 8.98101921056, 4.62598931954, 10.1416218216, 4.82703650597, 9.9970665454, 3.37466393414, 0.387031609526, 13.7943650949, 7.42174506655, 11.1390076814, 0.387031609526, 7.65105169118, 8.20982861249, 7.03511799808, 6.249386555, 11.4040345468, 7.34190571385, 4.84259171533, 10.2095508417, 8.31532167887, 13.5457488177, 10.0948958168, 2.0274725702, 11.1665020573, 0.0, 10.6654069842, 1.65709117371, 10.7420483293, 8.06484513724, 10.5224344101, 8.28468994359, 7.36632221425, 11.9846641091, 7.2746903054, 8.81254635715, 10.0314117388, 10.0512089409, 10.3522089896, 2.95776605096, 4.58957774602, 3.35484705629, 2.13244523393, 10.8805860488, 9.19835172369, 2.0274725702, 8.96187216709, 4.28255100537, 10.0624644451, 8.64080165846, 0.94343378387, 2.64367151299, 8.73027312241, 8.12173035279, 9.95386032111, 10.6372497738, 8.7335949957, 0.0, 8.95710204156, 11.7267758822, 1.50903704235, 8.0846064495, 9.13738568518, 7.67948009951, 9.93312261104, 9.49999931472, 1.65709117371, 11.4131783389, 1.91425834882, 9.4250375227, 3.66588162174, 9.80251636512, 10.9533598284, 1.65709117371, 0.0, 2.4080868295, 8.2714630279, 8.0846064495, 9.2870012442, 0.387031609526, 0.0, 9.48953892173, 10.1948553285, 8.19627261103, 8.56489256288, 9.65725055645, 2.4080868295, 7.97065812279, 0.0, 0.0, 10.5215219236, 7.67079077637, 2.32192809489, 0.0, 2.0274725702, 8.71662057344, 7.21618321867, 4.97551555111, 0.94343378387, 0.0, 11.0452886954, 1.65709117371, 12.6159307417, 3.66588162174, 6.70150747213, 0.387031609526, 8.81254635715, 4.34940774248, 10.4535072907, 9.2582951351, 0.0, 11.7559474268, 1.91425834882, 9.51769300641, 10.228914867, 2.32192809489, 6.5907307509, 0.0, 9.48211013252, 10.667040559, 2.0274725702, 9.61201700071, 0.691891444525, 10.0364895969, 10.1050049048, 10.7725702605, 0.0, 8.56546770522, 8.72293728252, 12.7991095727, 8.92458391036, 9.42448965146, 8.54184004108, 6.43013135945, 11.0264681128, 0.0, 12.3831426552, 6.08255783575, 10.7498024017, 6.45057618632, 8.61680244176, 10.4903896218, 0.387031609526, 0.691891444525, 10.579532797, 10.4506545364, 10.4947056084, 8.58525176213, 0.0, 11.5949357069, 0.94343378387, 11.4182163066, 6.02236781303, 7.93482312426, 9.93629783509, 6.15928203189, 10.7544365895, 9.50367271677, 8.34566249146, 7.45248012518, 6.80437629077, 8.57364718749, 0.94343378387, 11.4306511699, 0.691891444525, 10.1158499811, 7.97948235894, 7.42174506655, 10.6436487875, 8.42787849599, 5.84065709086, 2.83870978523, 11.0890333038, 10.2418044398, 9.04123750552, 8.58871463558, 7.57914997096, 11.4198180075, 0.387031609526, 10.2399684036, 2.60989676664, 0.691891444525, 4.45902498364, 11.0000563542, 2.4080868295, 7.28326433719, 3.76520585927, 9.24372381689, 9.9502759331, 11.4706182056, 8.76843909017, 11.0427674383, 4.73001492439, 9.4507349439, 0.0, 12.456847209, 8.64966934358, 0.0, 8.75411585474, 5.43141569948, 10.9678386617, 7.48753458416, 8.01423253369, 0.387031609526, 0.694657365547, 8.4265876474, 10.1293860629, 0.0, 9.50794722487, 3.83094486171, 9.17857024495, 6.72892726763, 0.94343378387, 9.73588091102, 9.43543065992, 8.9373179064, 0.0, 3.75176362659, 10.0065925703, 9.16161564021, 0.0, 0.0, 3.92160770731, 9.66929433964, 2.23029525435, 8.21132862469, 10.6757541948, 9.61711478381, 9.56121537893, 8.30833903014, 0.691891444525, 0.0, 3.66588162174, 11.0011407432, 8.26714716938, 9.65007880014, 12.1973334312, 7.79990325514, 3.11973796755, 11.2066847329, 5.90873846583, 0.0, 9.44182787793, 3.66588162174, 8.67378606671, 1.79139734815, 6.60903686308, 10.720004787, 9.75193062279, 9.44182787793, 11.2111886733, 6.51023089517, 9.37335457944, 0.387031609526, 6.23766887276, 1.65709117371, 3.35484705629, 0.0, 0.387031609526, 9.1938086972, 10.4311737189, 6.37236362013, 8.96362439688, 8.81452158465, 11.8165237109, 4.00691734308, 8.26137096661, 8.58409436834, 0.0, 11.1915836234, 6.97527478761, 5.84838257555, 8.87722584164, 11.3693901416, 9.89679859308, 0.0, 9.87327337837, 3.06774195949, 0.0, 0.94343378387, 3.26534687483, 10.0620461377, 9.97076739369, 0.0, 0.691891444525, 7.91248221131, 1.34397626007, 8.22474454323, 9.72962074355, 8.36598554612, 0.0, 0.0, 8.9061961315, 8.63968799907, 6.73106102014, 6.51853513898, 5.78538838328, 11.1747821547, 3.6304753678, 0.387031609526, 5.2214015164, 0.0, 8.70245669341, 8.38868034202, 9.35569025508, 10.6108126207, 0.0, 9.2061279256, 2.0274725702, 0.94343378387, 10.8518114944, 11.4385111858, 4.90318773946, 0.387031609526, 1.65709117371, 0.0, 0.0, 0.0, 10.2012785342, 9.84850245002, 4.85798099513, 3.21842471144, 4.71318990319, 0.387031609526, 9.68224847181, 2.23029525435, 0.387031609526, 0.0, 9.83689930647, 13.0349708655, 0.0, 5.87887735096, 4.47448796117, 10.9495495233, 11.2795641541, 9.94668115554, 3.26534687483, 2.63941740915, 3.51872396105, 1.79139734815, 9.28273168769, 11.0657257793, 6.93708539949, 2.13244523393, 11.0576262659, 8.87098112422, 3.47946340209, 8.20982861249, 9.3911619454, 10.6489147772, 12.0492461666, 2.13244523393, 11.4788858796, 0.387031609526, 0.691891444525, 1.50903704235, 0.0, 0.0, 10.6903035948, 0.0, 8.98890334642, 4.71318990319, 9.99837887537, 11.696867577, 8.85822038802, 10.1680954262, 9.13974830264, 1.15756117609, 4.39231742278, 0.0, 12.3750611585, 6.85364640486, 9.4845913196, 0.0, 9.58452849983, 7.50229877347, 4.32746462016, 9.00972226541, 4.23620175399, 6.00173244765, 8.75617266474, 11.086700186, 0.0, 11.1031369733, 0.387031609526, 8.30833903014, 8.60590541137, 11.8734748733, 12.1161684877, 11.3532902055, 7.68164603415, 0.0, 5.87887735096, 11.4266264316, 0.0, 0.0, 0.0, 8.08950344738, 1.34397626007, 7.36834057478, 8.70709334799, 1.91425834882, 0.387031609526, 0.94343378387, 10.5051267562, 10.9269260169, 1.65709117371, 6.99392339307, 7.30619843129, 12.3467907218, 9.94127360597, 3.16992500144, 10.4101227061, 8.68892166187, 0.0, 8.84937382267, 0.0, 9.04180970968, 4.88827566689, 8.3740352791, 10.0065925703, 5.71107084617, 0.0, 0.94343378387, 0.0, 8.39281970236, 11.0936222343, 9.41736520664, 1.65709117371, 10.7415344005, 9.18010060751, 12.0336604485, 8.09762659708, 9.04460449705, 12.4557433223, 7.7450893972, 0.0, 12.149283503, 10.9131736568, 0.0, 11.0611618956, 9.7514151815, 10.4182532079, 0.387031609526, 9.59833914915, 1.50903704235, 8.42529564279, 0.0, 10.3761253893, 0.0, 7.40611995088, 5.20945336563, 9.03786263765, 9.76576346435, 9.7498694274, 2.70895970441, 10.2527600323, 5.89813336138, 10.443026407, 9.16372262649, 13.3232799879, 7.19210537525, 0.0, 8.94993757083, 11.4115533573, 0.0, 11.3386918199, 9.86858491484, 10.4989987525, 9.41570163419, 7.60390818075, 0.94343378387, 1.79139734815, 0.0, 0.387031609526, 8.28679337871, 10.0237543533, 8.05319281166, 9.98835805545, 11.1528868961, 3.55694435279, 10.6884513981, 7.63550773086, 3.55694435279, 9.86335310384, 9.60804223754, 10.3814564301, 7.03451287075, 6.9728649401, 8.84765873527, 10.9104103817, 9.38851460642, 8.32227520162, 0.0, 8.80164693194, 8.36333317842, 8.49953898284, 9.20778062465, 8.86382387746, 0.0, 0.0, 8.18716399092, 10.084303489, 13.1845530554, 6.20205523907, 8.49691368044, 1.15756117609, 1.50903704235, 0.387031609526, 11.0522555689, 10.1993901575, 0.0, 1.65709117371, 9.46336701693, 0.691891444525, 9.24665035302, 2.13244523393, 9.27701999432, 12.1507468807, 5.09722310452, 12.6750065341, 5.79725167741, 3.39759763012, 9.01573561567, 6.30658670753, 7.36093485003, 6.98693421551, 10.7847002724, 8.14646175834, 2.89946568745, 7.67731090823, 10.7365964199, 10.131754091, 2.23029525435, 12.5810004553, 8.8987767069, 9.76400405466, 9.70908381255, 8.91817451391, 0.691891444525, 10.2549341186, 3.31079089238, 14.8569069303, 1.91425834882, 10.434711618, 9.36235591344, 0.0, 10.486895342, 6.29532813925, 9.19001476469, 11.995795411, 8.44326267754, 9.92035285542, 10.4968537774, 0.0, 9.09173949713, 0.0, 10.4111084178, 5.04439411936, 0.387031609526, 0.387031609526, 0.0, 0.0, 7.62430564217, 8.95083580668, 9.53512565522, 6.25520989881, 8.51296953787, 10.5760496777, 6.37236362013, 0.0, 13.5028069469, 8.92092446032, 10.3038720551, 9.19532544979, 10.3368524081, 7.44994098126, 0.0, 8.23643521558, 4.32746462016, 2.6408291275, 2.13244523393, 10.3714390686, 8.22770738741, 10.1753998469, 7.65105169118, 1.79139734815, 2.4080868295, 0.387031609526, 8.76945770207, 3.83094486171, 13.5182966174, 7.78991179343, 0.691891444525, 10.719320364, 11.3931866423, 11.5835529305, 3.21842471144, 0.0, 0.94343378387, 0.94343378387, 2.07881474842, 0.0, 6.45564285238, 7.39297850652, 9.11159214707, 11.7257283775, 9.51938267789, 0.0, 11.1932912578, 4.6615044941, 11.4369093006, 3.39759763012, 7.57963272994, 10.4829591747, 6.69723170644, 10.1281876988, 8.52868070451, 7.5575402859, 7.1395513524, 0.0, 10.8616220001, 13.0334367676, 11.2184724216, 9.71754448411, 11.1195896207, 9.23564569536, 9.65293278655, 6.79241289968, 4.71318990319, 3.20932858661, 3.92160770731, 7.24049560899, 9.35907306982, 2.23029525435, 5.55930213345, 7.32815429646, 9.19759513587, 7.1332449831, 5.38967349567, 0.0, 3.58458975635, 1.50903704235, 4.18830596568, 10.5478585061, 10.0466056488, 11.4280774689, 0.691891444525, 9.3158469605, 0.387031609526, 9.59776579421, 8.61725439721, 7.10449392178, 9.1823943534, 0.94343378387, 0.0, 8.81254635715, 0.387031609526, 1.50903704235, 11.689224892, 8.02790599657, 0.0, 1.58197784576, 9.2705639815, 10.6164753288, 4.3710221081, 6.36160695941, 9.43222033773, 5.40022367201, 9.26263751618, 9.88886042507, 11.067380578, 3.21842471144, 8.20230996602, 0.0, 10.5913820907, 6.28966481315, 9.85376958479, 9.86144520833, 8.63187549304, 7.49738882317, 0.0, 9.59260092584, 0.0, 8.21879569539, 5.90133032757, 1.15756117609, 9.27987750717, 7.97948235894, 1.65709117371, 11.2231208306, 9.24884077299, 5.34668392125, 2.4080868295, 0.94343378387, 3.79940856015, 0.0, 7.73470962023, 9.32523348721, 6.49061986663, 2.56635244343, 6.84085343892, 10.9382784396, 0.0, 8.42271236144, 8.68677013189, 8.92732167836, 8.28442159288, 1.15756117609, 9.65834896075, 9.59547195798, 11.0723403159, 10.419233382, 0.0, 11.4679162666, 7.63997011099, 7.54254439322, 9.58221350293, 10.2975353549, 0.387031609526, 0.387031609526, 6.03596255144, 4.69616634734, 8.97661853669, 11.7510628015, 12.8286403078, 10.9598353462, 12.1445849592, 0.0, 9.30606168943, 0.387031609526, 10.7979694841, 9.73171105135, 9.97297978607, 2.48938879332, 10.5737229175, 0.0, 3.89202180418, 9.55532727649, 0.387031609526, 8.59216921706, 9.15150369928, 3.31079089238, 10.2999978494, 3.11973796755, 0.0, 9.86525693277, 10.7034364383, 10.8999988172, 9.05811622765, 10.8542060872, 10.4455736009, 5.79549423519, 0.0, 3.75735400405, 0.0, 2.77530343883, 0.387031609526, 9.72962074355, 11.5630150896, 5.57475245155, 0.0, 0.387031609526, 10.0143413436, 8.18560889819, 0.0, 10.391737652, 3.66588162174, 9.78047743251, 0.94343378387, 9.39081813039, 0.0, 7.57626513876, 2.89946568745, 11.9131923602, 1.65709117371, 0.0, 11.1680452682, 7.10449392178, 6.55812678683, 6.48567476907, 9.17396439762, 10.3467685646, 9.2427049123, 9.08929686796, 10.0495354779, 10.6511234653, 0.94343378387, 7.21618321867, 9.28059216178, 0.0, 9.23711911711, 7.37168953559, 0.0, 9.31793487432, 9.6000559891, 9.69790236778, 0.387031609526, 7.98444694213, 7.92206699116, 9.04808084602, 7.48943054183, 8.66103340372, 6.02393838565, 9.30676349354, 11.4369561342, 9.00540840943, 2.32192809489, 2.32192809489, 2.32192809489, 11.2948389745, 0.691891444525, 8.61838550226, 0.0, 5.13560874279, 5.6634328636, 10.891844447, 0.0, 9.13659643104, 8.24537206097, 5.16064594683, 9.19532544979, 1.79139734815, 8.39528563206, 2.56635244343, 11.6005215831, 3.26534687483, 0.0, 5.87131387326, 14.1221161759, 9.54347848375, 1.50903704235, 4.47448796117, 0.387031609526, 12.8346685577, 2.70895970441, 6.20795335301, 10.0364895969, 3.31079089238, 0.0, 0.0, 3.55694435279, 7.30588846446, 12.002410695, 6.3233142194, 1.65709117371, 0.691891444525, 10.2395985292, 4.3710221081, 5.8938839526, 4.49431959822, 7.47260961556, 1.83313297392, 11.5864410688, 9.29408997841, 9.53811519458, 9.74677294177, 1.91425834882, 0.0, 8.58525176213, 0.0, 10.1388605351, 0.0, 2.77530343883, 9.50428470431, 5.45184410997, 6.28966481315, 0.387031609526, 3.11973796755, 11.3902227069, 0.0, 11.4762399063, 8.89131589046, 11.351513494, 1.34397626007, 3.87032526072, 2.83870978523, 0.691891444525, 1.79139734815, 0.0, 6.31218412242, 9.23785287459, 7.90365292398, 6.10207648542, 0.0, 8.57830097943, 11.8818481255, 2.70895970441, 4.98955685599, 6.0494303795, 10.5502273217, 11.7109699758, 8.96777959416, 10.9002252999, 0.691891444525, 0.0, 1.50903704235, 10.6704703685, 11.1564117862, 9.32832935712, 8.09924785724, 1.79139734815, 8.9967446306, 0.0, 8.98890334642, 7.57859157943, 9.59547195798, 9.40628580258, 10.3133138847, 2.0274725702, 1.79139734815, 13.2690477613, 10.2567512191, 0.0, 0.0, 9.69362111493, 10.3897603856, 0.0, 0.94343378387, 1.34397626007, 8.87628057078, 1.91425834882, 0.387031609526, 8.18411165272, 9.127697758, 0.0, 7.33916411445, 9.8407779236, 0.94343378387, 4.5710214422, 10.4273233212, 0.0, 3.83094486171, 3.11973796755, 2.32192809489, 0.691891444525, 8.77858313426, 0.94343378387, 8.32642948712, 9.342074668, 12.4834480044, 0.387031609526, 9.51766938813, 9.57233642823, 9.14916027031, 9.0860353523, 0.0, 7.61979447024, 8.30553739218, 0.691891444525, 6.09559956612, 9.88276072202, 5.17570821965, 10.4088179876, 0.691891444525, 11.9700231814, 9.98922417655, 12.3266232941, 4.67893951541, 8.2628183611, 1.65709117371, 9.68123841178, 8.31253358117, 8.4672917094, 0.0, 11.5166455578, 9.85090878602, 12.7484025284, 9.71807216754, 10.0398649335, 7.55741774907, 0.0, 9.59432460392, 0.0, 8.33882104791, 6.61810354346, 8.09112856612, 9.6871744445, 8.75617266474, 3.51872396105, 0.691891444525, 9.5018371849, 11.2698922501, 11.7255963209, 0.0, 8.65738633952, 10.7477398393, 7.13639648645, 11.2120829114, 2.48938879332, 5.07105041163, 8.10892689165, 11.3325121452, 0.0, 6.62036060514, 0.0, 8.29001884693, 10.2592960295, 0.0, 10.253847485, 10.8549307014, 1.91425834882, 0.0, 4.02557811921, 11.6634157845, 8.72713424378, 0.0, 0.387031609526, 10.3173900008, 10.6383635059, 8.27725484903, 5.20945336563, 13.7129675656, 0.691891444525, 11.4544175425, 9.5716066604, 11.1350679458, 5.60562174337, 0.387031609526, 10.8843460745, 0.387031609526, 9.36716354099, 8.68892166187, 0.0, 9.14132038256, 5.93131902844, 0.0, 5.14818165754, 10.4244077678, 7.86988990847, 8.12332476568, 0.0, 5.86371053417, 10.0143413436, 0.387031609526, 0.691891444525, 14.2014500823, 2.95776605096, 8.86013099783, 7.99696489585, 0.0, 10.6675905863, 0.387031609526, 8.77047229161, 11.0078262062, 9.22010016185, 9.88604861633, 8.62176984389, 2.13244523393, 8.8104720243, 1.50903704235, 0.94343378387, 7.73053806708, 10.1864980816, 10.7839395018, 11.3397219803, 0.0, 7.02492909621, 8.80462797146, 7.96000193207, 1.79139734815, 0.94343378387, 6.15286890146, 10.0014081944, 10.2039107768, 10.8307607849, 11.8178950162, 0.94343378387, 5.95955688761, 12.0347198804, 10.5096958419, 0.0, 8.62690998005, 10.8012071677, 7.97772067965, 8.62514626494, 7.34190571385, 7.76767465899, 10.9244116993, 9.49219769899, 0.387031609526, 0.0, 11.3997585647, 0.0, 5.77731976235, 0.387031609526, 10.2999978494, 0.94343378387, 0.387031609526, 9.77237726257, 0.0, 9.67853324016, 10.6754807592, 10.3711885582, 8.01251839283, 9.56824876646, 10.1876366248, 0.387031609526, 5.65050034714, 10.8822303551, 8.82532453744, 6.04425858709, 12.0474443239, 9.24956859447, 7.55920881409, 2.48938879332, 3.39759763012, 11.3847405873, 6.39890782924, 9.03701974547, 4.34940774248, 8.89505112157, 9.5458564262, 10.1967496464, 9.58799310766, 9.01058125315, 2.77530343883, 0.0, 9.4920073763, 9.00799714972, 6.9622945161, 0.0, 9.95832940666, 9.27271841994, 9.0259921895, 2.83870978523, 9.64897946974, 3.86332398516, 10.2596491206, 1.50903704235, 11.6541213278, 10.8118723655, 10.9205240629, 10.0736328164, 9.66273601417, 8.92549806611, 11.1334890342, 0.387031609526, 2.56635244343, 2.0274725702, 0.0, 9.57815565747, 2.23029525435, 0.0, 0.387031609526, 0.0, 5.93799637687, 11.383580103, 7.82000021036, 1.15756117609, 1.79139734815, 0.0, 3.79940856015, 10.5419193946, 6.08255783575, 8.7643607531, 11.4756169165, 6.02918119534, 0.0, 1.34397626007, 4.16374828406, 7.35009054778, 7.85845974119, 11.1991508685, 3.86180652273, 11.4396335256, 11.2738422122, 10.9810748836, 12.5175365281, 5.41069725652, 5.83289001416, 9.87993698815, 0.0, 0.0, 9.5623893579, 0.0, 10.3237078234, 9.38453554635, 11.0054631492, 0.0, 11.4351649688, 6.34788353215, 7.91473193529, 9.46650884813, 0.691891444525, 0.387031609526, 0.0, 1.50903704235, 9.81291852231, 11.0183601602, 0.0, 11.0958519143, 9.87332567746, 2.70895970441, 2.32192809489, 8.19778186324, 8.01766585143, 0.0, 9.41246823008, 8.44453869864, 13.3930283975, 4.84259171533, 5.54035280633, 8.06980955715, 7.38503406888, 3.21842471144, 6.55340812132, 11.0185757593, 10.9907067341, 8.29285075404, 5.64163561674, 0.0, 11.1686219802, 4.18830596568, 0.94343378387, 0.94343378387, 13.2397476836, 10.4670552648, 5.14818165754, 11.4654490663, 2.70895970441, 12.8222700722, 7.67296978589, 0.0, 11.796072065, 11.3034725446, 3.89202180418, 10.0284310199, 3.16992500144, 9.52612360048, 8.36463808743, 10.4646580577, 7.24573332892, 11.2283076455, 0.691891444525, 8.7926666759, 9.62388149001, 1.15756117609, 10.4385527695, 10.0760940691, 12.059787207, 3.31079089238, 12.2096635403, 9.16084205487, 0.0, 3.11973796755, 9.02854428936, 8.64856610604, 3.07671300176, 8.53467639775, 10.8465168216, 10.6735829231, 8.2956817044, 3.79940856015, 9.11033192003, 9.41020752498, 0.0, 13.5936712306, 0.387031609526, 8.64634989576, 3.47946340209, 9.86478198468, 12.606067403, 9.6311770557, 8.97972527899, 7.50718414007, 9.03448260772, 10.0309843288, 8.69536054698, 10.6102405108, 2.83870978523, 3.79940856015, 9.17165719892, 2.77530343883, 10.8130997577, 7.04186719133, 1.50903704235, 8.33738106108, 7.99696489585, 0.0, 9.22084262422, 8.36598554612, 0.0, 10.2252074369, 0.691891444525, 2.63941740915, 10.9920106923, 6.61357732575, 0.387031609526, 9.23858864733, 8.11053550951, 10.935562878, 7.35052376697, 0.0, 9.79053584758, 1.65709117371, 3.35484705629, 5.57800881081, 13.8709329771, 7.96178536773, 9.342074668, 12.6482362287, 6.90103581675, 4.88827566689, 9.71631018497, 4.51388231719, 2.65358745623, 9.91897799254, 10.995060467, 9.48706623639, 0.0, 7.35822920857, 2.13244523393, 7.0008676103, 9.79703730365, 9.22752449362, 11.3221365943, 3.47946340209, 10.3140167039, 8.20982861249, 9.97935373764, 7.24573332892, 9.09904529933, 7.8411428777, 0.0, 0.0, 6.99392339307, 0.691891444525, 4.03426854744, 0.0, 9.86573327085, 7.96888562854, 8.67812473722, 2.23029525435, 5.29108042731, 9.47838134376, 6.33435910691, 11.8277991811, 11.2930749969, 10.6011300673, 7.90550133294, 10.6497411865, 3.01380167753, 2.4080868295, 8.49462361487, 13.0043960514, 10.2248337583, 12.839339625, 10.3627000038, 9.87791445584, 11.4943155976, 0.691891444525, 8.10892689165, 9.13817450779, 9.81968255163, 6.82410591459, 0.0, 7.07846040009, 0.691891444525, 7.90550133294, 12.0994727421, 7.96533986615, 12.6002892696, 13.6993121721, 10.5593770905, 12.5714469152, 0.0, 8.8781674275, 9.01230328349, 9.87757862494, 10.0078962674, 0.0, 6.54392423592, 0.0, 12.0988677089, 11.6066550484, 0.0, 11.5904794519, 10.9180060099, 8.7957150065, 0.387031609526, 1.34397626007, 10.7834402838, 0.0, 10.7510921001, 8.75924906256, 9.37787857129, 7.89807530106, 11.7309583122, 9.16703170271, 9.87569099749, 8.53826266576, 11.0982821635, 9.03109188258, 0.0, 12.3082736068, 9.04963893513, 4.11334211427, 8.72503899403, 8.63634547917, 10.2188901212, 6.51509267492, 9.05382273126, 2.48938879332, 9.19077533728, 9.62893577265, 13.7171730197, 11.2722273604, 10.3407180304, 7.02151304049, 0.0, 8.86204218121, 7.21403735486, 0.0, 7.13639648645, 11.2516185075, 7.46760555008, 3.70043971814, 3.01380167753, 0.0, 1.91425834882, 9.70643040028, 10.2929427553, 0.94343378387, 0.94343378387, 9.39775590925, 8.52145125538, 11.5616936759, 0.0, 9.56180153337, 8.90434560216, 9.5994833162, 10.2303927736, 1.34397626007, 5.16064594683, 12.7779025332, 9.41216333694, 10.7718030648, 8.24683083832, 8.00408560245, 3.26534687483, 10.142004916, 8.52627230248, 1.34397626007, 10.6425391295, 7.9546441744, 0.0, 10.5725581287, 5.79341473062, 11.9527703628, 8.10247967289, 9.11514251496, 9.84609366117, 6.93346641498, 9.90596005783, 0.387031609526, 1.79139734815, 9.87852304596, 4.71318990319, 11.1793804195, 0.0, 9.17319740729, 2.0274725702, 0.0, 0.387031609526, 8.99326393226, 0.0, 7.98801998517, 2.32192809489, 0.387031609526, 8.40804520773, 8.29709051244, 8.4483558741, 5.23325152687, 8.53826266576, 9.38387058157, 10.9154760847, 2.0274725702, 10.2151568065, 11.3386639675, 11.2510740429, 0.0, 8.59791101603, 7.40350633364, 8.09223387091, 11.5078342741, 4.08746284125, 7.86260636485, 7.79591626855, 9.8030138718, 6.24494602884, 8.42141688009, 7.32815429646, 4.85798099513, 9.03194100028, 1.15756117609, 9.974299858, 5.73627203218, 0.0, 10.4247331755, 9.8334989181, 10.16886012, 0.94343378387, 1.79780157395, 9.96545098361, 0.387031609526, 9.1862083522, 0.94343378387, 0.94343378387, 8.40187787958, 2.0274725702, 0.0, 0.387031609526, 9.75963190321, 9.97563305204, 8.71662057344, 3.6304753678, 9.57408447365, 8.80462797146, 7.51933746217, 9.56121537893, 7.74094779244, 9.08439916764, 7.4625840673, 0.387031609526, 7.54332574426, 9.49938550624, 9.73223188326, 2.23029525435, 10.2300204357, 0.0, 8.18868279708, 0.0, 3.66588162174, 4.71318990319, 11.1269496327, 5.66806805292, 9.87710771665, 6.44549166367, 8.45216297648, 0.0, 0.0, 8.87439124307, 10.0419739369, 0.387031609526, 10.8711582918, 13.147265354, 12.7370677345, 10.1533620242, 3.66588162174, 7.225111013, 0.0, 10.954923292, 6.98342688836, 7.34190571385, 9.38120981672, 8.53587410691, 7.92206699116, 9.10308581697, 5.40985931167, 9.08358037893, 1.15756117609, 8.72083592412, 8.24683083832, 8.57248044268, 12.6140909535, 2.08824338267, 8.87060206655, 12.5550492128, 0.691891444525, 5.95240579251, 8.22325842245, 10.6430895544, 11.7466738653, 8.42916400518, 8.96450549027, 7.38503406888, 3.11973796755, 8.1454431001, 0.94343378387, 11.2567099468, 8.50931976123, 6.21394601202, 8.71239630939, 11.171896089, 7.39824774708, 2.0274725702, 9.79803592958, 9.3658171826, 0.0, 9.87899349258, 2.95776605096, 3.51872396105, 0.387031609526, 8.43173994831, 3.97903756635, 10.5705103673, 8.8408974877, 5.14818165754, 10.2050356662, 0.94343378387, 3.97903756635, 3.01380167753, 11.0002676627, 7.74854173829, 9.36109939661, 0.387031609526, 11.3316503603, 6.53915881111, 0.387031609526, 9.59719221132, 0.0, 0.0, 9.46210959344, 9.52190268702, 0.0, 9.42513615941, 10.3600020648, 10.757264987, 8.80462797146, 9.35907306982, 8.88757096348, 12.4380926829, 0.0, 11.0258316683, 7.80376303861, 0.387031609526, 8.49092706988, 13.8267669405, 2.63941740915, 10.6480968846, 8.67920912889, 8.65092966704, 3.01380167753, 0.387031609526, 1.50903704235, 0.691891444525, 10.5859014497, 9.13580674488, 0.0, 12.1199624039, 7.49493556537, 11.0838382943, 10.9391824921, 0.0, 13.0320061108, 9.24774479214, 3.86180652273, 12.1981841049, 4.49431959822, 1.34397626007, 9.97915363728, 10.1826798844, 13.3295721258, 0.0, 2.4080868295, 0.94343378387, 11.2628641559, 10.1248709048, 8.26137096661, 9.35297695691, 9.05298639887, 7.79591626855, 10.715721807, 0.387031609526, 10.015205951, 6.92982649667, 8.27719904543, 0.0, 2.4080868295, 8.72188869433, 1.69599381311, 11.2959009172, 0.0, 0.0, 10.9560421278, 0.0, 11.4394725027, 3.13244523393, 0.0, 10.9085652535, 9.64953283223, 13.2816736216, 7.42432587944, 10.0948958168, 10.7316414798, 7.54824394422, 9.95877598965, 10.5212274499, 10.6673155989, 8.77959461161, 9.94827669525, 0.0, 6.95866870635, 6.55340812132, 10.7799080913, 9.01769090245, 12.0189755755, 9.68986347663, 9.33796525377, 7.14896460086, 7.58091427461, 9.16316660047, 0.0, 2.70895970441, 10.3528931183, 4.21245261123, 9.49323902066, 9.49631653555, 5.48195438695, 0.0, 11.2950169762, 10.7585397066, 3.79940856015, 8.41493042028, 9.2334351342, 7.57232884812, 0.0, 8.47978026403, 0.691891444525, 10.0512089409, 3.92160770731, 11.2859858836, 10.3546350777, 7.63103878322, 1.87125225886, 1.10279248553, 10.108223864, 0.0, 10.4506545364, 2.4080868295, 3.95060838424, 9.6952282915, 2.13244523393, 1.50903704235, 5.60562174337, 6.20795335301, 7.76155123244, 8.88569637334, 3.35484705629, 2.89946568745, 7.59015286623, 0.0, 4.55222334923, 0.0, 0.0, 6.09391083554, 9.87474472012, 12.0883046097, 4.55222334923, 7.06857408323, 2.0274725702, 10.839503006, 3.70043971814, 11.2483367727, 8.22770738741, 10.1541345653, 2.13244523393, 10.2451010506, 0.387031609526, 9.48148866388, 2.89946568745, 3.95060838424, 8.7856420904, 5.48195438695, 3.89202180418, 8.53759504429, 7.01122725542, 9.62669100226, 9.44756060074, 5.17300347154, 5.58727196891, 9.05513327699, 2.95776605096, 10.8812898884, 11.4306511699, 7.5575402859, 8.51661010449, 12.3990936366, 2.0274725702, 10.3623602973, 0.691891444525, 0.387031609526, 4.11769504267, 9.81932011177, 0.0, 1.34397626007, 4.94702086696, 10.9062517611, 0.691891444525, 0.387031609526, 0.0, 11.7745647093, 10.2854946963, 0.0, 6.516015147, 9.82813648419, 9.94352872697, 10.0364895969, 9.95430828943, 8.98628008553, 12.8581753106, 8.57830097943, 7.66943785234, 0.0, 10.8525295094, 13.4170481569, 7.08501029784, 12.3890316601, 8.94364300205, 10.9972359454, 9.11354163313, 0.0, 9.4913901574, 0.387031609526, 6.56283006917, 9.17704324203, 9.56356238233, 10.8611489561, 9.24737928009, 10.0510865582, 10.133733044, 6.36699531489, 7.89621734704, 0.387031609526, 7.44230492053, 0.691891444525, 9.87946531749, 8.67160829067, 9.10389361312, 1.15756117609, 7.52416556628, 0.94343378387, 0.0, 1.50903704235, 0.387031609526, 0.0, 7.77377220486, 9.27844945822, 10.166552269, 7.17069623636, 10.6110985906, 9.14053583484, 12.2579534945, 7.98649626564, 10.9749092662, 9.81784386555, 10.8426489095, 10.6873756834, 8.3524672311, 11.0706911996, 10.3674147512, 7.65326069602, 0.0, 10.5095078138, 2.56635244343, 3.97903756635, 9.93765629886, 4.43398762891, 8.67812473722, 10.0883774957, 0.387031609526, 9.05131227823, 10.1549193473, 13.1013815363, 7.29178771384, 9.59719221132, 1.15756117609, 8.15013821972, 10.8651996998, 8.41622751353, 9.14289330332, 9.91806118593, 9.59374965099, 8.2128222163, 0.0, 9.96722625884, 10.8441015731, 10.5567263698, 13.6194863761, 0.0, 6.21394601202, 6.78839860452, 9.57814433307, 11.5279656411, 0.691891444525, 1.65709117371, 2.32192809489, 16.0966842746, 9.14985633348, 10.1126349807, 0.94343378387, 3.83094486171, 10.395694783, 10.1110313124, 9.83544252726, 0.0, 7.6945598678, 5.90873846583, 0.691891444525, 10.4298879083, 8.69214469659, 7.78388222329, 8.99152184608, 0.0, 3.26534687483, 9.8446461412, 10.7391983522, 11.4002657335, 7.43205744098, 6.39890782924, 13.276000782, 3.51872396105, 9.20362941731, 5.16064594683, 2.23029525435, 3.51872396105, 7.9384504737, 12.7946189341, 10.6369689413, 1.66133916674, 1.68773259476, 9.5488045729, 6.89294953708, 6.33435910691, 1.79139734815, 0.0, 7.6945598678, 1.34397626007, 10.3616916089, 0.691891444525, 10.1719523662, 5.77731976235, 3.95060838424, 9.21338373752, 11.2046200483, 3.31079089238, 8.73444882783, 12.5952038573, 0.691891444525, 10.2639968207, 1.65709117371, 10.8077574036, 11.357931322, 6.82902499956, 11.1403888444, 12.360276476, 10.0896093741, 8.55842071327, 8.61499320281, 10.7715554952, 6.60921863799, 7.74302344816, 9.59547195798, 9.38917528306, 8.28005620401, 11.9281482162, 0.0, 2.70895970441, 2.89946568745, 9.87663511994, 6.51509267492, 8.15792793895, 11.1285421574, 7.06857408323, 9.45895815665, 9.19759513587, 10.7264140255, 9.47775826644, 12.1717772742, 9.61315221784, 1.79139734815, 1.34397626007, 10.7769757916, 11.0412895335, 1.15756117609, 11.752476823, 9.18392066699, 0.0, 8.52868070451, 0.0, 0.691891444525, 4.99694456509, 8.31532167887, 9.53332973231, 1.50903704235, 1.15756117609, 10.511525362, 2.23029525435, 10.3386472558, 2.77530343883, 10.2957689344, 0.387031609526, 9.32487359397, 6.28540221886, 1.15756117609, 5.39790903848, 3.06774195949, 10.4385527695, 9.07948478383, 2.32192809489, 0.387031609526, 0.387031609526, 11.722577023, 8.50321355569, 9.0045435264, 9.22752449362, 9.44310309552, 0.0, 3.35484705629, 8.67052170932, 6.84742071536, 10.3261710373, 6.24353961034, 0.0, 7.17069623636, 9.32418054662, 0.691891444525, 8.75514462628, 0.0, 0.387031609526, 9.76167920778, 0.0, 1.15756117609, 10.1447601965, 9.68609602563, 3.6304753678, 2.96801700217, 4.47448796117, 0.691891444525, 10.3080773188, 9.53691934527, 11.0501411419, 0.387031609526, 10.2861996423, 9.96512770904, 12.0053964787, 0.691891444525, 10.6119469418, 10.034372555, 9.04796364891, 9.98616913842, 11.9673667742, 0.0, 11.3320813171, 10.3601118355, 0.387031609526, 5.35755200462, 4.64385618977, 8.3195005226, 10.1324483186, 9.0131607363, 13.4382460614, 0.0, 0.691891444525, 11.684376066, 8.33470234226, 9.51948489951, 1.50903704235, 0.691891444525, 0.0, 13.9737870387, 6.51809918031, 6.25520989881, 0.0, 4.08746284125, 7.49738882317, 6.36699531489, 8.23656436867, 12.9387452366, 2.23029525435, 12.5898851793, 8.76231891423, 10.2337155337, 13.2350074832, 1.15756117609, 3.16992500144, 8.2814849825, 1.65709117371, 11.1452953349, 9.16625850579, 3.21842471144, 0.0, 9.89026427702, 0.0, 10.6037005176, 9.90098300363, 11.1297273501, 9.26408129477, 0.0, 8.46100870403, 8.69854840975, 7.02151304049, 12.2614838028, 0.0, 4.87320784801, 10.0653622766, 10.3385692654, 8.49708538873, 6.51023089517, 11.2565271551, 0.0, 12.4996341501, 4.55222334923, 8.02450253133, 9.69469218457, 9.63005775977, 2.77530343883, 0.0, 9.10469833671, 9.84319559677, 2.95776605096, 1.15756117609, 5.30237389133, 7.89248210227, 7.96000193207, 6.87415759331, 0.387031609526, 14.0215699486, 2.77530343883, 6.87036471958, 7.10449392178, 11.2838465528, 6.7559157238, 0.387031609526, 13.4245862263, 9.13422864206, 5.26822851487, 11.1319083927, 10.7174793669, 8.03130145158, 9.91300456764, 7.77580120096, 9.97915363728, 8.08296864258, 0.0, 6.79241289968, 11.6314908487, 0.0, 8.55030813941, 10.108223864, 0.0, 11.6777548719, 8.9124852053, 0.94343378387, 0.0, 0.0, 10.2129218962, 11.8670701981, 8.52024150743, 7.25448066669, 10.3282485625, 8.47605759568, 1.65709117371, 9.73223188326, 6.49061986663, 9.68663533583, 8.98014814808, 8.16722744658, 3.6304753678, 8.88020491415, 5.43141569948, 8.53467639775, 8.52019435386, 11.8557366991, 0.0, 8.62963711685, 2.89946568745, 6.54829481437, 8.61725439721, 5.8910448542, 10.7682505019, 7.42432587944, 7.03850202858, 3.39759763012, 8.73906836696, 2.13244523393, 7.40087943628, 7.77377220486, 9.67725980841, 2.83870978523, 9.19420281224, 9.44501484587, 10.221490455, 9.28415782027, 0.0, 8.53175183467, 9.73275422281, 2.13244523393, 9.18315895295, 10.2046689508, 13.6085782599, 9.5255208091, 10.0143413436, 1.50903704235, 10.2441616296, 0.94343378387, 11.1786150591, 10.2940003485, 9.36716354099, 3.89202180418, 4.28255100537, 8.46478260651, 2.9770600675, 8.12013936111, 3.11973796755, 9.87143093337, 9.94802988187, 9.96407801052, 9.71384872197, 0.0, 2.77530343883, 10.3857761383, 10.6031255799, 10.4449320489, 7.83532408944, 0.94343378387, 0.387031609526, 3.66588162174, 2.0274725702, 0.387031609526, 9.44565222309, 8.90156384157, 4.08746284125, 4.94702086696, 11.2264603621, 10.7695238208, 8.23803685296, 1.65709117371, 8.67160829067, 9.84126241156, 9.30816380259, 0.0, 11.8813778442, 9.88932903459, 12.1916514741, 9.98266565219, 11.9232420504, 7.87178821603, 7.33916411445, 0.0, 10.1948553285, 11.0976766307, 10.385118218, 4.32746462016, 10.094090885, 12.3910985607, 2.36823754079, 11.9433316545, 9.46964181724, 8.90712200938, 9.27773374115, 10.5933911228, 10.305628588, 8.2706317214, 6.25520989881, 2.4080868295, 2.89946568745, 10.5121281009, 7.60390818075, 8.36733174748, 9.41281327444, 5.54035280633, 9.92355627782, 9.5588148175, 8.54579080046, 10.8585172422, 10.3700988764, 13.1113997923, 8.56312380191, 10.0641229867, 8.96155966495, 0.691891444525, 10.2087952296, 0.387031609526, 9.82862523536, 0.0, 9.6339724101, 9.95061130014, 0.0, 2.63941740915, 7.6945598678, 0.0, 0.0, 12.3467907218, 3.92160770731, 0.0, 2.56635244343, 8.96955344697, 9.70323742736, 0.0, 9.38785147355, 0.0, 9.30255210817, 9.58614735333, 8.5771379937, 0.691891444525, 0.387031609526, 11.8981062971, 0.0, 9.52973116563, 8.71133658696, 1.15756117609, 7.30296786188, 4.00691734308, 9.06960550832, 4.21245261123, 0.691891444525, 0.387031609526, 5.67676951057, 8.29850252834, 12.1091940307, 10.4795478785, 7.49247011724, 2.48938879332, 5.65050034714, 11.2297381155, 10.5419193946, 6.12133458266, 5.63646801801, 2.13244523393, 5.93073733756, 0.387031609526, 0.0, 9.82177398197, 7.6488392988, 9.81341085196, 5.49185309633, 2.4080868295, 13.3022105065, 9.81323446652, 8.85247020866, 7.32815429646, 10.8532471672, 10.3620314729, 1.34397626007, 12.3156930185, 11.2340330144, 0.0, 1.65709117371, 9.20588608707, 3.6304753678, 6.51509267492, 0.0, 10.2151568065, 11.1089752285, 9.2820180924, 0.0, 13.0757365119, 3.73418934342, 9.44628725081, 9.64455031975, 9.06131988392, 0.0, 5.60562174337, 8.62534721089, 3.01380167753, 9.24079133216, 8.67487019317, 9.2246263851, 10.0834793273, 1.65709117371, 13.2906092862, 1.34397626007, 6.9904330367, 8.59332015352, 10.2940003485, 10.2578356687, 11.8908798375, 2.70895970441, 1.50903704235, 0.691891444525, 0.387031609526, 7.63074763994, 12.5626288086, 9.90194842371, 1.79139734815, 6.7763014237, 0.691891444525, 6.35619840337, 8.55488426696, 9.10953033356, 9.87663511994, 8.2914377977, 9.93312261104, 2.4080868295, 10.3344409009, 8.2497534548, 0.691891444525, 0.0, 5.14818165754, 7.99869760545, 7.18601516695, 2.95776605096, 9.46210959344, 9.14446196178, 0.387031609526, 3.01380167753, 10.5646639658, 0.94343378387, 11.0469670889, 10.5582006568, 9.40694051795, 0.0, 9.23785287459, 6.47073695439, 11.7895051168, 5.69530903839, 9.90051816486, 11.1271496008, 5.56868579189, 10.4269880178, 9.9462308123, 9.78450889049, 10.4474758835, 8.37537399351, 0.0, 12.7455440807, 10.1937101516, 1.15756117609, 0.387031609526, 0.387031609526, 7.52657748488, 3.26534687483, 0.0, 0.94343378387, 10.5296550427, 11.0717170911, 0.0, 10.4795478785, 6.61357732575, 10.8799737352, 10.8791543593, 8.37358296497, 9.63954873118, 9.80350959252, 7.83236472693, 10.0173373645, 9.8533095554, 9.39369076419, 10.2203783277, 9.54871018676, 5.01723601956, 12.1038352729, 10.4250585098, 10.3313424552, 11.9076117629, 7.55281508856, 0.0, 1.79139734815, 10.2026870753, 6.94070707251, 8.90527266803, 0.0, 8.75617266474, 11.3047049639, 0.0, 11.5615457167, 11.5913446869, 2.32192809489, 10.8300239257, 12.2869360008, 7.79191172321, 6.72027846523, 12.1441929879, 2.23029525435, 8.75617266474, 11.5739737449, 5.05778382977, 8.98277401744, 9.66109220933, 5.98780971663, 0.65287651481, 9.49262433125, 7.16452483837, 5.87706445286, 9.1538433279, 0.387031609526, 5.63271607952, 0.0, 10.7042581492, 10.5266459464, 0.0, 9.27128326344, 5.76920311651, 8.70283759202, 3.43911777337, 6.34532007973, 9.11514251496, 6.74768278351, 11.5111843572, 5.55930213345, 7.76155123244, 10.3323834698, 10.0690872019, 8.50321355569, 8.75205945434, 11.7794977638, 3.30360542268, 8.50720793062, 1.15756117609, 9.91069968769, 1.79139734815, 10.0164879627, 9.67893810738, 10.8263260282, 9.60974757614, 8.94068945651, 10.0014081944, 9.18773311213, 8.34566249146, 1.34397626007, 9.47276799751, 0.94343378387, 0.0, 7.24892376793, 8.31810891917, 13.0131743481, 4.03426854744, 8.89784545601, 0.691891444525, 9.72909726806, 10.6654069842, 11.6487395535, 3.01380167753, 9.4186643297, 0.0, 3.59417827401, 2.0274725702, 12.7031876703, 9.10631167371, 11.2169761861, 0.691891444525, 2.0274725702, 0.0, 10.6164753288, 9.00778136514, 8.62514626494, 7.96000193207, 0.387031609526, 13.8280571258, 7.26257409766, 11.5432155298, 12.3679388753, 7.89209346974, 12.2923446421, 2.4080868295, 4.79541371019, 9.18010060751, 10.6019842989, 7.86418614465, 10.6673155989, 7.43719444147, 6.14033899209, 10.9398583238, 11.2123079045, 9.2870012442, 8.34156329871, 10.4366282673, 10.2046689508, 5.41069725652, 11.5515256304, 12.0822754713, 3.79940856015, 0.0, 10.4311737189, 9.4883724066, 10.6833280148, 9.79753670302, 8.96511760554, 7.04859585534, 0.0, 6.36160695941, 9.16934630457, 9.90446151798, 9.5122091056, 2.83870978523, 9.06201644678, 2.95776605096, 8.16103612014, 8.63746172074, 0.65287651481, 3.83094486171, 8.15170156121, 3.7671674621, 9.98353519645, 0.0, 9.39248272212, 2.48938879332, 8.01937945119, 2.70895970441, 6.99392339307, 11.6275703618, 0.691891444525, 11.7077904955, 10.2890390488, 7.59475753411, 9.52100753709, 10.8525295094, 8.37671146685, 0.0, 2.32192809489, 3.86180652273, 9.342074668, 9.18468445826, 10.1592280339, 10.8329532889, 11.0368604467, 4.25955873755, 10.4903896218, 8.95620769988, 9.74729004399, 8.81550498305, 9.29973690961, 13.8941546077, 5.87887735096, 3.01380167753, 10.0436561889, 10.2188901212, 12.3892790915, 0.94343378387, 7.45248012518, 11.9317901503, 8.15948286659, 10.8312438969, 9.44162249363, 1.65709117371, 9.15196533492, 9.88417051911, 12.1878530938, 0.387031609526, 6.33435910691, 0.387031609526, 6.88920581112, 8.09581368258, 2.95776605096, 4.53317708281, 8.2748766327, 0.94343378387, 8.24390704814, 10.0432323915, 7.79790789768, 7.67079077637, 8.74276415445, 2.9083710027, 8.74793448339, 8.97661853669, 9.22844113589, 7.59916155279, 6.38834799066, 10.2244599828, 6.86771117448, 5.9666727112, 8.71767642307, 10.935562878, 0.0, 9.91897799254, 0.0, 7.59704691712, 4.71318990319, 9.71720687108, 3.47946340209, 11.3877265638, 0.0, 10.8438582558, 9.35126612592, 5.85606691131, 0.0, 9.29055111703, 10.9790964606, 11.1651456805, 8.45342703755, 8.33882104791, 9.35704389296, 8.36194377374, 2.13244523393, 0.0, 9.48520944045, 10.0533014381, 1.91425834882, 9.06806615778, 9.41020752498, 4.32746462016, 1.91425834882, 0.691891444525, 1.50903704235, 5.72792045456, 10.3258226186, 8.76027085433, 0.0, 10.8546892037, 8.99587453652, 10.1838214436, 7.99173724222, 3.7671674621, 5.46195085528, 8.92366917498, 3.31079089238, 3.59417827401, 3.06774195949, 1.34397626007, 2.32192809489, 10.0682677369, 9.76423301542, 8.41773439467, 12.4976398071, 7.1981601578, 0.94343378387, 7.37168953559, 11.2023564978, 8.4265876474, 11.1768899543, 3.11973796755, 4.43398762891\n"
          ]
        }
      ]
    },
    {
      "cell_type": "code",
      "source": [
        "import heapq\n",
        "\n",
        "# Create a min-heap\n",
        "heap = []\n",
        "heapq.heappush(heap, -3)\n",
        "heapq.heappush(heap, -1)\n",
        "heapq.heappush(heap, -5)\n",
        "heapq.heappush(heap, -2)\n",
        "\n",
        "print(heap)  # [1, 2, 5, 3]\n",
        "\n",
        "# Pop smallest element\n",
        "print(-heapq.heappop(heap))  # 1\n"
      ],
      "metadata": {
        "colab": {
          "base_uri": "https://localhost:8080/"
        },
        "id": "pX3-vB9heblQ",
        "outputId": "03d031a6-adf6-49c0-8287-8d2f7d9de81c"
      },
      "execution_count": null,
      "outputs": [
        {
          "output_type": "stream",
          "name": "stdout",
          "text": [
            "[-5, -2, -3, -1]\n",
            "5\n"
          ]
        }
      ]
    },
    {
      "cell_type": "code",
      "source": [],
      "metadata": {
        "id": "m3HDVW5wez6W"
      },
      "execution_count": null,
      "outputs": []
    }
  ]
}